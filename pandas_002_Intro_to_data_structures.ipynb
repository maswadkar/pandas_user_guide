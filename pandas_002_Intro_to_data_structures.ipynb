{
 "cells": [
  {
   "cell_type": "markdown",
   "metadata": {
    "colab_type": "text",
    "id": "view-in-github"
   },
   "source": [
    "<a href=\"https://colab.research.google.com/github/maswadkar/python/blob/master/pandas_002_Intro_to_data_structures.ipynb\" target=\"_parent\"><img src=\"https://colab.research.google.com/assets/colab-badge.svg\" alt=\"Open In Colab\"/></a>"
   ]
  },
  {
   "cell_type": "code",
   "execution_count": null,
   "metadata": {
    "id": "Epl9X_g9Eu9j"
   },
   "outputs": [],
   "source": [
    "import numpy as np\n",
    "import pandas as pd\n",
    "pd.__version__"
   ]
  },
  {
   "cell_type": "markdown",
   "metadata": {
    "id": "Vz6wyG-ggfoK"
   },
   "source": [
    "# Intro to data structures"
   ]
  },
  {
   "cell_type": "markdown",
   "metadata": {},
   "source": [
    "<p>We’ll start with a quick, non-comprehensive overview of the fundamental data\n",
    "structures in pandas to get you started. The fundamental behavior about data\n",
    "types, indexing, and axis labeling / alignment apply across all of the\n",
    "objects. To get started, import NumPy and load pandas into your namespace:</p>"
   ]
  },
  {
   "cell_type": "code",
   "execution_count": null,
   "metadata": {},
   "outputs": [],
   "source": [
    "import numpy as np"
   ]
  },
  {
   "cell_type": "code",
   "execution_count": null,
   "metadata": {},
   "outputs": [],
   "source": [
    "import pandas as pd"
   ]
  },
  {
   "cell_type": "markdown",
   "metadata": {},
   "source": [
    "<p>Here is a basic tenet to keep in mind: <strong>data alignment is intrinsic</strong>. The link\n",
    "between labels and data will not be broken unless done so explicitly by you.</p>\n",
    "\n",
    "<p>We’ll give a brief intro to the data structures, then consider all of the broad\n",
    "categories of functionality and methods in separate sections.</p>"
   ]
  },
  {
   "cell_type": "markdown",
   "metadata": {
    "jp-MarkdownHeadingCollapsed": true,
    "tags": []
   },
   "source": [
    "## Series"
   ]
  },
  {
   "cell_type": "markdown",
   "metadata": {},
   "source": [
    "<p><a class=\"reference internal\" href=\"../reference/api/pandas.Series.html#pandas.Series\" title=\"pandas.Series\"><code class=\"xref py py-class docutils literal notranslate\"><span class=\"pre\">Series</span></code></a> is a one-dimensional labeled array capable of holding any data\n",
    "type (integers, strings, floating point numbers, Python objects, etc.). The axis\n",
    "labels are collectively referred to as the <strong>index</strong>. The basic method to create a Series is to call:</p>"
   ]
  },
  {
   "cell_type": "code",
   "execution_count": null,
   "metadata": {},
   "outputs": [],
   "source": [
    "s = pd.Series(data, index=index)"
   ]
  },
  {
   "cell_type": "markdown",
   "metadata": {},
   "source": [
    "<p>Here, <code class=\"docutils literal notranslate\"><span class=\"pre\">data</span></code> can be many different things:</p>\n",
    "\n",
    "<ul class=\"simple\">\n",
    "<li><p>a Python dict</p></li>\n",
    "<li><p>an ndarray</p></li>\n",
    "<li><p>a scalar value (like 5)</p></li>\n",
    "</ul>\n",
    "\n",
    "\n",
    "<p>The passed <strong>index</strong> is a list of axis labels. Thus, this separates into a few\n",
    "cases depending on what <strong>data is</strong>:</p>\n",
    "\n",
    "\n",
    "<p><strong>From ndarray</strong></p>\n",
    "\n",
    "<p>If <code class=\"docutils literal notranslate\"><span class=\"pre\">data</span></code> is an ndarray, <strong>index</strong> must be the same length as <strong>data</strong>. If no\n",
    "index is passed, one will be created having values <code class=\"docutils literal notranslate\"><span class=\"pre\">[0,</span> <span class=\"pre\">...,</span> <span class=\"pre\">len(data)</span> <span class=\"pre\">-</span> <span class=\"pre\">1]</span></code>.</p>"
   ]
  },
  {
   "cell_type": "code",
   "execution_count": null,
   "metadata": {},
   "outputs": [],
   "source": [
    "s = pd.Series(np.random.randn(5), index=[\"a\", \"b\", \"c\", \"d\", \"e\"])"
   ]
  },
  {
   "cell_type": "code",
   "execution_count": null,
   "metadata": {},
   "outputs": [],
   "source": [
    "s"
   ]
  },
  {
   "cell_type": "code",
   "execution_count": null,
   "metadata": {},
   "outputs": [],
   "source": [
    "s.index"
   ]
  },
  {
   "cell_type": "code",
   "execution_count": null,
   "metadata": {},
   "outputs": [],
   "source": [
    "pd.Series(np.random.randn(5))"
   ]
  },
  {
   "cell_type": "markdown",
   "metadata": {},
   "source": [
    "<p>pandas supports non-unique index values. If an operation\n",
    "that does not support duplicate index values is attempted, an exception\n",
    "will be raised at that time. The reason for being lazy is nearly all performance-based\n",
    "(there are many instances in computations, like parts of GroupBy, where the index\n",
    "is not used).</p>\n",
    "\n",
    "\n",
    "<p><strong>From dict</strong></p>\n",
    "\n",
    "<p>Series can be instantiated from dicts:</p>"
   ]
  },
  {
   "cell_type": "code",
   "execution_count": null,
   "metadata": {},
   "outputs": [],
   "source": [
    "d = {\"b\": 1, \"a\": 0, \"c\": 2}"
   ]
  },
  {
   "cell_type": "code",
   "execution_count": null,
   "metadata": {},
   "outputs": [],
   "source": [
    "pd.Series(d)"
   ]
  },
  {
   "cell_type": "markdown",
   "metadata": {},
   "source": [
    "<p>When the data is a dict, and an index is not passed, the <code class=\"docutils literal notranslate\"><span class=\"pre\">Series</span></code> index\n",
    "will be ordered by the dict’s insertion order, if you’re using Python\n",
    "version &gt;= 3.6 and pandas version &gt;= 0.23.</p>\n",
    "\n",
    "<p>If you’re using Python &lt; 3.6 or pandas &lt; 0.23, and an index is not passed,\n",
    "the <code class=\"docutils literal notranslate\"><span class=\"pre\">Series</span></code> index will be the lexically ordered list of dict keys.</p>\n",
    "\n",
    "\n",
    "<p>In the example above, if you were on a Python version lower than 3.6 or a\n",
    "pandas version lower than 0.23, the <code class=\"docutils literal notranslate\"><span class=\"pre\">Series</span></code> would be ordered by the lexical\n",
    "order of the dict keys (i.e. <code class=\"docutils literal notranslate\"><span class=\"pre\">['a',</span> <span class=\"pre\">'b',</span> <span class=\"pre\">'c']</span></code> rather than <code class=\"docutils literal notranslate\"><span class=\"pre\">['b',</span> <span class=\"pre\">'a',</span> <span class=\"pre\">'c']</span></code>).</p>\n",
    "\n",
    "<p>If an index is passed, the values in data corresponding to the labels in the\n",
    "index will be pulled out.</p>\n"
   ]
  },
  {
   "cell_type": "code",
   "execution_count": null,
   "metadata": {},
   "outputs": [],
   "source": [
    "d = {\"a\": 0.0, \"b\": 1.0, \"c\": 2.0}"
   ]
  },
  {
   "cell_type": "code",
   "execution_count": null,
   "metadata": {},
   "outputs": [],
   "source": [
    "pd.Series(d)"
   ]
  },
  {
   "cell_type": "code",
   "execution_count": null,
   "metadata": {},
   "outputs": [],
   "source": [
    "pd.Series(d, index=[\"b\", \"c\", \"d\", \"a\"])"
   ]
  },
  {
   "cell_type": "markdown",
   "metadata": {},
   "source": [
    "<p>NaN (not a number) is the standard missing data marker used in pandas.</p>"
   ]
  },
  {
   "cell_type": "markdown",
   "metadata": {},
   "source": [
    "<p><strong>From scalar value</strong></p>"
   ]
  },
  {
   "cell_type": "markdown",
   "metadata": {},
   "source": [
    "<p>If <code class=\"docutils literal notranslate\"><span class=\"pre\">data</span></code> is a scalar value, an index must be\n",
    "provided. The value will be repeated to match the length of <strong>index</strong>.</p>"
   ]
  },
  {
   "cell_type": "code",
   "execution_count": null,
   "metadata": {},
   "outputs": [],
   "source": [
    "pd.Series(5.0, index=[\"a\", \"b\", \"c\", \"d\", \"e\"])"
   ]
  },
  {
   "cell_type": "markdown",
   "metadata": {},
   "source": [
    "### Series is ndarray-like"
   ]
  },
  {
   "cell_type": "markdown",
   "metadata": {},
   "source": [
    "<p><code class=\"docutils literal notranslate\"><span class=\"pre\">Series</span></code> acts very similarly to a <code class=\"docutils literal notranslate\"><span class=\"pre\">ndarray</span></code>, and is a valid argument to most NumPy functions.\n",
    "However, operations such as slicing will also slice the index.</p>"
   ]
  },
  {
   "cell_type": "code",
   "execution_count": null,
   "metadata": {},
   "outputs": [],
   "source": [
    "s[0]"
   ]
  },
  {
   "cell_type": "code",
   "execution_count": null,
   "metadata": {},
   "outputs": [],
   "source": [
    "s[:3]"
   ]
  },
  {
   "cell_type": "code",
   "execution_count": null,
   "metadata": {},
   "outputs": [],
   "source": [
    "s[s > s.median()]"
   ]
  },
  {
   "cell_type": "code",
   "execution_count": null,
   "metadata": {},
   "outputs": [],
   "source": [
    "s[[4, 3, 1]]"
   ]
  },
  {
   "cell_type": "code",
   "execution_count": null,
   "metadata": {},
   "outputs": [],
   "source": [
    "np.exp(s)"
   ]
  },
  {
   "cell_type": "markdown",
   "metadata": {},
   "source": [
    "<div class=\"admonition note\">\n",
    "<p class=\"admonition-title\">Note</p>\n",
    "<p>We will address array-based indexing like <code class=\"docutils literal notranslate\"><span class=\"pre\">s[[4,</span> <span class=\"pre\">3,</span> <span class=\"pre\">1]]</span></code>\n",
    "in <a class=\"reference internal\" href=\"indexing.html#indexing\"><span class=\"std std-ref\">section on indexing</span></a>.</p>\n",
    "</div>"
   ]
  },
  {
   "cell_type": "markdown",
   "metadata": {},
   "source": [
    "<p>Like a NumPy array, a pandas Series has a <a class=\"reference internal\" href=\"../reference/api/pandas.Series.dtype.html#pandas.Series.dtype\" title=\"pandas.Series.dtype\"><code class=\"xref py py-attr docutils literal notranslate\"><span class=\"pre\">dtype</span></code></a>.</p>"
   ]
  },
  {
   "cell_type": "code",
   "execution_count": null,
   "metadata": {},
   "outputs": [],
   "source": [
    "s.dtype"
   ]
  },
  {
   "cell_type": "markdown",
   "metadata": {},
   "source": [
    "<p>This is often a NumPy dtype. However, pandas and 3rd-party libraries\n",
    "extend NumPy’s type system in a few places, in which case the dtype would\n",
    "be an <a class=\"reference internal\" href=\"../reference/api/pandas.api.extensions.ExtensionDtype.html#pandas.api.extensions.ExtensionDtype\" title=\"pandas.api.extensions.ExtensionDtype\"><code class=\"xref py py-class docutils literal notranslate\"><span class=\"pre\">ExtensionDtype</span></code></a>. Some examples within\n",
    "pandas are <a class=\"reference internal\" href=\"categorical.html#categorical\"><span class=\"std std-ref\">Categorical data</span></a> and <a class=\"reference internal\" href=\"integer_na.html#integer-na\"><span class=\"std std-ref\">Nullable integer data type</span></a>. See <a class=\"reference internal\" href=\"basics.html#basics-dtypes\"><span class=\"std std-ref\">dtypes</span></a>\n",
    "for more.</p>"
   ]
  },
  {
   "cell_type": "markdown",
   "metadata": {},
   "source": [
    "<p>If you need the actual array backing a <code class=\"docutils literal notranslate\"><span class=\"pre\">Series</span></code>, use <a class=\"reference internal\" href=\"../reference/api/pandas.Series.array.html#pandas.Series.array\" title=\"pandas.Series.array\"><code class=\"xref py py-attr docutils literal notranslate\"><span class=\"pre\">Series.array</span></code></a>.</p>"
   ]
  },
  {
   "cell_type": "code",
   "execution_count": null,
   "metadata": {},
   "outputs": [],
   "source": [
    "s.array"
   ]
  },
  {
   "cell_type": "markdown",
   "metadata": {},
   "source": [
    "\n",
    "\n",
    "\n",
    "<p>Accessing the array can be useful when you need to do some operation without the\n",
    "index (to disable <a class=\"reference internal\" href=\"#dsintro-alignment\"><span class=\"std std-ref\">automatic alignment</span></a>, for example).</p>\n",
    "\n",
    "<p><a class=\"reference internal\" href=\"../reference/api/pandas.Series.array.html#pandas.Series.array\" title=\"pandas.Series.array\"><code class=\"xref py py-attr docutils literal notranslate\"><span class=\"pre\">Series.array</span></code></a> will always be an <a class=\"reference internal\" href=\"../reference/api/pandas.api.extensions.ExtensionArray.html#pandas.api.extensions.ExtensionArray\" title=\"pandas.api.extensions.ExtensionArray\"><code class=\"xref py py-class docutils literal notranslate\"><span class=\"pre\">ExtensionArray</span></code></a>.\n",
    "Briefly, an ExtensionArray is a thin wrapper around one or more <em>concrete</em> arrays like a\n",
    "<a class=\"reference external\" href=\"https://numpy.org/doc/stable/reference/generated/numpy.ndarray.html#numpy.ndarray\" title=\"(in NumPy v1.23)\"><code class=\"xref py py-class docutils literal notranslate\"><span class=\"pre\">numpy.ndarray</span></code></a>. pandas knows how to take an <code class=\"docutils literal notranslate\"><span class=\"pre\">ExtensionArray</span></code> and\n",
    "store it in a <code class=\"docutils literal notranslate\"><span class=\"pre\">Series</span></code> or a column of a <code class=\"docutils literal notranslate\"><span class=\"pre\">DataFrame</span></code>.\n",
    "See <a class=\"reference internal\" href=\"basics.html#basics-dtypes\"><span class=\"std std-ref\">dtypes</span></a> for more.</p>\n",
    "\n",
    "\n",
    "\n",
    "<p>While Series is ndarray-like, if you need an <em>actual</em> ndarray, then use\n",
    "<a class=\"reference internal\" href=\"../reference/api/pandas.Series.to_numpy.html#pandas.Series.to_numpy\" title=\"pandas.Series.to_numpy\"><code class=\"xref py py-meth docutils literal notranslate\"><span class=\"pre\">Series.to_numpy()</span></code></a>.</p>"
   ]
  },
  {
   "cell_type": "code",
   "execution_count": null,
   "metadata": {},
   "outputs": [],
   "source": [
    "s.to_numpy()"
   ]
  },
  {
   "cell_type": "markdown",
   "metadata": {},
   "source": [
    "<p>Even if the Series is backed by a <a class=\"reference internal\" href=\"../reference/api/pandas.api.extensions.ExtensionArray.html#pandas.api.extensions.ExtensionArray\" title=\"pandas.api.extensions.ExtensionArray\"><code class=\"xref py py-class docutils literal notranslate\"><span class=\"pre\">ExtensionArray</span></code></a>,\n",
    "<a class=\"reference internal\" href=\"../reference/api/pandas.Series.to_numpy.html#pandas.Series.to_numpy\" title=\"pandas.Series.to_numpy\"><code class=\"xref py py-meth docutils literal notranslate\"><span class=\"pre\">Series.to_numpy()</span></code></a> will return a NumPy ndarray.</p>"
   ]
  },
  {
   "cell_type": "markdown",
   "metadata": {},
   "source": [
    "### Series is dict-like"
   ]
  },
  {
   "cell_type": "markdown",
   "metadata": {},
   "source": [
    "<p>A Series is like a fixed-size dict in that you can get and set values by index\n",
    "label:</p>"
   ]
  },
  {
   "cell_type": "code",
   "execution_count": null,
   "metadata": {},
   "outputs": [],
   "source": [
    "s[\"a\"]"
   ]
  },
  {
   "cell_type": "code",
   "execution_count": null,
   "metadata": {},
   "outputs": [],
   "source": [
    "s[\"e\"] = 12.0"
   ]
  },
  {
   "cell_type": "code",
   "execution_count": null,
   "metadata": {},
   "outputs": [],
   "source": [
    "s"
   ]
  },
  {
   "cell_type": "code",
   "execution_count": null,
   "metadata": {},
   "outputs": [],
   "source": [
    "\"e\" in s"
   ]
  },
  {
   "cell_type": "code",
   "execution_count": null,
   "metadata": {},
   "outputs": [],
   "source": [
    "\"f\" in s"
   ]
  },
  {
   "cell_type": "markdown",
   "metadata": {},
   "source": [
    "<p>If a label is not contained, an exception is raised:</p>"
   ]
  },
  {
   "cell_type": "code",
   "execution_count": null,
   "metadata": {},
   "outputs": [],
   "source": [
    "try:\n",
    "    s[\"f\"]\n",
    "except Exception as e:\n",
    "    print(e)"
   ]
  },
  {
   "cell_type": "markdown",
   "metadata": {},
   "source": [
    "<p>Using the <code class=\"docutils literal notranslate\"><span class=\"pre\">get</span></code> method, a missing label will return None or specified default:</p>"
   ]
  },
  {
   "cell_type": "code",
   "execution_count": null,
   "metadata": {},
   "outputs": [],
   "source": [
    "s.get(\"f\")"
   ]
  },
  {
   "cell_type": "code",
   "execution_count": null,
   "metadata": {},
   "outputs": [],
   "source": [
    "s.get(\"f\", np.nan)"
   ]
  },
  {
   "cell_type": "markdown",
   "metadata": {},
   "source": [
    "<p>See also the <a class=\"reference internal\" href=\"indexing.html#indexing-attribute-access\"><span class=\"std std-ref\">section on attribute access</span></a>.</p>"
   ]
  },
  {
   "cell_type": "markdown",
   "metadata": {},
   "source": [
    "### Vectorized operations and label alignment with Series"
   ]
  },
  {
   "cell_type": "markdown",
   "metadata": {},
   "source": [
    "<p>When working with raw NumPy arrays, looping through value-by-value is usually\n",
    "not necessary. The same is true when working with Series in pandas.\n",
    "Series can also be passed into most NumPy methods expecting an ndarray.</p>"
   ]
  },
  {
   "cell_type": "code",
   "execution_count": null,
   "metadata": {},
   "outputs": [],
   "source": [
    "s + s"
   ]
  },
  {
   "cell_type": "code",
   "execution_count": null,
   "metadata": {},
   "outputs": [],
   "source": [
    "s*2"
   ]
  },
  {
   "cell_type": "code",
   "execution_count": null,
   "metadata": {},
   "outputs": [],
   "source": [
    "np.exp(s)"
   ]
  },
  {
   "cell_type": "markdown",
   "metadata": {},
   "source": [
    "<p>A key difference between Series and ndarray is that operations between Series\n",
    "automatically align the data based on label. Thus, you can write computations\n",
    "without giving consideration to whether the Series involved have the same\n",
    "labels.</p>"
   ]
  },
  {
   "cell_type": "code",
   "execution_count": null,
   "metadata": {},
   "outputs": [],
   "source": [
    "s[1:] + s[:-1]"
   ]
  },
  {
   "cell_type": "markdown",
   "metadata": {},
   "source": [
    "<p>The result of an operation between unaligned Series will have the <strong>union</strong> of\n",
    "the indexes involved. If a label is not found in one Series or the other, the\n",
    "result will be marked as missing <code class=\"docutils literal notranslate\"><span class=\"pre\">NaN</span></code>. Being able to write code without doing\n",
    "any explicit data alignment grants immense freedom and flexibility in\n",
    "interactive data analysis and research. The integrated data alignment features\n",
    "of the pandas data structures set pandas apart from the majority of related\n",
    "tools for working with labeled data.</p>\n",
    "\n",
    "<div class=\"admonition note\">\n",
    "<p class=\"admonition-title\">Note</p>\n",
    "<p>In general, we chose to make the default result of operations between\n",
    "differently indexed objects yield the <strong>union</strong> of the indexes in order to\n",
    "avoid loss of information. Having an index label, though the data is\n",
    "missing, is typically important information as part of a computation. You\n",
    "of course have the option of dropping labels with missing data via the\n",
    "<strong>dropna</strong> function.</p>\n",
    "</div>"
   ]
  },
  {
   "cell_type": "markdown",
   "metadata": {},
   "source": [
    "### Name attribute"
   ]
  },
  {
   "cell_type": "markdown",
   "metadata": {},
   "source": [
    "<p id=\"dsintro-name-attribute\">Series can also have a <code class=\"docutils literal notranslate\"><span class=\"pre\">name</span></code> attribute:</p>"
   ]
  },
  {
   "cell_type": "code",
   "execution_count": null,
   "metadata": {},
   "outputs": [],
   "source": [
    "s = pd.Series(np.random.randn(5), name=\"something\")"
   ]
  },
  {
   "cell_type": "code",
   "execution_count": null,
   "metadata": {},
   "outputs": [],
   "source": [
    "s"
   ]
  },
  {
   "cell_type": "code",
   "execution_count": null,
   "metadata": {},
   "outputs": [],
   "source": [
    "s.name"
   ]
  },
  {
   "cell_type": "markdown",
   "metadata": {},
   "source": [
    "<p>The Series <code class=\"docutils literal notranslate\"><span class=\"pre\">name</span></code> will be assigned automatically in many cases, in particular\n",
    "when taking 1D slices of DataFrame as you will see below.</p>\n",
    "\n",
    "<p>You can rename a Series with the <a class=\"reference internal\" href=\"../reference/api/pandas.Series.rename.html#pandas.Series.rename\" title=\"pandas.Series.rename\"><code class=\"xref py py-meth docutils literal notranslate\"><span class=\"pre\">pandas.Series.rename()</span></code></a> method.</p>"
   ]
  },
  {
   "cell_type": "code",
   "execution_count": null,
   "metadata": {},
   "outputs": [],
   "source": [
    "s2 = s.rename(\"different\")"
   ]
  },
  {
   "cell_type": "code",
   "execution_count": null,
   "metadata": {},
   "outputs": [],
   "source": [
    "s2.name"
   ]
  },
  {
   "cell_type": "markdown",
   "metadata": {},
   "source": [
    "<p>Note that <code class=\"docutils literal notranslate\"><span class=\"pre\">s</span></code> and <code class=\"docutils literal notranslate\"><span class=\"pre\">s2</span></code> refer to different objects.</p>"
   ]
  },
  {
   "cell_type": "markdown",
   "metadata": {
    "tags": []
   },
   "source": [
    "## DataFrame"
   ]
  },
  {
   "cell_type": "markdown",
   "metadata": {},
   "source": [
    "<p><strong>DataFrame</strong> is a 2-dimensional labeled data structure with columns of\n",
    "potentially different types. You can think of it like a spreadsheet or SQL\n",
    "table, or a dict of Series objects. It is generally the most commonly used\n",
    "pandas object. Like Series, DataFrame accepts many different kinds of input:</p>\n",
    "\n",
    "<ul class=\"simple\">\n",
    "<li><p>Dict of 1D ndarrays, lists, dicts, or Series</p></li>\n",
    "<li><p>2-D numpy.ndarray</p></li>\n",
    "<li><p><a class=\"reference external\" href=\"https://numpy.org/doc/stable/user/basics.rec.html\">Structured or record</a> ndarray</p></li>\n",
    "<li><p>A <code class=\"docutils literal notranslate\"><span class=\"pre\">Series</span></code></p></li>\n",
    "<li><p>Another <code class=\"docutils literal notranslate\"><span class=\"pre\">DataFrame</span></code></p></li>\n",
    "</ul>\n",
    "\n",
    "<p>Along with the data, you can optionally pass <strong>index</strong> (row labels) and\n",
    "<strong>columns</strong> (column labels) arguments. If you pass an index and / or columns,\n",
    "you are guaranteeing the index and / or columns of the resulting\n",
    "DataFrame. Thus, a dict of Series plus a specific index will discard all data\n",
    "not matching up to the passed index.</p>\n",
    "\n",
    "<p>If axis labels are not passed, they will be constructed from the input data\n",
    "based on common sense rules.</p>"
   ]
  },
  {
   "cell_type": "markdown",
   "metadata": {},
   "source": [
    "<div class=\"admonition note\">\n",
    "<p class=\"admonition-title\">Note</p>\n",
    "<p>When the data is a dict, and <code class=\"docutils literal notranslate\"><span class=\"pre\">columns</span></code> is not specified, the <code class=\"docutils literal notranslate\"><span class=\"pre\">DataFrame</span></code>\n",
    "columns will be ordered by the dict’s insertion order, if you are using\n",
    "Python version &gt;= 3.6 and pandas &gt;= 0.23.</p>\n",
    "<p>If you are using Python &lt; 3.6 or pandas &lt; 0.23, and <code class=\"docutils literal notranslate\"><span class=\"pre\">columns</span></code> is not\n",
    "specified, the <code class=\"docutils literal notranslate\"><span class=\"pre\">DataFrame</span></code> columns will be the lexically ordered list of dict\n",
    "keys.</p>\n",
    "</div>"
   ]
  },
  {
   "cell_type": "markdown",
   "metadata": {
    "jp-MarkdownHeadingCollapsed": true,
    "tags": []
   },
   "source": [
    "### From dict of Series or dicts"
   ]
  },
  {
   "cell_type": "code",
   "execution_count": null,
   "metadata": {},
   "outputs": [],
   "source": [
    "d = {\n",
    "    \"one\": pd.Series([1.0, 2.0, 3.0], index=[\"a\", \"b\", \"c\"]),\n",
    "    \"two\": pd.Series([1.0, 2.0, 3.0, 4.0], index=[\"a\", \"b\", \"c\", \"d\"]),\n",
    "    }"
   ]
  },
  {
   "cell_type": "code",
   "execution_count": null,
   "metadata": {},
   "outputs": [],
   "source": [
    "df = pd.DataFrame(d)"
   ]
  },
  {
   "cell_type": "code",
   "execution_count": null,
   "metadata": {},
   "outputs": [],
   "source": [
    "df"
   ]
  },
  {
   "cell_type": "code",
   "execution_count": null,
   "metadata": {},
   "outputs": [],
   "source": [
    "pd.DataFrame(d, index=[\"d\", \"b\", \"a\"])"
   ]
  },
  {
   "cell_type": "code",
   "execution_count": null,
   "metadata": {},
   "outputs": [],
   "source": [
    "pd.DataFrame(d, index=[\"d\", \"b\", \"a\"], columns=[\"two\", \"three\"])"
   ]
  },
  {
   "cell_type": "markdown",
   "metadata": {},
   "source": [
    "<p>The row and column labels can be accessed respectively by accessing the\n",
    "<strong>index</strong> and <strong>columns</strong> attributes:</p>"
   ]
  },
  {
   "cell_type": "markdown",
   "metadata": {},
   "source": [
    "<div class=\"admonition note\">\n",
    "<p class=\"admonition-title\">Note</p>\n",
    "<p>When a particular set of columns is passed along with a dict of data, the\n",
    "passed columns override the keys in the dict.</p>\n",
    "</div>"
   ]
  },
  {
   "cell_type": "code",
   "execution_count": null,
   "metadata": {},
   "outputs": [],
   "source": [
    "df.index"
   ]
  },
  {
   "cell_type": "code",
   "execution_count": null,
   "metadata": {},
   "outputs": [],
   "source": [
    "df.columns"
   ]
  },
  {
   "cell_type": "markdown",
   "metadata": {
    "jp-MarkdownHeadingCollapsed": true,
    "tags": []
   },
   "source": [
    "### From dict of ndarrays / lists"
   ]
  },
  {
   "cell_type": "markdown",
   "metadata": {},
   "source": [
    "<p>The ndarrays must all be the same length. If an index is passed, it must\n",
    "clearly also be the same length as the arrays. If no index is passed, the\n",
    "result will be <code class=\"docutils literal notranslate\"><span class=\"pre\">range(n)</span></code>, where <code class=\"docutils literal notranslate\"><span class=\"pre\">n</span></code> is the array length.</p>"
   ]
  },
  {
   "cell_type": "code",
   "execution_count": null,
   "metadata": {},
   "outputs": [],
   "source": [
    "d = {\"one\": [1.0, 2.0, 3.0, 4.0], \"two\": [4.0, 3.0, 2.0, 1.0]}"
   ]
  },
  {
   "cell_type": "code",
   "execution_count": null,
   "metadata": {},
   "outputs": [],
   "source": [
    "pd.DataFrame(d)"
   ]
  },
  {
   "cell_type": "code",
   "execution_count": null,
   "metadata": {},
   "outputs": [],
   "source": [
    "pd.DataFrame(d, index=[\"a\", \"b\", \"c\", \"d\"])"
   ]
  },
  {
   "cell_type": "markdown",
   "metadata": {
    "jp-MarkdownHeadingCollapsed": true,
    "tags": []
   },
   "source": [
    "### From structured or record array"
   ]
  },
  {
   "cell_type": "markdown",
   "metadata": {},
   "source": [
    "<p>This case is handled identically to a dict of arrays.</p>"
   ]
  },
  {
   "cell_type": "code",
   "execution_count": null,
   "metadata": {},
   "outputs": [],
   "source": [
    "data = np.zeros((2,), dtype=[(\"A\", \"i4\"), (\"B\", \"f4\"), (\"C\", \"a10\")])"
   ]
  },
  {
   "cell_type": "code",
   "execution_count": null,
   "metadata": {},
   "outputs": [],
   "source": [
    "data[:] = [(1, 2.0, \"Hello\"), (2, 3.0, \"World\")]"
   ]
  },
  {
   "cell_type": "code",
   "execution_count": null,
   "metadata": {},
   "outputs": [],
   "source": [
    "pd.DataFrame(data)"
   ]
  },
  {
   "cell_type": "code",
   "execution_count": null,
   "metadata": {},
   "outputs": [],
   "source": [
    "pd.DataFrame(data, index=[\"first\", \"second\"])"
   ]
  },
  {
   "cell_type": "code",
   "execution_count": null,
   "metadata": {},
   "outputs": [],
   "source": [
    "pd.DataFrame(data, columns=[\"C\", \"A\", \"B\"])"
   ]
  },
  {
   "cell_type": "markdown",
   "metadata": {},
   "source": [
    "<div class=\"admonition note\">\n",
    "<p class=\"admonition-title\">Note</p>\n",
    "<p>DataFrame is not intended to work exactly like a 2-dimensional NumPy\n",
    "ndarray.</p>\n",
    "</div>"
   ]
  },
  {
   "cell_type": "markdown",
   "metadata": {
    "jp-MarkdownHeadingCollapsed": true,
    "tags": []
   },
   "source": [
    "### From a list of dicts"
   ]
  },
  {
   "cell_type": "code",
   "execution_count": null,
   "metadata": {},
   "outputs": [],
   "source": [
    "data2 = [{\"a\": 1, \"b\": 2}, {\"a\": 5, \"b\": 10, \"c\": 20}]"
   ]
  },
  {
   "cell_type": "code",
   "execution_count": null,
   "metadata": {},
   "outputs": [],
   "source": [
    "pd.DataFrame(data2)"
   ]
  },
  {
   "cell_type": "code",
   "execution_count": null,
   "metadata": {},
   "outputs": [],
   "source": [
    "pd.DataFrame(data2, index=[\"first\", \"second\"])"
   ]
  },
  {
   "cell_type": "code",
   "execution_count": null,
   "metadata": {},
   "outputs": [],
   "source": [
    "pd.DataFrame(data2, columns=[\"a\", \"b\"])"
   ]
  },
  {
   "cell_type": "markdown",
   "metadata": {
    "jp-MarkdownHeadingCollapsed": true,
    "tags": []
   },
   "source": [
    "### From a dict of tuples"
   ]
  },
  {
   "cell_type": "markdown",
   "metadata": {},
   "source": [
    "<p>You can automatically create a MultiIndexed frame by passing a tuples\n",
    "dictionary.</p>"
   ]
  },
  {
   "cell_type": "code",
   "execution_count": null,
   "metadata": {},
   "outputs": [],
   "source": [
    "pd.DataFrame(\n",
    "    {\n",
    "        (\"a\", \"b\"): {(\"A\", \"B\"): 1, (\"A\", \"C\"): 2},\n",
    "        (\"a\", \"a\"): {(\"A\", \"C\"): 3, (\"A\", \"B\"): 4},\n",
    "        (\"a\", \"c\"): {(\"A\", \"B\"): 5, (\"A\", \"C\"): 6},\n",
    "        (\"b\", \"a\"): {(\"A\", \"C\"): 7, (\"A\", \"B\"): 8},\n",
    "        (\"b\", \"b\"): {(\"A\", \"D\"): 9, (\"A\", \"B\"): 10},\n",
    "    }\n",
    ")"
   ]
  },
  {
   "cell_type": "markdown",
   "metadata": {
    "jp-MarkdownHeadingCollapsed": true,
    "tags": []
   },
   "source": [
    "### From a Series"
   ]
  },
  {
   "cell_type": "markdown",
   "metadata": {},
   "source": [
    "<p>The result will be a DataFrame with the same index as the input Series, and\n",
    "with one column whose name is the original name of the Series (only if no other\n",
    "column name provided).</p>"
   ]
  },
  {
   "cell_type": "markdown",
   "metadata": {
    "jp-MarkdownHeadingCollapsed": true,
    "tags": []
   },
   "source": [
    "### From a list of namedtuples"
   ]
  },
  {
   "cell_type": "markdown",
   "metadata": {},
   "source": [
    "<p>The field names of the first <code class=\"docutils literal notranslate\"><span class=\"pre\">namedtuple</span></code> in the list determine the columns\n",
    "of the <code class=\"docutils literal notranslate\"><span class=\"pre\">DataFrame</span></code>. The remaining namedtuples (or tuples) are simply unpacked\n",
    "and their values are fed into the rows of the <code class=\"docutils literal notranslate\"><span class=\"pre\">DataFrame</span></code>. If any of those\n",
    "tuples is shorter than the first <code class=\"docutils literal notranslate\"><span class=\"pre\">namedtuple</span></code> then the later columns in the\n",
    "corresponding row are marked as missing values. If any are longer than the\n",
    "first <code class=\"docutils literal notranslate\"><span class=\"pre\">namedtuple</span></code>, a <code class=\"docutils literal notranslate\"><span class=\"pre\">ValueError</span></code> is raised.</p>"
   ]
  },
  {
   "cell_type": "code",
   "execution_count": null,
   "metadata": {},
   "outputs": [],
   "source": [
    "from collections import namedtuple"
   ]
  },
  {
   "cell_type": "code",
   "execution_count": null,
   "metadata": {},
   "outputs": [],
   "source": [
    "Point = namedtuple(\"Point\", \"x y\")"
   ]
  },
  {
   "cell_type": "code",
   "execution_count": null,
   "metadata": {},
   "outputs": [],
   "source": [
    "pd.DataFrame([Point(0, 0), Point(0, 3), (2, 3)])"
   ]
  },
  {
   "cell_type": "code",
   "execution_count": null,
   "metadata": {},
   "outputs": [],
   "source": [
    "Point3D = namedtuple(\"Point3D\", \"x y z\")"
   ]
  },
  {
   "cell_type": "code",
   "execution_count": null,
   "metadata": {},
   "outputs": [],
   "source": [
    "pd.DataFrame([Point3D(0, 0, 0), Point3D(0, 3, 5), Point(2, 3)])"
   ]
  },
  {
   "cell_type": "markdown",
   "metadata": {
    "jp-MarkdownHeadingCollapsed": true,
    "tags": []
   },
   "source": [
    "### From a list of dataclasses"
   ]
  },
  {
   "cell_type": "markdown",
   "metadata": {},
   "source": [
    "<p><span class=\"versionmodified added\">New in version 1.1.0.</span></p>"
   ]
  },
  {
   "cell_type": "markdown",
   "metadata": {},
   "source": [
    "<p>Data Classes as introduced in <a class=\"reference external\" href=\"https://www.python.org/dev/peps/pep-0557\">PEP557</a>,\n",
    "can be passed into the DataFrame constructor.\n",
    "Passing a list of dataclasses is equivalent to passing a list of dictionaries.</p>\n",
    "\n",
    "<p>Please be aware, that all values in the list should be dataclasses, mixing\n",
    "types in the list would result in a TypeError.</p>"
   ]
  },
  {
   "cell_type": "code",
   "execution_count": null,
   "metadata": {},
   "outputs": [],
   "source": [
    "from dataclasses import make_dataclass"
   ]
  },
  {
   "cell_type": "code",
   "execution_count": null,
   "metadata": {},
   "outputs": [],
   "source": [
    "Point = make_dataclass(\"Point\", [(\"x\", int), (\"y\", int)])"
   ]
  },
  {
   "cell_type": "code",
   "execution_count": null,
   "metadata": {},
   "outputs": [],
   "source": [
    "pd.DataFrame([Point(0, 0), Point(0, 3), Point(2, 3)])"
   ]
  },
  {
   "cell_type": "markdown",
   "metadata": {},
   "source": [
    "<p><strong>Missing data</strong></p>\n",
    "\n",
    "<p>Much more will be said on this topic in the <a class=\"reference internal\" href=\"missing_data.html#missing-data\"><span class=\"std std-ref\">Missing data</span></a>\n",
    "section. To construct a DataFrame with missing data, we use <code class=\"docutils literal notranslate\"><span class=\"pre\">np.nan</span></code> to\n",
    "represent missing values. Alternatively, you may pass a <code class=\"docutils literal notranslate\"><span class=\"pre\">numpy.MaskedArray</span></code>\n",
    "as the data argument to the DataFrame constructor, and its masked entries will\n",
    "be considered missing.</p>"
   ]
  },
  {
   "cell_type": "markdown",
   "metadata": {
    "jp-MarkdownHeadingCollapsed": true,
    "tags": []
   },
   "source": [
    "### Alternate constructors"
   ]
  },
  {
   "cell_type": "markdown",
   "metadata": {},
   "source": [
    "<p id=\"basics-dataframe-from-dict\"><strong>DataFrame.from_dict</strong></p>"
   ]
  },
  {
   "cell_type": "markdown",
   "metadata": {},
   "source": [
    "<p><code class=\"docutils literal notranslate\"><span class=\"pre\">DataFrame.from_dict</span></code> takes a dict of dicts or a dict of array-like sequences\n",
    "and returns a DataFrame. It operates like the <code class=\"docutils literal notranslate\"><span class=\"pre\">DataFrame</span></code> constructor except\n",
    "for the <code class=\"docutils literal notranslate\"><span class=\"pre\">orient</span></code> parameter which is <code class=\"docutils literal notranslate\"><span class=\"pre\">'columns'</span></code> by default, but which can be\n",
    "set to <code class=\"docutils literal notranslate\"><span class=\"pre\">'index'</span></code> in order to use the dict keys as row labels.</p>"
   ]
  },
  {
   "cell_type": "code",
   "execution_count": null,
   "metadata": {},
   "outputs": [],
   "source": [
    "pd.DataFrame.from_dict(dict([(\"A\", [1, 2, 3]), (\"B\", [4, 5, 6])]))"
   ]
  },
  {
   "cell_type": "markdown",
   "metadata": {},
   "source": [
    "<p>If you pass <code class=\"docutils literal notranslate\"><span class=\"pre\">orient='index'</span></code>, the keys will be the row labels. In this\n",
    "case, you can also pass the desired column names:</p>"
   ]
  },
  {
   "cell_type": "code",
   "execution_count": null,
   "metadata": {},
   "outputs": [],
   "source": [
    "pd.DataFrame.from_dict(\n",
    "    dict([(\"A\", [1, 2, 3]), (\"B\", [4, 5, 6])]),\n",
    "    orient=\"index\",\n",
    "    columns=[\"one\", \"two\", \"three\"],\n",
    ")"
   ]
  },
  {
   "cell_type": "markdown",
   "metadata": {},
   "source": [
    "<p id=\"basics-dataframe-from-records\"><strong>DataFrame.from_records</strong></p>\n",
    "\n",
    "<p><code class=\"docutils literal notranslate\"><span class=\"pre\">DataFrame.from_records</span></code> takes a list of tuples or an ndarray with structured\n",
    "dtype. It works analogously to the normal <code class=\"docutils literal notranslate\"><span class=\"pre\">DataFrame</span></code> constructor, except that\n",
    "the resulting DataFrame index may be a specific field of the structured\n",
    "dtype. For example:</p>"
   ]
  },
  {
   "cell_type": "code",
   "execution_count": null,
   "metadata": {},
   "outputs": [],
   "source": [
    "data"
   ]
  },
  {
   "cell_type": "code",
   "execution_count": null,
   "metadata": {},
   "outputs": [],
   "source": [
    "pd.DataFrame.from_records(data, index=\"C\")"
   ]
  },
  {
   "cell_type": "markdown",
   "metadata": {
    "jp-MarkdownHeadingCollapsed": true,
    "tags": []
   },
   "source": [
    "### Column selection, addition, deletion"
   ]
  },
  {
   "cell_type": "markdown",
   "metadata": {},
   "source": [
    "<p>You can treat a DataFrame semantically like a dict of like-indexed Series\n",
    "objects. Getting, setting, and deleting columns works with the same syntax as\n",
    "the analogous dict operations:</p>"
   ]
  },
  {
   "cell_type": "code",
   "execution_count": null,
   "metadata": {},
   "outputs": [],
   "source": [
    "df[\"one\"]"
   ]
  },
  {
   "cell_type": "code",
   "execution_count": null,
   "metadata": {},
   "outputs": [],
   "source": [
    "df[\"three\"] = df[\"one\"] * df[\"two\"]"
   ]
  },
  {
   "cell_type": "code",
   "execution_count": null,
   "metadata": {},
   "outputs": [],
   "source": [
    "df[\"flag\"] = df[\"one\"] > 2"
   ]
  },
  {
   "cell_type": "code",
   "execution_count": null,
   "metadata": {},
   "outputs": [],
   "source": [
    "df"
   ]
  },
  {
   "cell_type": "markdown",
   "metadata": {},
   "source": [
    "<p>Columns can be deleted or popped like with a dict:</p>"
   ]
  },
  {
   "cell_type": "code",
   "execution_count": null,
   "metadata": {},
   "outputs": [],
   "source": [
    "del df[\"two\"]"
   ]
  },
  {
   "cell_type": "code",
   "execution_count": null,
   "metadata": {},
   "outputs": [],
   "source": [
    "three = df.pop(\"three\")"
   ]
  },
  {
   "cell_type": "code",
   "execution_count": null,
   "metadata": {},
   "outputs": [],
   "source": [
    "df"
   ]
  },
  {
   "cell_type": "markdown",
   "metadata": {},
   "source": [
    "<p>When inserting a scalar value, it will naturally be propagated to fill the\n",
    "column:</p>"
   ]
  },
  {
   "cell_type": "code",
   "execution_count": null,
   "metadata": {},
   "outputs": [],
   "source": [
    "df[\"foo\"] = \"bar\""
   ]
  },
  {
   "cell_type": "code",
   "execution_count": null,
   "metadata": {},
   "outputs": [],
   "source": [
    "df"
   ]
  },
  {
   "cell_type": "markdown",
   "metadata": {},
   "source": [
    "<p>When inserting a Series that does not have the same index as the DataFrame, it\n",
    "will be conformed to the DataFrame’s index:</p>"
   ]
  },
  {
   "cell_type": "code",
   "execution_count": null,
   "metadata": {},
   "outputs": [],
   "source": [
    "df[\"one_trunc\"] = df[\"one\"][:2]"
   ]
  },
  {
   "cell_type": "code",
   "execution_count": null,
   "metadata": {},
   "outputs": [],
   "source": [
    "df"
   ]
  },
  {
   "cell_type": "markdown",
   "metadata": {},
   "source": [
    "<p>You can insert raw ndarrays but their length must match the length of the\n",
    "DataFrame’s index.</p>\n",
    "\n",
    "<p>By default, columns get inserted at the end. The <code class=\"docutils literal notranslate\"><span class=\"pre\">insert</span></code> function is\n",
    "available to insert at a particular location in the columns:</p>"
   ]
  },
  {
   "cell_type": "code",
   "execution_count": null,
   "metadata": {},
   "outputs": [],
   "source": [
    "df.insert(1, \"bar\", df[\"one\"])"
   ]
  },
  {
   "cell_type": "code",
   "execution_count": null,
   "metadata": {},
   "outputs": [],
   "source": [
    "df"
   ]
  },
  {
   "cell_type": "markdown",
   "metadata": {
    "jp-MarkdownHeadingCollapsed": true,
    "tags": []
   },
   "source": [
    "### Assigning new columns in method chains"
   ]
  },
  {
   "cell_type": "markdown",
   "metadata": {},
   "source": [
    "<p>Inspired by <a class=\"reference external\" href=\"https://dplyr.tidyverse.org/reference/mutate.html\">dplyr’s</a>\n",
    "<code class=\"docutils literal notranslate\"><span class=\"pre\">mutate</span></code> verb, DataFrame has an <a class=\"reference internal\" href=\"../reference/api/pandas.DataFrame.assign.html#pandas.DataFrame.assign\" title=\"pandas.DataFrame.assign\"><code class=\"xref py py-meth docutils literal notranslate\"><span class=\"pre\">assign()</span></code></a>\n",
    "method that allows you to easily create new columns that are potentially\n",
    "derived from existing columns.</p>"
   ]
  },
  {
   "cell_type": "code",
   "execution_count": null,
   "metadata": {},
   "outputs": [],
   "source": [
    "iris = pd.read_csv('data/iris.csv')"
   ]
  },
  {
   "cell_type": "code",
   "execution_count": null,
   "metadata": {},
   "outputs": [],
   "source": [
    "iris.head()"
   ]
  },
  {
   "cell_type": "code",
   "execution_count": null,
   "metadata": {},
   "outputs": [],
   "source": [
    "iris.assign(sepal_ratio=iris[\"SepalWidth\"] / iris[\"SepalLength\"]).head()"
   ]
  },
  {
   "cell_type": "markdown",
   "metadata": {},
   "source": [
    "<p>In the example above, we inserted a precomputed value. We can also pass in\n",
    "a function of one argument to be evaluated on the DataFrame being assigned to.</p>"
   ]
  },
  {
   "cell_type": "code",
   "execution_count": null,
   "metadata": {},
   "outputs": [],
   "source": [
    "iris.assign(sepal_ratio=lambda x: (x[\"SepalWidth\"] / x[\"SepalLength\"])).head()"
   ]
  },
  {
   "cell_type": "markdown",
   "metadata": {},
   "source": [
    "<p><code class=\"docutils literal notranslate\"><span class=\"pre\">assign</span></code> <strong>always</strong> returns a copy of the data, leaving the original\n",
    "DataFrame untouched.</p>\n",
    "\n",
    "<p>Passing a callable, as opposed to an actual value to be inserted, is\n",
    "useful when you don’t have a reference to the DataFrame at hand. This is\n",
    "common when using <code class=\"docutils literal notranslate\"><span class=\"pre\">assign</span></code> in a chain of operations. For example,\n",
    "we can limit the DataFrame to just those observations with a Sepal Length\n",
    "greater than 5, calculate the ratio, and plot:</p>"
   ]
  },
  {
   "cell_type": "code",
   "execution_count": null,
   "metadata": {},
   "outputs": [],
   "source": [
    "(\n",
    "    iris.query(\"SepalLength > 5\")\n",
    "    .assign(\n",
    "        SepalRatio=lambda x: x.SepalWidth / x.SepalLength,\n",
    "        PetalRatio=lambda x: x.PetalWidth / x.PetalLength,\n",
    "    )\n",
    "    .plot(kind=\"scatter\", x=\"SepalRatio\", y=\"PetalRatio\")\n",
    ")"
   ]
  },
  {
   "cell_type": "markdown",
   "metadata": {},
   "source": [
    "<p>Since a function is passed in, the function is computed on the DataFrame\n",
    "being assigned to. Importantly, this is the DataFrame that’s been filtered\n",
    "to those rows with sepal length greater than 5. The filtering happens first,\n",
    "and then the ratio calculations. This is an example where we didn’t\n",
    "have a reference to the <em>filtered</em> DataFrame available.</p>\n",
    "\n",
    "<p>The function signature for <code class=\"docutils literal notranslate\"><span class=\"pre\">assign</span></code> is simply <code class=\"docutils literal notranslate\"><span class=\"pre\">**kwargs</span></code>. The keys\n",
    "are the column names for the new fields, and the values are either a value\n",
    "to be inserted (for example, a <code class=\"docutils literal notranslate\"><span class=\"pre\">Series</span></code> or NumPy array), or a function\n",
    "of one argument to be called on the <code class=\"docutils literal notranslate\"><span class=\"pre\">DataFrame</span></code>. A <em>copy</em> of the original\n",
    "DataFrame is returned, with the new values inserted.</p>\n",
    "\n",
    "<p>Starting with Python 3.6 the order of <code class=\"docutils literal notranslate\"><span class=\"pre\">**kwargs</span></code> is preserved. This allows\n",
    "for <em>dependent</em> assignment, where an expression later in <code class=\"docutils literal notranslate\"><span class=\"pre\">**kwargs</span></code> can refer\n",
    "to a column created earlier in the same <a class=\"reference internal\" href=\"../reference/api/pandas.DataFrame.assign.html#pandas.DataFrame.assign\" title=\"pandas.DataFrame.assign\"><code class=\"xref py py-meth docutils literal notranslate\"><span class=\"pre\">assign()</span></code></a>.</p>"
   ]
  },
  {
   "cell_type": "code",
   "execution_count": null,
   "metadata": {},
   "outputs": [],
   "source": [
    "dfa = pd.DataFrame({\"A\": [1, 2, 3], \"B\": [4, 5, 6]})"
   ]
  },
  {
   "cell_type": "code",
   "execution_count": null,
   "metadata": {},
   "outputs": [],
   "source": [
    "dfa.assign(C=lambda x: x[\"A\"] + x[\"B\"], D=lambda x: x[\"A\"] + x[\"C\"])"
   ]
  },
  {
   "cell_type": "markdown",
   "metadata": {},
   "source": [
    "<p>In the second expression, <code class=\"docutils literal notranslate\"><span class=\"pre\">x['C']</span></code> will refer to the newly created column,\n",
    "that’s equal to <code class=\"docutils literal notranslate\"><span class=\"pre\">dfa['A']</span> <span class=\"pre\">+</span> <span class=\"pre\">dfa['B']</span></code>.</p>"
   ]
  },
  {
   "cell_type": "markdown",
   "metadata": {
    "jp-MarkdownHeadingCollapsed": true,
    "tags": []
   },
   "source": [
    "### Indexing / selection"
   ]
  },
  {
   "cell_type": "markdown",
   "metadata": {},
   "source": [
    "<p>The basics of indexing are as follows:</p>\n",
    "\n",
    "<table class=\"colwidths-given table\">\n",
    "<colgroup>\n",
    "<col style=\"width: 50%\">\n",
    "<col style=\"width: 33%\">\n",
    "<col style=\"width: 17%\">\n",
    "</colgroup>\n",
    "<thead>\n",
    "<tr class=\"row-odd\"><th class=\"head\"><p>Operation</p></th>\n",
    "<th class=\"head\"><p>Syntax</p></th>\n",
    "<th class=\"head\"><p>Result</p></th>\n",
    "</tr>\n",
    "</thead>\n",
    "<tbody>\n",
    "<tr class=\"row-even\"><td><p>Select column</p></td>\n",
    "<td><p><code class=\"docutils literal notranslate\"><span class=\"pre\">df[col]</span></code></p></td>\n",
    "<td><p>Series</p></td>\n",
    "</tr>\n",
    "<tr class=\"row-odd\"><td><p>Select row by label</p></td>\n",
    "<td><p><code class=\"docutils literal notranslate\"><span class=\"pre\">df.loc[label]</span></code></p></td>\n",
    "<td><p>Series</p></td>\n",
    "</tr>\n",
    "<tr class=\"row-even\"><td><p>Select row by integer location</p></td>\n",
    "<td><p><code class=\"docutils literal notranslate\"><span class=\"pre\">df.iloc[loc]</span></code></p></td>\n",
    "<td><p>Series</p></td>\n",
    "</tr>\n",
    "<tr class=\"row-odd\"><td><p>Slice rows</p></td>\n",
    "<td><p><code class=\"docutils literal notranslate\"><span class=\"pre\">df[5:10]</span></code></p></td>\n",
    "<td><p>DataFrame</p></td>\n",
    "</tr>\n",
    "<tr class=\"row-even\"><td><p>Select rows by boolean vector</p></td>\n",
    "<td><p><code class=\"docutils literal notranslate\"><span class=\"pre\">df[bool_vec]</span></code></p></td>\n",
    "<td><p>DataFrame</p></td>\n",
    "</tr>\n",
    "</tbody>\n",
    "</table>\n",
    "\n",
    "<p>Row selection, for example, returns a Series whose index is the columns of the\n",
    "DataFrame:</p>"
   ]
  },
  {
   "cell_type": "code",
   "execution_count": null,
   "metadata": {},
   "outputs": [],
   "source": [
    "df.loc[\"b\"]"
   ]
  },
  {
   "cell_type": "code",
   "execution_count": null,
   "metadata": {},
   "outputs": [],
   "source": [
    "df.iloc[2]"
   ]
  },
  {
   "cell_type": "markdown",
   "metadata": {},
   "source": [
    "<p>For a more exhaustive treatment of sophisticated label-based indexing and\n",
    "slicing, see the <a class=\"reference internal\" href=\"indexing.html#indexing\"><span class=\"std std-ref\">section on indexing</span></a>. We will address the\n",
    "fundamentals of reindexing / conforming to new sets of labels in the\n",
    "<a class=\"reference internal\" href=\"basics.html#basics-reindexing\"><span class=\"std std-ref\">section on reindexing</span></a>.</p>"
   ]
  },
  {
   "cell_type": "markdown",
   "metadata": {
    "jp-MarkdownHeadingCollapsed": true,
    "tags": []
   },
   "source": [
    "### Data alignment and arithmetic"
   ]
  },
  {
   "cell_type": "markdown",
   "metadata": {},
   "source": [
    "<p>Data alignment between DataFrame objects automatically align on <strong>both the\n",
    "columns and the index (row labels)</strong>. Again, the resulting object will have the\n",
    "union of the column and row labels.</p>"
   ]
  },
  {
   "cell_type": "code",
   "execution_count": null,
   "metadata": {},
   "outputs": [],
   "source": [
    "df = pd.DataFrame(np.random.randn(10, 4), columns=[\"A\", \"B\", \"C\", \"D\"])"
   ]
  },
  {
   "cell_type": "code",
   "execution_count": null,
   "metadata": {},
   "outputs": [],
   "source": [
    "df2 = pd.DataFrame(np.random.randn(7, 3), columns=[\"A\", \"B\", \"C\"])"
   ]
  },
  {
   "cell_type": "code",
   "execution_count": null,
   "metadata": {},
   "outputs": [],
   "source": [
    "df + df2"
   ]
  },
  {
   "cell_type": "markdown",
   "metadata": {},
   "source": [
    "<p>When doing an operation between DataFrame and Series, the default behavior is\n",
    "to align the Series <strong>index</strong> on the DataFrame <strong>columns</strong>, thus <a class=\"reference external\" href=\"https://numpy.org/doc/stable/user/basics.broadcasting.html\">broadcasting</a>\n",
    "row-wise. For example:</p>"
   ]
  },
  {
   "cell_type": "code",
   "execution_count": null,
   "metadata": {},
   "outputs": [],
   "source": [
    "df - df.iloc[0]"
   ]
  },
  {
   "cell_type": "markdown",
   "metadata": {},
   "source": [
    "<p>For explicit control over the matching and broadcasting behavior, see the\n",
    "section on <a class=\"reference internal\" href=\"basics.html#basics-binop\"><span class=\"std std-ref\">flexible binary operations</span></a>.</p>\n",
    "\n",
    "<p>Operations with scalars are just as you would expect:</p>"
   ]
  },
  {
   "cell_type": "code",
   "execution_count": null,
   "metadata": {},
   "outputs": [],
   "source": [
    "df * 5 + 2"
   ]
  },
  {
   "cell_type": "code",
   "execution_count": null,
   "metadata": {},
   "outputs": [],
   "source": [
    "1 / df"
   ]
  },
  {
   "cell_type": "code",
   "execution_count": null,
   "metadata": {},
   "outputs": [],
   "source": [
    "df ** 4"
   ]
  },
  {
   "cell_type": "markdown",
   "metadata": {},
   "source": [
    "<p id=\"dsintro-boolean\">Boolean operators work as well:</p>"
   ]
  },
  {
   "cell_type": "code",
   "execution_count": null,
   "metadata": {},
   "outputs": [],
   "source": [
    "df1 = pd.DataFrame({\"a\": [1, 0, 1], \"b\": [0, 1, 1]}, dtype=bool)"
   ]
  },
  {
   "cell_type": "code",
   "execution_count": null,
   "metadata": {},
   "outputs": [],
   "source": [
    "df2 = pd.DataFrame({\"a\": [0, 1, 1], \"b\": [1, 1, 0]}, dtype=bool)"
   ]
  },
  {
   "cell_type": "code",
   "execution_count": null,
   "metadata": {},
   "outputs": [],
   "source": [
    "df1 & df2"
   ]
  },
  {
   "cell_type": "code",
   "execution_count": null,
   "metadata": {},
   "outputs": [],
   "source": [
    "df1 | df2"
   ]
  },
  {
   "cell_type": "code",
   "execution_count": null,
   "metadata": {},
   "outputs": [],
   "source": [
    "df1 ^ df2"
   ]
  },
  {
   "cell_type": "code",
   "execution_count": null,
   "metadata": {},
   "outputs": [],
   "source": [
    "-df1"
   ]
  },
  {
   "cell_type": "markdown",
   "metadata": {
    "jp-MarkdownHeadingCollapsed": true,
    "tags": []
   },
   "source": [
    "### Transposing"
   ]
  },
  {
   "cell_type": "markdown",
   "metadata": {},
   "source": [
    "<p>To transpose, access the <code class=\"docutils literal notranslate\"><span class=\"pre\">T</span></code> attribute (also the <code class=\"docutils literal notranslate\"><span class=\"pre\">transpose</span></code> function),\n",
    "similar to an ndarray:</p>"
   ]
  },
  {
   "cell_type": "code",
   "execution_count": null,
   "metadata": {},
   "outputs": [],
   "source": [
    "df.T"
   ]
  },
  {
   "cell_type": "markdown",
   "metadata": {
    "jp-MarkdownHeadingCollapsed": true,
    "tags": []
   },
   "source": [
    "### DataFrame interoperability with NumPy functions"
   ]
  },
  {
   "cell_type": "markdown",
   "metadata": {},
   "source": [
    "<p>Elementwise NumPy ufuncs (log, exp, sqrt, …) and various other NumPy functions\n",
    "can be used with no issues on Series and DataFrame, assuming the data within\n",
    "are numeric:</p>"
   ]
  },
  {
   "cell_type": "code",
   "execution_count": null,
   "metadata": {},
   "outputs": [],
   "source": [
    "np.exp(df)"
   ]
  },
  {
   "cell_type": "code",
   "execution_count": null,
   "metadata": {},
   "outputs": [],
   "source": [
    "np.asarray(df)"
   ]
  },
  {
   "cell_type": "markdown",
   "metadata": {},
   "source": [
    "<p>DataFrame is not intended to be a drop-in replacement for ndarray as its\n",
    "indexing semantics and data model are quite different in places from an n-dimensional\n",
    "array.</p>\n",
    "\n",
    "<p><a class=\"reference internal\" href=\"../reference/api/pandas.Series.html#pandas.Series\" title=\"pandas.Series\"><code class=\"xref py py-class docutils literal notranslate\"><span class=\"pre\">Series</span></code></a> implements <code class=\"docutils literal notranslate\"><span class=\"pre\">__array_ufunc__</span></code>, which allows it to work with NumPy’s\n",
    "<a class=\"reference external\" href=\"https://numpy.org/doc/stable/reference/ufuncs.html\">universal functions</a>.</p>\n",
    "\n",
    "<p>The ufunc is applied to the underlying array in a Series.</p>"
   ]
  },
  {
   "cell_type": "code",
   "execution_count": null,
   "metadata": {},
   "outputs": [],
   "source": [
    "ser = pd.Series([1, 2, 3, 4])"
   ]
  },
  {
   "cell_type": "code",
   "execution_count": null,
   "metadata": {},
   "outputs": [],
   "source": [
    "np.exp(ser)"
   ]
  },
  {
   "cell_type": "markdown",
   "metadata": {},
   "source": [
    "<div class=\"versionchanged\">\n",
    "<p><span class=\"versionmodified changed\">Changed in version 0.25.0: </span>When multiple <code class=\"docutils literal notranslate\"><span class=\"pre\">Series</span></code> are passed to a ufunc, they are aligned before\n",
    "performing the operation.</p>\n",
    "</div>\n",
    "\n",
    "<p>Like other parts of the library, pandas will automatically align labeled inputs\n",
    "as part of a ufunc with multiple inputs. For example, using <code class=\"xref py py-meth docutils literal notranslate\"><span class=\"pre\">numpy.remainder()</span></code>\n",
    "on two <a class=\"reference internal\" href=\"../reference/api/pandas.Series.html#pandas.Series\" title=\"pandas.Series\"><code class=\"xref py py-class docutils literal notranslate\"><span class=\"pre\">Series</span></code></a> with differently ordered labels will align before the operation.</p>"
   ]
  },
  {
   "cell_type": "code",
   "execution_count": null,
   "metadata": {},
   "outputs": [],
   "source": [
    "ser1 = pd.Series([1, 2, 3], index=[\"a\", \"b\", \"c\"])"
   ]
  },
  {
   "cell_type": "code",
   "execution_count": null,
   "metadata": {},
   "outputs": [],
   "source": [
    "ser2 = pd.Series([1, 3, 5], index=[\"b\", \"a\", \"c\"])"
   ]
  },
  {
   "cell_type": "code",
   "execution_count": null,
   "metadata": {},
   "outputs": [],
   "source": [
    "ser1"
   ]
  },
  {
   "cell_type": "code",
   "execution_count": null,
   "metadata": {},
   "outputs": [],
   "source": [
    "ser2"
   ]
  },
  {
   "cell_type": "code",
   "execution_count": null,
   "metadata": {},
   "outputs": [],
   "source": [
    "np.remainder(ser1, ser2)"
   ]
  },
  {
   "cell_type": "markdown",
   "metadata": {},
   "source": [
    "<p>As usual, the union of the two indices is taken, and non-overlapping values are filled\n",
    "with missing values.</p>"
   ]
  },
  {
   "cell_type": "code",
   "execution_count": null,
   "metadata": {},
   "outputs": [],
   "source": [
    "ser3 = pd.Series([2, 4, 6], index=[\"b\", \"c\", \"d\"])"
   ]
  },
  {
   "cell_type": "code",
   "execution_count": null,
   "metadata": {},
   "outputs": [],
   "source": [
    "ser3"
   ]
  },
  {
   "cell_type": "code",
   "execution_count": null,
   "metadata": {},
   "outputs": [],
   "source": [
    "np.remainder(ser1, ser3)"
   ]
  },
  {
   "cell_type": "markdown",
   "metadata": {},
   "source": [
    "<p>When a binary ufunc is applied to a <a class=\"reference internal\" href=\"../reference/api/pandas.Series.html#pandas.Series\" title=\"pandas.Series\"><code class=\"xref py py-class docutils literal notranslate\"><span class=\"pre\">Series</span></code></a> and <a class=\"reference internal\" href=\"../reference/api/pandas.Index.html#pandas.Index\" title=\"pandas.Index\"><code class=\"xref py py-class docutils literal notranslate\"><span class=\"pre\">Index</span></code></a>, the Series\n",
    "implementation takes precedence and a Series is returned.</p>"
   ]
  },
  {
   "cell_type": "code",
   "execution_count": null,
   "metadata": {},
   "outputs": [],
   "source": [
    "ser = pd.Series([1, 2, 3])"
   ]
  },
  {
   "cell_type": "code",
   "execution_count": null,
   "metadata": {},
   "outputs": [],
   "source": [
    "idx = pd.Index([4, 5, 6])"
   ]
  },
  {
   "cell_type": "code",
   "execution_count": null,
   "metadata": {},
   "outputs": [],
   "source": [
    "np.maximum(ser, idx)"
   ]
  },
  {
   "cell_type": "markdown",
   "metadata": {},
   "source": [
    "<p>NumPy ufuncs are safe to apply to <a class=\"reference internal\" href=\"../reference/api/pandas.Series.html#pandas.Series\" title=\"pandas.Series\"><code class=\"xref py py-class docutils literal notranslate\"><span class=\"pre\">Series</span></code></a> backed by non-ndarray arrays,\n",
    "for example <a class=\"reference internal\" href=\"../reference/api/pandas.arrays.SparseArray.html#pandas.arrays.SparseArray\" title=\"pandas.arrays.SparseArray\"><code class=\"xref py py-class docutils literal notranslate\"><span class=\"pre\">arrays.SparseArray</span></code></a> (see <a class=\"reference internal\" href=\"sparse.html#sparse-calculation\"><span class=\"std std-ref\">Sparse calculation</span></a>). If possible,\n",
    "the ufunc is applied without converting the underlying data to an ndarray.</p>"
   ]
  },
  {
   "cell_type": "markdown",
   "metadata": {
    "jp-MarkdownHeadingCollapsed": true,
    "tags": []
   },
   "source": [
    "### Console display"
   ]
  },
  {
   "cell_type": "markdown",
   "metadata": {},
   "source": [
    "<p>Very large DataFrames will be truncated to display them in the console.\n",
    "You can also get a summary using <a class=\"reference internal\" href=\"../reference/api/pandas.DataFrame.info.html#pandas.DataFrame.info\" title=\"pandas.DataFrame.info\"><code class=\"xref py py-meth docutils literal notranslate\"><span class=\"pre\">info()</span></code></a>.\n",
    "(Here I am reading a CSV version of the <strong>baseball</strong> dataset from the <strong>plyr</strong>\n",
    "R package):</p>"
   ]
  },
  {
   "cell_type": "code",
   "execution_count": null,
   "metadata": {},
   "outputs": [],
   "source": [
    "baseball = pd.read_csv(\"data/baseball.csv\")"
   ]
  },
  {
   "cell_type": "code",
   "execution_count": null,
   "metadata": {},
   "outputs": [],
   "source": [
    "print(baseball)"
   ]
  },
  {
   "cell_type": "code",
   "execution_count": null,
   "metadata": {},
   "outputs": [],
   "source": [
    "baseball.info()"
   ]
  },
  {
   "cell_type": "markdown",
   "metadata": {},
   "source": [
    "<p>However, using <code class=\"docutils literal notranslate\"><span class=\"pre\">to_string</span></code> will return a string representation of the\n",
    "DataFrame in tabular form, though it won’t always fit the console width:</p>"
   ]
  },
  {
   "cell_type": "code",
   "execution_count": null,
   "metadata": {},
   "outputs": [],
   "source": [
    "print(baseball.iloc[-20:, :12].to_string())"
   ]
  },
  {
   "cell_type": "markdown",
   "metadata": {},
   "source": [
    "<p>Wide DataFrames will be printed across multiple rows by\n",
    "default:</p>"
   ]
  },
  {
   "cell_type": "code",
   "execution_count": null,
   "metadata": {},
   "outputs": [],
   "source": [
    "pd.DataFrame(np.random.randn(3, 12))"
   ]
  },
  {
   "cell_type": "markdown",
   "metadata": {},
   "source": [
    "<p>You can change how much to print on a single row by setting the <code class=\"docutils literal notranslate\"><span class=\"pre\">display.width</span></code>\n",
    "option:</p>"
   ]
  },
  {
   "cell_type": "code",
   "execution_count": null,
   "metadata": {},
   "outputs": [],
   "source": [
    "pd.set_option(\"display.width\", 40)  # default is 80"
   ]
  },
  {
   "cell_type": "code",
   "execution_count": null,
   "metadata": {},
   "outputs": [],
   "source": [
    "pd.DataFrame(np.random.randn(3, 12))"
   ]
  },
  {
   "cell_type": "markdown",
   "metadata": {},
   "source": [
    "<p>You can adjust the max width of the individual columns by setting <code class=\"docutils literal notranslate\"><span class=\"pre\">display.max_colwidth</span></code></p>"
   ]
  },
  {
   "cell_type": "code",
   "execution_count": null,
   "metadata": {},
   "outputs": [],
   "source": [
    "datafile = {\n",
    "    \"filename\": [\"filename_01\", \"filename_02\"],\n",
    "    \"path\": [\n",
    "        \"media/user_name/storage/folder_01/filename_01\",\n",
    "        \"media/user_name/storage/folder_02/filename_02\",\n",
    "    ],\n",
    "}"
   ]
  },
  {
   "cell_type": "code",
   "execution_count": null,
   "metadata": {},
   "outputs": [],
   "source": [
    "pd.set_option(\"display.max_colwidth\", 30)"
   ]
  },
  {
   "cell_type": "code",
   "execution_count": null,
   "metadata": {},
   "outputs": [],
   "source": [
    "pd.DataFrame(datafile)"
   ]
  },
  {
   "cell_type": "code",
   "execution_count": null,
   "metadata": {},
   "outputs": [],
   "source": [
    "pd.set_option(\"display.max_colwidth\", 100)"
   ]
  },
  {
   "cell_type": "code",
   "execution_count": null,
   "metadata": {},
   "outputs": [],
   "source": [
    "pd.DataFrame(datafile)"
   ]
  },
  {
   "cell_type": "markdown",
   "metadata": {},
   "source": [
    "<p>You can also disable this feature via the <code class=\"docutils literal notranslate\"><span class=\"pre\">expand_frame_repr</span></code> option.\n",
    "This will print the table in one block.</p>"
   ]
  },
  {
   "cell_type": "markdown",
   "metadata": {
    "jp-MarkdownHeadingCollapsed": true,
    "tags": []
   },
   "source": [
    "### DataFrame column attribute access and IPython completion"
   ]
  },
  {
   "cell_type": "markdown",
   "metadata": {},
   "source": [
    "<p>If a DataFrame column label is a valid Python variable name, the column can be\n",
    "accessed like an attribute:</p>"
   ]
  },
  {
   "cell_type": "code",
   "execution_count": null,
   "metadata": {},
   "outputs": [],
   "source": [
    "df = pd.DataFrame({\"foo1\": np.random.randn(5), \"foo2\": np.random.randn(5)})"
   ]
  },
  {
   "cell_type": "code",
   "execution_count": null,
   "metadata": {},
   "outputs": [],
   "source": [
    "df"
   ]
  },
  {
   "cell_type": "code",
   "execution_count": null,
   "metadata": {},
   "outputs": [],
   "source": [
    "df.foo1"
   ]
  },
  {
   "cell_type": "markdown",
   "metadata": {},
   "source": [
    "<p>The columns are also connected to the <a class=\"reference external\" href=\"https://ipython.org\">IPython</a>\n",
    "completion mechanism so they can be tab-completed:</p>"
   ]
  },
  {
   "cell_type": "markdown",
   "metadata": {},
   "source": [
    "```\n",
    "df.foo<TAB>  # noqa: E225, E999\n",
    "df.foo1  df.foo2```\n"
   ]
  },
  {
   "cell_type": "code",
   "execution_count": null,
   "metadata": {},
   "outputs": [],
   "source": []
  }
 ],
 "metadata": {
  "colab": {
   "authorship_tag": "ABX9TyPWlzuPVJFwzW86WshfgMke",
   "include_colab_link": true,
   "name": "pandas_002_Intro_to_data_structures.ipynb",
   "private_outputs": true,
   "provenance": []
  },
  "kernelspec": {
   "display_name": "Python 3 (ipykernel)",
   "language": "python",
   "name": "python3"
  },
  "language_info": {
   "codemirror_mode": {
    "name": "ipython",
    "version": 3
   },
   "file_extension": ".py",
   "mimetype": "text/x-python",
   "name": "python",
   "nbconvert_exporter": "python",
   "pygments_lexer": "ipython3",
   "version": "3.9.2"
  }
 },
 "nbformat": 4,
 "nbformat_minor": 4
}
