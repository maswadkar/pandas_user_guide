{
 "cells": [
  {
   "cell_type": "markdown",
   "metadata": {
    "colab_type": "text",
    "id": "view-in-github"
   },
   "source": [
    "<a href=\"https://colab.research.google.com/github/maswadkar/python/blob/master/pandas_002_Intro_to_data_structures.ipynb\" target=\"_parent\"><img src=\"https://colab.research.google.com/assets/colab-badge.svg\" alt=\"Open In Colab\"/></a>"
   ]
  },
  {
   "cell_type": "code",
   "execution_count": null,
   "metadata": {
    "id": "Epl9X_g9Eu9j"
   },
   "outputs": [],
   "source": [
    "import numpy as np\n",
    "import pandas as pd\n",
    "pd.__version__"
   ]
  },
  {
   "cell_type": "markdown",
   "metadata": {
    "id": "Vz6wyG-ggfoK"
   },
   "source": [
    "# Intro to data structures"
   ]
  },
  {
   "cell_type": "markdown",
   "metadata": {},
   "source": [
    "<p>We’ll start with a quick, non-comprehensive overview of the fundamental data\n",
    "structures in pandas to get you started. The fundamental behavior about data\n",
    "types, indexing, and axis labeling / alignment apply across all of the\n",
    "objects. To get started, import NumPy and load pandas into your namespace:</p>"
   ]
  },
  {
   "cell_type": "code",
   "execution_count": 1,
   "metadata": {},
   "outputs": [],
   "source": [
    "import numpy as np"
   ]
  },
  {
   "cell_type": "code",
   "execution_count": 2,
   "metadata": {},
   "outputs": [],
   "source": [
    "import pandas as pd"
   ]
  },
  {
   "cell_type": "markdown",
   "metadata": {},
   "source": [
    "<p>Here is a basic tenet to keep in mind: <strong>data alignment is intrinsic</strong>. The link\n",
    "between labels and data will not be broken unless done so explicitly by you.</p>\n",
    "\n",
    "<p>We’ll give a brief intro to the data structures, then consider all of the broad\n",
    "categories of functionality and methods in separate sections.</p>"
   ]
  },
  {
   "cell_type": "markdown",
   "metadata": {},
   "source": [
    "## Series"
   ]
  },
  {
   "cell_type": "markdown",
   "metadata": {},
   "source": [
    "<p><a class=\"reference internal\" href=\"../reference/api/pandas.Series.html#pandas.Series\" title=\"pandas.Series\"><code class=\"xref py py-class docutils literal notranslate\"><span class=\"pre\">Series</span></code></a> is a one-dimensional labeled array capable of holding any data\n",
    "type (integers, strings, floating point numbers, Python objects, etc.). The axis\n",
    "labels are collectively referred to as the <strong>index</strong>. The basic method to create a Series is to call:</p>"
   ]
  },
  {
   "cell_type": "code",
   "execution_count": 4,
   "metadata": {},
   "outputs": [
    {
     "ename": "NameError",
     "evalue": "name 'data' is not defined",
     "output_type": "error",
     "traceback": [
      "\u001b[0;31m---------------------------------------------------------------------------\u001b[0m",
      "\u001b[0;31mNameError\u001b[0m                                 Traceback (most recent call last)",
      "Cell \u001b[0;32mIn [4], line 1\u001b[0m\n\u001b[0;32m----> 1\u001b[0m s \u001b[38;5;241m=\u001b[39m pd\u001b[38;5;241m.\u001b[39mSeries(\u001b[43mdata\u001b[49m, index\u001b[38;5;241m=\u001b[39mindex)\n",
      "\u001b[0;31mNameError\u001b[0m: name 'data' is not defined"
     ]
    }
   ],
   "source": [
    "s = pd.Series(data, index=index)"
   ]
  },
  {
   "cell_type": "markdown",
   "metadata": {},
   "source": [
    "<p>Here, <code class=\"docutils literal notranslate\"><span class=\"pre\">data</span></code> can be many different things:</p>\n",
    "\n",
    "<ul class=\"simple\">\n",
    "<li><p>a Python dict</p></li>\n",
    "<li><p>an ndarray</p></li>\n",
    "<li><p>a scalar value (like 5)</p></li>\n",
    "</ul>\n",
    "\n",
    "\n",
    "<p>The passed <strong>index</strong> is a list of axis labels. Thus, this separates into a few\n",
    "cases depending on what <strong>data is</strong>:</p>\n",
    "\n",
    "\n",
    "<p><strong>From ndarray</strong></p>\n",
    "\n",
    "<p>If <code class=\"docutils literal notranslate\"><span class=\"pre\">data</span></code> is an ndarray, <strong>index</strong> must be the same length as <strong>data</strong>. If no\n",
    "index is passed, one will be created having values <code class=\"docutils literal notranslate\"><span class=\"pre\">[0,</span> <span class=\"pre\">...,</span> <span class=\"pre\">len(data)</span> <span class=\"pre\">-</span> <span class=\"pre\">1]</span></code>.</p>"
   ]
  },
  {
   "cell_type": "code",
   "execution_count": 5,
   "metadata": {},
   "outputs": [],
   "source": [
    "s = pd.Series(np.random.randn(5), index=[\"a\", \"b\", \"c\", \"d\", \"e\"])"
   ]
  },
  {
   "cell_type": "code",
   "execution_count": 6,
   "metadata": {},
   "outputs": [
    {
     "data": {
      "text/plain": [
       "a   -1.260531\n",
       "b   -2.562424\n",
       "c   -0.891685\n",
       "d   -1.130719\n",
       "e   -1.785424\n",
       "dtype: float64"
      ]
     },
     "execution_count": 6,
     "metadata": {},
     "output_type": "execute_result"
    }
   ],
   "source": [
    "s"
   ]
  },
  {
   "cell_type": "code",
   "execution_count": 7,
   "metadata": {},
   "outputs": [
    {
     "data": {
      "text/plain": [
       "Index(['a', 'b', 'c', 'd', 'e'], dtype='object')"
      ]
     },
     "execution_count": 7,
     "metadata": {},
     "output_type": "execute_result"
    }
   ],
   "source": [
    "s.index"
   ]
  },
  {
   "cell_type": "code",
   "execution_count": 8,
   "metadata": {},
   "outputs": [
    {
     "data": {
      "text/plain": [
       "0   -1.080348\n",
       "1   -0.556580\n",
       "2   -0.480786\n",
       "3   -0.081364\n",
       "4    0.087695\n",
       "dtype: float64"
      ]
     },
     "execution_count": 8,
     "metadata": {},
     "output_type": "execute_result"
    }
   ],
   "source": [
    "pd.Series(np.random.randn(5))"
   ]
  },
  {
   "cell_type": "markdown",
   "metadata": {},
   "source": [
    "<p>pandas supports non-unique index values. If an operation\n",
    "that does not support duplicate index values is attempted, an exception\n",
    "will be raised at that time. The reason for being lazy is nearly all performance-based\n",
    "(there are many instances in computations, like parts of GroupBy, where the index\n",
    "is not used).</p>\n",
    "\n",
    "\n",
    "<p><strong>From dict</strong></p>\n",
    "\n",
    "<p>Series can be instantiated from dicts:</p>"
   ]
  },
  {
   "cell_type": "code",
   "execution_count": 9,
   "metadata": {},
   "outputs": [],
   "source": [
    "d = {\"b\": 1, \"a\": 0, \"c\": 2}"
   ]
  },
  {
   "cell_type": "code",
   "execution_count": 10,
   "metadata": {},
   "outputs": [
    {
     "data": {
      "text/plain": [
       "b    1\n",
       "a    0\n",
       "c    2\n",
       "dtype: int64"
      ]
     },
     "execution_count": 10,
     "metadata": {},
     "output_type": "execute_result"
    }
   ],
   "source": [
    "pd.Series(d)"
   ]
  },
  {
   "cell_type": "markdown",
   "metadata": {},
   "source": [
    "<p>When the data is a dict, and an index is not passed, the <code class=\"docutils literal notranslate\"><span class=\"pre\">Series</span></code> index\n",
    "will be ordered by the dict’s insertion order, if you’re using Python\n",
    "version &gt;= 3.6 and pandas version &gt;= 0.23.</p>\n",
    "\n",
    "<p>If you’re using Python &lt; 3.6 or pandas &lt; 0.23, and an index is not passed,\n",
    "the <code class=\"docutils literal notranslate\"><span class=\"pre\">Series</span></code> index will be the lexically ordered list of dict keys.</p>\n",
    "\n",
    "\n",
    "<p>In the example above, if you were on a Python version lower than 3.6 or a\n",
    "pandas version lower than 0.23, the <code class=\"docutils literal notranslate\"><span class=\"pre\">Series</span></code> would be ordered by the lexical\n",
    "order of the dict keys (i.e. <code class=\"docutils literal notranslate\"><span class=\"pre\">['a',</span> <span class=\"pre\">'b',</span> <span class=\"pre\">'c']</span></code> rather than <code class=\"docutils literal notranslate\"><span class=\"pre\">['b',</span> <span class=\"pre\">'a',</span> <span class=\"pre\">'c']</span></code>).</p>\n",
    "\n",
    "<p>If an index is passed, the values in data corresponding to the labels in the\n",
    "index will be pulled out.</p>\n"
   ]
  },
  {
   "cell_type": "code",
   "execution_count": 11,
   "metadata": {},
   "outputs": [],
   "source": [
    "d = {\"a\": 0.0, \"b\": 1.0, \"c\": 2.0}"
   ]
  },
  {
   "cell_type": "code",
   "execution_count": 12,
   "metadata": {},
   "outputs": [
    {
     "data": {
      "text/plain": [
       "a    0.0\n",
       "b    1.0\n",
       "c    2.0\n",
       "dtype: float64"
      ]
     },
     "execution_count": 12,
     "metadata": {},
     "output_type": "execute_result"
    }
   ],
   "source": [
    "pd.Series(d)"
   ]
  },
  {
   "cell_type": "code",
   "execution_count": 13,
   "metadata": {},
   "outputs": [
    {
     "data": {
      "text/plain": [
       "b    1.0\n",
       "c    2.0\n",
       "d    NaN\n",
       "a    0.0\n",
       "dtype: float64"
      ]
     },
     "execution_count": 13,
     "metadata": {},
     "output_type": "execute_result"
    }
   ],
   "source": [
    "pd.Series(d, index=[\"b\", \"c\", \"d\", \"a\"])"
   ]
  },
  {
   "cell_type": "markdown",
   "metadata": {},
   "source": [
    "<p>NaN (not a number) is the standard missing data marker used in pandas.</p>"
   ]
  },
  {
   "cell_type": "markdown",
   "metadata": {},
   "source": [
    "<p><strong>From scalar value</strong></p>"
   ]
  },
  {
   "cell_type": "markdown",
   "metadata": {},
   "source": [
    "<p>If <code class=\"docutils literal notranslate\"><span class=\"pre\">data</span></code> is a scalar value, an index must be\n",
    "provided. The value will be repeated to match the length of <strong>index</strong>.</p>"
   ]
  },
  {
   "cell_type": "code",
   "execution_count": 14,
   "metadata": {},
   "outputs": [
    {
     "data": {
      "text/plain": [
       "a    5.0\n",
       "b    5.0\n",
       "c    5.0\n",
       "d    5.0\n",
       "e    5.0\n",
       "dtype: float64"
      ]
     },
     "execution_count": 14,
     "metadata": {},
     "output_type": "execute_result"
    }
   ],
   "source": [
    "pd.Series(5.0, index=[\"a\", \"b\", \"c\", \"d\", \"e\"])"
   ]
  },
  {
   "cell_type": "markdown",
   "metadata": {},
   "source": [
    "### Series is ndarray-like"
   ]
  },
  {
   "cell_type": "markdown",
   "metadata": {},
   "source": [
    "<p><code class=\"docutils literal notranslate\"><span class=\"pre\">Series</span></code> acts very similarly to a <code class=\"docutils literal notranslate\"><span class=\"pre\">ndarray</span></code>, and is a valid argument to most NumPy functions.\n",
    "However, operations such as slicing will also slice the index.</p>"
   ]
  },
  {
   "cell_type": "code",
   "execution_count": 15,
   "metadata": {},
   "outputs": [
    {
     "data": {
      "text/plain": [
       "-1.2605308851908246"
      ]
     },
     "execution_count": 15,
     "metadata": {},
     "output_type": "execute_result"
    }
   ],
   "source": [
    "s[0]"
   ]
  },
  {
   "cell_type": "code",
   "execution_count": 16,
   "metadata": {},
   "outputs": [
    {
     "data": {
      "text/plain": [
       "a   -1.260531\n",
       "b   -2.562424\n",
       "c   -0.891685\n",
       "dtype: float64"
      ]
     },
     "execution_count": 16,
     "metadata": {},
     "output_type": "execute_result"
    }
   ],
   "source": [
    "s[:3]"
   ]
  },
  {
   "cell_type": "code",
   "execution_count": 17,
   "metadata": {},
   "outputs": [
    {
     "data": {
      "text/plain": [
       "c   -0.891685\n",
       "d   -1.130719\n",
       "dtype: float64"
      ]
     },
     "execution_count": 17,
     "metadata": {},
     "output_type": "execute_result"
    }
   ],
   "source": [
    "s[s > s.median()]"
   ]
  },
  {
   "cell_type": "code",
   "execution_count": 18,
   "metadata": {},
   "outputs": [
    {
     "data": {
      "text/plain": [
       "e   -1.785424\n",
       "d   -1.130719\n",
       "b   -2.562424\n",
       "dtype: float64"
      ]
     },
     "execution_count": 18,
     "metadata": {},
     "output_type": "execute_result"
    }
   ],
   "source": [
    "s[[4, 3, 1]]"
   ]
  },
  {
   "cell_type": "code",
   "execution_count": 19,
   "metadata": {},
   "outputs": [
    {
     "data": {
      "text/plain": [
       "a    0.283503\n",
       "b    0.077118\n",
       "c    0.409964\n",
       "d    0.322801\n",
       "e    0.167726\n",
       "dtype: float64"
      ]
     },
     "execution_count": 19,
     "metadata": {},
     "output_type": "execute_result"
    }
   ],
   "source": [
    "np.exp(s)"
   ]
  },
  {
   "cell_type": "markdown",
   "metadata": {},
   "source": [
    "<div class=\"admonition note\">\n",
    "<p class=\"admonition-title\">Note</p>\n",
    "<p>We will address array-based indexing like <code class=\"docutils literal notranslate\"><span class=\"pre\">s[[4,</span> <span class=\"pre\">3,</span> <span class=\"pre\">1]]</span></code>\n",
    "in <a class=\"reference internal\" href=\"indexing.html#indexing\"><span class=\"std std-ref\">section on indexing</span></a>.</p>\n",
    "</div>"
   ]
  },
  {
   "cell_type": "markdown",
   "metadata": {},
   "source": [
    "<p>Like a NumPy array, a pandas Series has a <a class=\"reference internal\" href=\"../reference/api/pandas.Series.dtype.html#pandas.Series.dtype\" title=\"pandas.Series.dtype\"><code class=\"xref py py-attr docutils literal notranslate\"><span class=\"pre\">dtype</span></code></a>.</p>"
   ]
  },
  {
   "cell_type": "code",
   "execution_count": 20,
   "metadata": {},
   "outputs": [
    {
     "data": {
      "text/plain": [
       "dtype('float64')"
      ]
     },
     "execution_count": 20,
     "metadata": {},
     "output_type": "execute_result"
    }
   ],
   "source": [
    "s.dtype"
   ]
  },
  {
   "cell_type": "markdown",
   "metadata": {},
   "source": [
    "<p>This is often a NumPy dtype. However, pandas and 3rd-party libraries\n",
    "extend NumPy’s type system in a few places, in which case the dtype would\n",
    "be an <a class=\"reference internal\" href=\"../reference/api/pandas.api.extensions.ExtensionDtype.html#pandas.api.extensions.ExtensionDtype\" title=\"pandas.api.extensions.ExtensionDtype\"><code class=\"xref py py-class docutils literal notranslate\"><span class=\"pre\">ExtensionDtype</span></code></a>. Some examples within\n",
    "pandas are <a class=\"reference internal\" href=\"categorical.html#categorical\"><span class=\"std std-ref\">Categorical data</span></a> and <a class=\"reference internal\" href=\"integer_na.html#integer-na\"><span class=\"std std-ref\">Nullable integer data type</span></a>. See <a class=\"reference internal\" href=\"basics.html#basics-dtypes\"><span class=\"std std-ref\">dtypes</span></a>\n",
    "for more.</p>"
   ]
  },
  {
   "cell_type": "markdown",
   "metadata": {},
   "source": [
    "<p>If you need the actual array backing a <code class=\"docutils literal notranslate\"><span class=\"pre\">Series</span></code>, use <a class=\"reference internal\" href=\"../reference/api/pandas.Series.array.html#pandas.Series.array\" title=\"pandas.Series.array\"><code class=\"xref py py-attr docutils literal notranslate\"><span class=\"pre\">Series.array</span></code></a>.</p>"
   ]
  },
  {
   "cell_type": "code",
   "execution_count": 21,
   "metadata": {},
   "outputs": [
    {
     "data": {
      "text/plain": [
       "<PandasArray>\n",
       "[-1.2605308851908246,  -2.562424372303493, -0.8916853999803319,\n",
       " -1.1307187283718223, -1.7854235998804042]\n",
       "Length: 5, dtype: float64"
      ]
     },
     "execution_count": 21,
     "metadata": {},
     "output_type": "execute_result"
    }
   ],
   "source": [
    "s.array"
   ]
  },
  {
   "cell_type": "markdown",
   "metadata": {},
   "source": [
    "\n",
    "\n",
    "\n",
    "<p>Accessing the array can be useful when you need to do some operation without the\n",
    "index (to disable <a class=\"reference internal\" href=\"#dsintro-alignment\"><span class=\"std std-ref\">automatic alignment</span></a>, for example).</p>\n",
    "\n",
    "<p><a class=\"reference internal\" href=\"../reference/api/pandas.Series.array.html#pandas.Series.array\" title=\"pandas.Series.array\"><code class=\"xref py py-attr docutils literal notranslate\"><span class=\"pre\">Series.array</span></code></a> will always be an <a class=\"reference internal\" href=\"../reference/api/pandas.api.extensions.ExtensionArray.html#pandas.api.extensions.ExtensionArray\" title=\"pandas.api.extensions.ExtensionArray\"><code class=\"xref py py-class docutils literal notranslate\"><span class=\"pre\">ExtensionArray</span></code></a>.\n",
    "Briefly, an ExtensionArray is a thin wrapper around one or more <em>concrete</em> arrays like a\n",
    "<a class=\"reference external\" href=\"https://numpy.org/doc/stable/reference/generated/numpy.ndarray.html#numpy.ndarray\" title=\"(in NumPy v1.23)\"><code class=\"xref py py-class docutils literal notranslate\"><span class=\"pre\">numpy.ndarray</span></code></a>. pandas knows how to take an <code class=\"docutils literal notranslate\"><span class=\"pre\">ExtensionArray</span></code> and\n",
    "store it in a <code class=\"docutils literal notranslate\"><span class=\"pre\">Series</span></code> or a column of a <code class=\"docutils literal notranslate\"><span class=\"pre\">DataFrame</span></code>.\n",
    "See <a class=\"reference internal\" href=\"basics.html#basics-dtypes\"><span class=\"std std-ref\">dtypes</span></a> for more.</p>\n",
    "\n",
    "\n",
    "\n",
    "<p>While Series is ndarray-like, if you need an <em>actual</em> ndarray, then use\n",
    "<a class=\"reference internal\" href=\"../reference/api/pandas.Series.to_numpy.html#pandas.Series.to_numpy\" title=\"pandas.Series.to_numpy\"><code class=\"xref py py-meth docutils literal notranslate\"><span class=\"pre\">Series.to_numpy()</span></code></a>.</p>"
   ]
  },
  {
   "cell_type": "code",
   "execution_count": 22,
   "metadata": {},
   "outputs": [
    {
     "data": {
      "text/plain": [
       "array([-1.26053089, -2.56242437, -0.8916854 , -1.13071873, -1.7854236 ])"
      ]
     },
     "execution_count": 22,
     "metadata": {},
     "output_type": "execute_result"
    }
   ],
   "source": [
    "s.to_numpy()"
   ]
  },
  {
   "cell_type": "markdown",
   "metadata": {},
   "source": [
    "<p>Even if the Series is backed by a <a class=\"reference internal\" href=\"../reference/api/pandas.api.extensions.ExtensionArray.html#pandas.api.extensions.ExtensionArray\" title=\"pandas.api.extensions.ExtensionArray\"><code class=\"xref py py-class docutils literal notranslate\"><span class=\"pre\">ExtensionArray</span></code></a>,\n",
    "<a class=\"reference internal\" href=\"../reference/api/pandas.Series.to_numpy.html#pandas.Series.to_numpy\" title=\"pandas.Series.to_numpy\"><code class=\"xref py py-meth docutils literal notranslate\"><span class=\"pre\">Series.to_numpy()</span></code></a> will return a NumPy ndarray.</p>"
   ]
  },
  {
   "cell_type": "markdown",
   "metadata": {},
   "source": [
    "### Series is dict-like"
   ]
  },
  {
   "cell_type": "markdown",
   "metadata": {},
   "source": [
    "<p>A Series is like a fixed-size dict in that you can get and set values by index\n",
    "label:</p>"
   ]
  },
  {
   "cell_type": "code",
   "execution_count": 23,
   "metadata": {},
   "outputs": [
    {
     "data": {
      "text/plain": [
       "-1.2605308851908246"
      ]
     },
     "execution_count": 23,
     "metadata": {},
     "output_type": "execute_result"
    }
   ],
   "source": [
    "s[\"a\"]"
   ]
  },
  {
   "cell_type": "code",
   "execution_count": 24,
   "metadata": {},
   "outputs": [],
   "source": [
    "s[\"e\"] = 12.0"
   ]
  },
  {
   "cell_type": "code",
   "execution_count": 25,
   "metadata": {},
   "outputs": [
    {
     "data": {
      "text/plain": [
       "a    -1.260531\n",
       "b    -2.562424\n",
       "c    -0.891685\n",
       "d    -1.130719\n",
       "e    12.000000\n",
       "dtype: float64"
      ]
     },
     "execution_count": 25,
     "metadata": {},
     "output_type": "execute_result"
    }
   ],
   "source": [
    "s"
   ]
  },
  {
   "cell_type": "code",
   "execution_count": 26,
   "metadata": {},
   "outputs": [
    {
     "data": {
      "text/plain": [
       "True"
      ]
     },
     "execution_count": 26,
     "metadata": {},
     "output_type": "execute_result"
    }
   ],
   "source": [
    "\"e\" in s"
   ]
  },
  {
   "cell_type": "code",
   "execution_count": 27,
   "metadata": {},
   "outputs": [
    {
     "data": {
      "text/plain": [
       "False"
      ]
     },
     "execution_count": 27,
     "metadata": {},
     "output_type": "execute_result"
    }
   ],
   "source": [
    "\"f\" in s"
   ]
  },
  {
   "cell_type": "markdown",
   "metadata": {},
   "source": [
    "<p>If a label is not contained, an exception is raised:</p>"
   ]
  },
  {
   "cell_type": "code",
   "execution_count": 29,
   "metadata": {},
   "outputs": [
    {
     "name": "stdout",
     "output_type": "stream",
     "text": [
      "'f'\n"
     ]
    }
   ],
   "source": [
    "try:\n",
    "    s[\"f\"]\n",
    "except Exception as e:\n",
    "    print(e)"
   ]
  },
  {
   "cell_type": "markdown",
   "metadata": {},
   "source": [
    "<p>Using the <code class=\"docutils literal notranslate\"><span class=\"pre\">get</span></code> method, a missing label will return None or specified default:</p>"
   ]
  },
  {
   "cell_type": "code",
   "execution_count": 33,
   "metadata": {},
   "outputs": [],
   "source": [
    "s.get(\"f\")"
   ]
  },
  {
   "cell_type": "code",
   "execution_count": 34,
   "metadata": {},
   "outputs": [
    {
     "data": {
      "text/plain": [
       "nan"
      ]
     },
     "execution_count": 34,
     "metadata": {},
     "output_type": "execute_result"
    }
   ],
   "source": [
    "s.get(\"f\", np.nan)"
   ]
  },
  {
   "cell_type": "markdown",
   "metadata": {},
   "source": [
    "<p>See also the <a class=\"reference internal\" href=\"indexing.html#indexing-attribute-access\"><span class=\"std std-ref\">section on attribute access</span></a>.</p>"
   ]
  },
  {
   "cell_type": "markdown",
   "metadata": {},
   "source": [
    "### Vectorized operations and label alignment with Series"
   ]
  },
  {
   "cell_type": "markdown",
   "metadata": {},
   "source": [
    "<p>When working with raw NumPy arrays, looping through value-by-value is usually\n",
    "not necessary. The same is true when working with Series in pandas.\n",
    "Series can also be passed into most NumPy methods expecting an ndarray.</p>"
   ]
  },
  {
   "cell_type": "code",
   "execution_count": 35,
   "metadata": {},
   "outputs": [
    {
     "data": {
      "text/plain": [
       "a    -2.521062\n",
       "b    -5.124849\n",
       "c    -1.783371\n",
       "d    -2.261437\n",
       "e    24.000000\n",
       "dtype: float64"
      ]
     },
     "execution_count": 35,
     "metadata": {},
     "output_type": "execute_result"
    }
   ],
   "source": [
    "s + s"
   ]
  },
  {
   "cell_type": "code",
   "execution_count": 36,
   "metadata": {},
   "outputs": [
    {
     "data": {
      "text/plain": [
       "a    -2.521062\n",
       "b    -5.124849\n",
       "c    -1.783371\n",
       "d    -2.261437\n",
       "e    24.000000\n",
       "dtype: float64"
      ]
     },
     "execution_count": 36,
     "metadata": {},
     "output_type": "execute_result"
    }
   ],
   "source": [
    "s*2"
   ]
  },
  {
   "cell_type": "code",
   "execution_count": 37,
   "metadata": {},
   "outputs": [
    {
     "data": {
      "text/plain": [
       "a         0.283503\n",
       "b         0.077118\n",
       "c         0.409964\n",
       "d         0.322801\n",
       "e    162754.791419\n",
       "dtype: float64"
      ]
     },
     "execution_count": 37,
     "metadata": {},
     "output_type": "execute_result"
    }
   ],
   "source": [
    "np.exp(s)"
   ]
  },
  {
   "cell_type": "markdown",
   "metadata": {},
   "source": [
    "<p>A key difference between Series and ndarray is that operations between Series\n",
    "automatically align the data based on label. Thus, you can write computations\n",
    "without giving consideration to whether the Series involved have the same\n",
    "labels.</p>"
   ]
  },
  {
   "cell_type": "code",
   "execution_count": 41,
   "metadata": {},
   "outputs": [
    {
     "data": {
      "text/plain": [
       "a         NaN\n",
       "b   -5.124849\n",
       "c   -1.783371\n",
       "d   -2.261437\n",
       "e         NaN\n",
       "dtype: float64"
      ]
     },
     "execution_count": 41,
     "metadata": {},
     "output_type": "execute_result"
    }
   ],
   "source": [
    "s[1:] + s[:-1]"
   ]
  },
  {
   "cell_type": "markdown",
   "metadata": {},
   "source": [
    "<p>The result of an operation between unaligned Series will have the <strong>union</strong> of\n",
    "the indexes involved. If a label is not found in one Series or the other, the\n",
    "result will be marked as missing <code class=\"docutils literal notranslate\"><span class=\"pre\">NaN</span></code>. Being able to write code without doing\n",
    "any explicit data alignment grants immense freedom and flexibility in\n",
    "interactive data analysis and research. The integrated data alignment features\n",
    "of the pandas data structures set pandas apart from the majority of related\n",
    "tools for working with labeled data.</p>\n",
    "\n",
    "<div class=\"admonition note\">\n",
    "<p class=\"admonition-title\">Note</p>\n",
    "<p>In general, we chose to make the default result of operations between\n",
    "differently indexed objects yield the <strong>union</strong> of the indexes in order to\n",
    "avoid loss of information. Having an index label, though the data is\n",
    "missing, is typically important information as part of a computation. You\n",
    "of course have the option of dropping labels with missing data via the\n",
    "<strong>dropna</strong> function.</p>\n",
    "</div>"
   ]
  },
  {
   "cell_type": "markdown",
   "metadata": {},
   "source": [
    "### Name attribute"
   ]
  },
  {
   "cell_type": "markdown",
   "metadata": {},
   "source": [
    "<p id=\"dsintro-name-attribute\">Series can also have a <code class=\"docutils literal notranslate\"><span class=\"pre\">name</span></code> attribute:</p>"
   ]
  },
  {
   "cell_type": "code",
   "execution_count": 42,
   "metadata": {},
   "outputs": [],
   "source": [
    "s = pd.Series(np.random.randn(5), name=\"something\")"
   ]
  },
  {
   "cell_type": "code",
   "execution_count": 43,
   "metadata": {},
   "outputs": [
    {
     "data": {
      "text/plain": [
       "0   -1.372559\n",
       "1   -0.911411\n",
       "2    0.265166\n",
       "3    0.191703\n",
       "4   -0.392966\n",
       "Name: something, dtype: float64"
      ]
     },
     "execution_count": 43,
     "metadata": {},
     "output_type": "execute_result"
    }
   ],
   "source": [
    "s"
   ]
  },
  {
   "cell_type": "code",
   "execution_count": 44,
   "metadata": {},
   "outputs": [
    {
     "data": {
      "text/plain": [
       "'something'"
      ]
     },
     "execution_count": 44,
     "metadata": {},
     "output_type": "execute_result"
    }
   ],
   "source": [
    "s.name"
   ]
  },
  {
   "cell_type": "markdown",
   "metadata": {},
   "source": [
    "<p>The Series <code class=\"docutils literal notranslate\"><span class=\"pre\">name</span></code> will be assigned automatically in many cases, in particular\n",
    "when taking 1D slices of DataFrame as you will see below.</p>\n",
    "\n",
    "<p>You can rename a Series with the <a class=\"reference internal\" href=\"../reference/api/pandas.Series.rename.html#pandas.Series.rename\" title=\"pandas.Series.rename\"><code class=\"xref py py-meth docutils literal notranslate\"><span class=\"pre\">pandas.Series.rename()</span></code></a> method.</p>"
   ]
  },
  {
   "cell_type": "code",
   "execution_count": 45,
   "metadata": {},
   "outputs": [],
   "source": [
    "s2 = s.rename(\"different\")"
   ]
  },
  {
   "cell_type": "code",
   "execution_count": 46,
   "metadata": {},
   "outputs": [
    {
     "data": {
      "text/plain": [
       "'different'"
      ]
     },
     "execution_count": 46,
     "metadata": {},
     "output_type": "execute_result"
    }
   ],
   "source": [
    "s2.name"
   ]
  },
  {
   "cell_type": "markdown",
   "metadata": {},
   "source": [
    "<p>Note that <code class=\"docutils literal notranslate\"><span class=\"pre\">s</span></code> and <code class=\"docutils literal notranslate\"><span class=\"pre\">s2</span></code> refer to different objects.</p>"
   ]
  },
  {
   "cell_type": "markdown",
   "metadata": {},
   "source": [
    "## DataFrame"
   ]
  },
  {
   "cell_type": "code",
   "execution_count": null,
   "metadata": {},
   "outputs": [],
   "source": []
  }
 ],
 "metadata": {
  "colab": {
   "authorship_tag": "ABX9TyPWlzuPVJFwzW86WshfgMke",
   "include_colab_link": true,
   "name": "pandas_002_Intro_to_data_structures.ipynb",
   "private_outputs": true,
   "provenance": []
  },
  "kernelspec": {
   "display_name": "Python 3 (ipykernel)",
   "language": "python",
   "name": "python3"
  },
  "language_info": {
   "codemirror_mode": {
    "name": "ipython",
    "version": 3
   },
   "file_extension": ".py",
   "mimetype": "text/x-python",
   "name": "python",
   "nbconvert_exporter": "python",
   "pygments_lexer": "ipython3",
   "version": "3.9.2"
  }
 },
 "nbformat": 4,
 "nbformat_minor": 4
}
