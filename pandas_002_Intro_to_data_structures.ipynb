{
  "nbformat": 4,
  "nbformat_minor": 0,
  "metadata": {
    "colab": {
      "name": "pandas_002_Intro_to_data_structures.ipynb",
      "private_outputs": true,
      "provenance": [],
      "authorship_tag": "ABX9TyPWlzuPVJFwzW86WshfgMke",
      "include_colab_link": true
    },
    "kernelspec": {
      "name": "python3",
      "display_name": "Python 3"
    },
    "language_info": {
      "name": "python"
    }
  },
  "cells": [
    {
      "cell_type": "markdown",
      "metadata": {
        "id": "view-in-github",
        "colab_type": "text"
      },
      "source": [
        "<a href=\"https://colab.research.google.com/github/maswadkar/python/blob/master/pandas_002_Intro_to_data_structures.ipynb\" target=\"_parent\"><img src=\"https://colab.research.google.com/assets/colab-badge.svg\" alt=\"Open In Colab\"/></a>"
      ]
    },
    {
      "cell_type": "code",
      "execution_count": null,
      "metadata": {
        "id": "Epl9X_g9Eu9j"
      },
      "outputs": [],
      "source": [
        "import numpy as np\n",
        "import pandas as pd\n",
        "pd.__version__"
      ]
    },
    {
      "cell_type": "markdown",
      "source": [
        "**Series** is a one-dimensional labeled array capable of holding any data type (integers, strings, floating point numbers, Python objects, etc.). The axis labels are collectively referred to as the index. The basic method to create a Series is to call:"
      ],
      "metadata": {
        "id": "kbf1gMwZfnNL"
      }
    },
    {
      "cell_type": "markdown",
      "source": [
        "Here, data can be many different things:\n",
        "\n",
        "- a Python dict\n",
        "- an ndarray\n",
        "- a scalar value (like 5)\n",
        "\n",
        "The passed index is a list of axis labels. Thus, this separates into a few cases depending on what data is:\n",
        "\n",
        "From ndarray:\n",
        "\n",
        "If data is an ndarray, **index** must be the same length as **data**. If no index is passed, one will be created having values\n",
        " `[0, ..., len(data) - 1]`."
      ],
      "metadata": {
        "id": "QBmJv1fGf5Hi"
      }
    },
    {
      "cell_type": "code",
      "source": [
        "s = pd.Series(np.random.randn(5), index=[\"a\", \"b\", \"c\", \"d\", \"e\"])\n",
        "s"
      ],
      "metadata": {
        "id": "2ZMeEZ8JE3nY"
      },
      "execution_count": null,
      "outputs": []
    },
    {
      "cell_type": "code",
      "source": [
        "s.index"
      ],
      "metadata": {
        "id": "QcVz1_KdgcKg"
      },
      "execution_count": null,
      "outputs": []
    },
    {
      "cell_type": "code",
      "source": [
        ""
      ],
      "metadata": {
        "id": "Vz6wyG-ggfoK"
      },
      "execution_count": null,
      "outputs": []
    }
  ]
}