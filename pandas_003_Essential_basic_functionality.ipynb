{
 "cells": [
  {
   "cell_type": "markdown",
   "metadata": {
    "colab_type": "text",
    "id": "view-in-github"
   },
   "source": [
    "<a href=\"https://colab.research.google.com/github/maswadkar/python/blob/master/pandas_003_Essential_basic_functionality.ipynb\" target=\"_parent\"><img src=\"https://colab.research.google.com/assets/colab-badge.svg\" alt=\"Open In Colab\"/></a>"
   ]
  },
  {
   "cell_type": "code",
   "execution_count": null,
   "metadata": {
    "id": "nydiCiWkFxxt"
   },
   "outputs": [],
   "source": [
    "import numpy as np\n",
    "import pandas as pd\n",
    "pd.__version__"
   ]
  },
  {
   "cell_type": "markdown",
   "metadata": {
    "tags": []
   },
   "source": [
    "# Essential basic functionality"
   ]
  },
  {
   "cell_type": "markdown",
   "metadata": {},
   "source": [
    "<p>Here we discuss a lot of the essential functionality common to the pandas data\n",
    "structures. To begin, let’s create some example objects like we did in\n",
    "the <a class=\"reference internal\" href=\"10min.html#min\"><span class=\"std std-ref\">10 minutes to pandas</span></a> section:</p>"
   ]
  },
  {
   "cell_type": "code",
   "execution_count": null,
   "metadata": {
    "id": "_kyNsIh0Fnw2"
   },
   "outputs": [],
   "source": [
    "index = pd.date_range(\"1/1/2000\", periods=8)\n",
    "s = pd.Series(np.random.randn(5), index=[\"a\", \"b\", \"c\", \"d\", \"e\"])\n",
    "df = pd.DataFrame(np.random.randn(8, 3), index=index, columns=[\"A\", \"B\", \"C\"])"
   ]
  },
  {
   "cell_type": "markdown",
   "metadata": {
    "id": "HJA2y5r0F3pR",
    "jp-MarkdownHeadingCollapsed": true,
    "tags": []
   },
   "source": [
    "## Head and tail"
   ]
  },
  {
   "cell_type": "markdown",
   "metadata": {},
   "source": [
    "<p>To view a small sample of a Series or DataFrame object, use the\n",
    "<a class=\"reference internal\" href=\"../reference/api/pandas.DataFrame.head.html#pandas.DataFrame.head\" title=\"pandas.DataFrame.head\"><code class=\"xref py py-meth docutils literal notranslate\"><span class=\"pre\">head()</span></code></a> and <a class=\"reference internal\" href=\"../reference/api/pandas.DataFrame.tail.html#pandas.DataFrame.tail\" title=\"pandas.DataFrame.tail\"><code class=\"xref py py-meth docutils literal notranslate\"><span class=\"pre\">tail()</span></code></a> methods. The default number\n",
    "of elements to display is five, but you may pass a custom number.</p>"
   ]
  },
  {
   "cell_type": "code",
   "execution_count": null,
   "metadata": {},
   "outputs": [],
   "source": [
    "long_series = pd.Series(np.random.randn(1000))"
   ]
  },
  {
   "cell_type": "code",
   "execution_count": null,
   "metadata": {},
   "outputs": [],
   "source": [
    "long_series.head()"
   ]
  },
  {
   "cell_type": "code",
   "execution_count": null,
   "metadata": {},
   "outputs": [],
   "source": [
    "long_series.tail(3)"
   ]
  },
  {
   "cell_type": "markdown",
   "metadata": {
    "jp-MarkdownHeadingCollapsed": true,
    "tags": []
   },
   "source": [
    "## Attributes and underlying data"
   ]
  },
  {
   "cell_type": "markdown",
   "metadata": {},
   "source": [
    "<p>pandas objects have a number of attributes enabling you to access the metadata</p>\n",
    "<ul class=\"simple\">\n",
    "<li><p><strong>shape</strong>: gives the axis dimensions of the object, consistent with ndarray</p></li>\n",
    "<li><dl class=\"simple\">\n",
    "<dt>Axis labels</dt><dd><ul>\n",
    "<li><p><strong>Series</strong>: <em>index</em> (only axis)</p></li>\n",
    "<li><p><strong>DataFrame</strong>: <em>index</em> (rows) and <em>columns</em></p></li>\n",
    "</ul>\n",
    "</dd>\n",
    "</dl>\n",
    "</li>\n",
    "</ul>\n",
    "\n",
    "<p>Note, <strong>these attributes can be safely assigned to</strong>!</p>"
   ]
  },
  {
   "cell_type": "code",
   "execution_count": null,
   "metadata": {},
   "outputs": [],
   "source": [
    "df[:2]"
   ]
  },
  {
   "cell_type": "code",
   "execution_count": null,
   "metadata": {},
   "outputs": [],
   "source": [
    "df.columns = [x.lower() for x in df.columns]"
   ]
  },
  {
   "cell_type": "code",
   "execution_count": null,
   "metadata": {},
   "outputs": [],
   "source": [
    "df"
   ]
  },
  {
   "cell_type": "markdown",
   "metadata": {},
   "source": [
    "<p>pandas objects (<a class=\"reference internal\" href=\"../reference/api/pandas.Index.html#pandas.Index\" title=\"pandas.Index\"><code class=\"xref py py-class docutils literal notranslate\"><span class=\"pre\">Index</span></code></a>, <a class=\"reference internal\" href=\"../reference/api/pandas.Series.html#pandas.Series\" title=\"pandas.Series\"><code class=\"xref py py-class docutils literal notranslate\"><span class=\"pre\">Series</span></code></a>, <a class=\"reference internal\" href=\"../reference/api/pandas.DataFrame.html#pandas.DataFrame\" title=\"pandas.DataFrame\"><code class=\"xref py py-class docutils literal notranslate\"><span class=\"pre\">DataFrame</span></code></a>) can be\n",
    "thought of as containers for arrays, which hold the actual data and do the\n",
    "actual computation. For many types, the underlying array is a\n",
    "<a class=\"reference external\" href=\"https://numpy.org/doc/stable/reference/generated/numpy.ndarray.html#numpy.ndarray\" title=\"(in NumPy v1.23)\"><code class=\"xref py py-class docutils literal notranslate\"><span class=\"pre\">numpy.ndarray</span></code></a>. However, pandas and 3rd party libraries may <em>extend</em>\n",
    "NumPy’s type system to add support for custom arrays\n",
    "(see <a class=\"reference internal\" href=\"#basics-dtypes\"><span class=\"std std-ref\">dtypes</span></a>).</p>\n",
    "\n",
    "<p>To get the actual data inside a <a class=\"reference internal\" href=\"../reference/api/pandas.Index.html#pandas.Index\" title=\"pandas.Index\"><code class=\"xref py py-class docutils literal notranslate\"><span class=\"pre\">Index</span></code></a> or <a class=\"reference internal\" href=\"../reference/api/pandas.Series.html#pandas.Series\" title=\"pandas.Series\"><code class=\"xref py py-class docutils literal notranslate\"><span class=\"pre\">Series</span></code></a>, use\n",
    "the <code class=\"docutils literal notranslate\"><span class=\"pre\">.array</span></code> property</p>"
   ]
  },
  {
   "cell_type": "code",
   "execution_count": null,
   "metadata": {},
   "outputs": [],
   "source": [
    "s.array"
   ]
  },
  {
   "cell_type": "code",
   "execution_count": null,
   "metadata": {},
   "outputs": [],
   "source": [
    "s.index.array"
   ]
  },
  {
   "cell_type": "markdown",
   "metadata": {},
   "source": [
    "<p><a class=\"reference internal\" href=\"../reference/api/pandas.Series.array.html#pandas.Series.array\" title=\"pandas.Series.array\"><code class=\"xref py py-attr docutils literal notranslate\"><span class=\"pre\">array</span></code></a> will always be an <a class=\"reference internal\" href=\"../reference/api/pandas.api.extensions.ExtensionArray.html#pandas.api.extensions.ExtensionArray\" title=\"pandas.api.extensions.ExtensionArray\"><code class=\"xref py py-class docutils literal notranslate\"><span class=\"pre\">ExtensionArray</span></code></a>.\n",
    "The exact details of what an <a class=\"reference internal\" href=\"../reference/api/pandas.api.extensions.ExtensionArray.html#pandas.api.extensions.ExtensionArray\" title=\"pandas.api.extensions.ExtensionArray\"><code class=\"xref py py-class docutils literal notranslate\"><span class=\"pre\">ExtensionArray</span></code></a> is and why pandas uses them are a bit\n",
    "beyond the scope of this introduction. See <a class=\"reference internal\" href=\"#basics-dtypes\"><span class=\"std std-ref\">dtypes</span></a> for more.</p>"
   ]
  },
  {
   "cell_type": "markdown",
   "metadata": {},
   "source": [
    "<p>If you know you need a NumPy array, use <a class=\"reference internal\" href=\"../reference/api/pandas.Series.to_numpy.html#pandas.Series.to_numpy\" title=\"pandas.Series.to_numpy\"><code class=\"xref py py-meth docutils literal notranslate\"><span class=\"pre\">to_numpy()</span></code></a>\n",
    "or <code class=\"xref py py-meth docutils literal notranslate\"><span class=\"pre\">numpy.asarray()</span></code>.</p>"
   ]
  },
  {
   "cell_type": "code",
   "execution_count": null,
   "metadata": {},
   "outputs": [],
   "source": [
    "s.to_numpy()"
   ]
  },
  {
   "cell_type": "code",
   "execution_count": null,
   "metadata": {},
   "outputs": [],
   "source": [
    "np.asarray(s)"
   ]
  },
  {
   "cell_type": "markdown",
   "metadata": {},
   "source": [
    "<p>When the Series or Index is backed by\n",
    "an <a class=\"reference internal\" href=\"../reference/api/pandas.api.extensions.ExtensionArray.html#pandas.api.extensions.ExtensionArray\" title=\"pandas.api.extensions.ExtensionArray\"><code class=\"xref py py-class docutils literal notranslate\"><span class=\"pre\">ExtensionArray</span></code></a>, <a class=\"reference internal\" href=\"../reference/api/pandas.Series.to_numpy.html#pandas.Series.to_numpy\" title=\"pandas.Series.to_numpy\"><code class=\"xref py py-meth docutils literal notranslate\"><span class=\"pre\">to_numpy()</span></code></a>\n",
    "may involve copying data and coercing values. See <a class=\"reference internal\" href=\"#basics-dtypes\"><span class=\"std std-ref\">dtypes</span></a> for more.</p>\n",
    "\n",
    "<p><a class=\"reference internal\" href=\"../reference/api/pandas.Series.to_numpy.html#pandas.Series.to_numpy\" title=\"pandas.Series.to_numpy\"><code class=\"xref py py-meth docutils literal notranslate\"><span class=\"pre\">to_numpy()</span></code></a> gives some control over the <code class=\"docutils literal notranslate\"><span class=\"pre\">dtype</span></code> of the\n",
    "resulting <a class=\"reference external\" href=\"https://numpy.org/doc/stable/reference/generated/numpy.ndarray.html#numpy.ndarray\" title=\"(in NumPy v1.23)\"><code class=\"xref py py-class docutils literal notranslate\"><span class=\"pre\">numpy.ndarray</span></code></a>. For example, consider datetimes with timezones.\n",
    "NumPy doesn’t have a dtype to represent timezone-aware datetimes, so there\n",
    "are two possibly useful representations:</p>\n",
    "\n",
    "\n",
    "<ol class=\"arabic simple\">\n",
    "<li><p>An object-dtype <a class=\"reference external\" href=\"https://numpy.org/doc/stable/reference/generated/numpy.ndarray.html#numpy.ndarray\" title=\"(in NumPy v1.23)\"><code class=\"xref py py-class docutils literal notranslate\"><span class=\"pre\">numpy.ndarray</span></code></a> with <a class=\"reference internal\" href=\"../reference/api/pandas.Timestamp.html#pandas.Timestamp\" title=\"pandas.Timestamp\"><code class=\"xref py py-class docutils literal notranslate\"><span class=\"pre\">Timestamp</span></code></a> objects, each\n",
    "with the correct <code class=\"docutils literal notranslate\"><span class=\"pre\">tz</span></code></p></li>\n",
    "<li><p>A <code class=\"docutils literal notranslate\"><span class=\"pre\">datetime64[ns]</span></code> -dtype <a class=\"reference external\" href=\"https://numpy.org/doc/stable/reference/generated/numpy.ndarray.html#numpy.ndarray\" title=\"(in NumPy v1.23)\"><code class=\"xref py py-class docutils literal notranslate\"><span class=\"pre\">numpy.ndarray</span></code></a>, where the values have\n",
    "been converted to UTC and the timezone discarded</p></li>\n",
    "</ol>\n",
    "\n",
    "\n",
    "<p>Timezones may be preserved with <code class=\"docutils literal notranslate\"><span class=\"pre\">dtype=object</span></code></p>"
   ]
  },
  {
   "cell_type": "code",
   "execution_count": null,
   "metadata": {},
   "outputs": [],
   "source": [
    "ser = pd.Series(pd.date_range(\"2000\", periods=2, tz=\"CET\"))"
   ]
  },
  {
   "cell_type": "code",
   "execution_count": null,
   "metadata": {},
   "outputs": [],
   "source": [
    "ser.to_numpy(dtype=object)"
   ]
  },
  {
   "cell_type": "markdown",
   "metadata": {},
   "source": [
    "<p>Or thrown away with <code class=\"docutils literal notranslate\"><span class=\"pre\">dtype='datetime64[ns]'</span></code></p>"
   ]
  },
  {
   "cell_type": "code",
   "execution_count": null,
   "metadata": {},
   "outputs": [],
   "source": [
    "ser.to_numpy(dtype=\"datetime64[ns]\")"
   ]
  },
  {
   "cell_type": "markdown",
   "metadata": {},
   "source": [
    "<p>Getting the “raw data” inside a <a class=\"reference internal\" href=\"../reference/api/pandas.DataFrame.html#pandas.DataFrame\" title=\"pandas.DataFrame\"><code class=\"xref py py-class docutils literal notranslate\"><span class=\"pre\">DataFrame</span></code></a> is possibly a bit more\n",
    "complex. When your <code class=\"docutils literal notranslate\"><span class=\"pre\">DataFrame</span></code> only has a single data type for all the\n",
    "columns, <a class=\"reference internal\" href=\"../reference/api/pandas.DataFrame.to_numpy.html#pandas.DataFrame.to_numpy\" title=\"pandas.DataFrame.to_numpy\"><code class=\"xref py py-meth docutils literal notranslate\"><span class=\"pre\">DataFrame.to_numpy()</span></code></a> will return the underlying data:</p>"
   ]
  },
  {
   "cell_type": "code",
   "execution_count": null,
   "metadata": {},
   "outputs": [],
   "source": [
    "df.to_numpy()"
   ]
  },
  {
   "cell_type": "markdown",
   "metadata": {},
   "source": [
    "<p>If a DataFrame contains homogeneously-typed data, the ndarray can\n",
    "actually be modified in-place, and the changes will be reflected in the data\n",
    "structure. For heterogeneous data (e.g. some of the DataFrame’s columns are not\n",
    "all the same dtype), this will not be the case. The values attribute itself,\n",
    "unlike the axis labels, cannot be assigned to.</p>"
   ]
  },
  {
   "cell_type": "markdown",
   "metadata": {},
   "source": [
    "<div class=\"admonition note\">\n",
    "<p class=\"admonition-title\">Note</p>\n",
    "<p>When working with heterogeneous data, the dtype of the resulting ndarray\n",
    "will be chosen to accommodate all of the data involved. For example, if\n",
    "strings are involved, the result will be of object dtype. If there are only\n",
    "floats and integers, the resulting array will be of float dtype.</p>\n",
    "</div>"
   ]
  },
  {
   "cell_type": "markdown",
   "metadata": {},
   "source": [
    "<p>In the past, pandas recommended <a class=\"reference internal\" href=\"../reference/api/pandas.Series.values.html#pandas.Series.values\" title=\"pandas.Series.values\"><code class=\"xref py py-attr docutils literal notranslate\"><span class=\"pre\">Series.values</span></code></a> or <a class=\"reference internal\" href=\"../reference/api/pandas.DataFrame.values.html#pandas.DataFrame.values\" title=\"pandas.DataFrame.values\"><code class=\"xref py py-attr docutils literal notranslate\"><span class=\"pre\">DataFrame.values</span></code></a>\n",
    "for extracting the data from a Series or DataFrame. You’ll still find references\n",
    "to these in old code bases and online. Going forward, we recommend avoiding\n",
    "<code class=\"docutils literal notranslate\"><span class=\"pre\">.values</span></code> and using <code class=\"docutils literal notranslate\"><span class=\"pre\">.array</span></code> or <code class=\"docutils literal notranslate\"><span class=\"pre\">.to_numpy()</span></code>. <code class=\"docutils literal notranslate\"><span class=\"pre\">.values</span></code> has the following\n",
    "drawbacks:</p>"
   ]
  },
  {
   "cell_type": "markdown",
   "metadata": {},
   "source": [
    "<ol class=\"arabic simple\">\n",
    "<li><p>When your Series contains an <a class=\"reference internal\" href=\"../development/extending.html#extending-extension-types\"><span class=\"std std-ref\">extension type</span></a>, it’s\n",
    "unclear whether <a class=\"reference internal\" href=\"../reference/api/pandas.Series.values.html#pandas.Series.values\" title=\"pandas.Series.values\"><code class=\"xref py py-attr docutils literal notranslate\"><span class=\"pre\">Series.values</span></code></a> returns a NumPy array or the extension array.\n",
    "<a class=\"reference internal\" href=\"../reference/api/pandas.Series.array.html#pandas.Series.array\" title=\"pandas.Series.array\"><code class=\"xref py py-attr docutils literal notranslate\"><span class=\"pre\">Series.array</span></code></a> will always return an <a class=\"reference internal\" href=\"../reference/api/pandas.api.extensions.ExtensionArray.html#pandas.api.extensions.ExtensionArray\" title=\"pandas.api.extensions.ExtensionArray\"><code class=\"xref py py-class docutils literal notranslate\"><span class=\"pre\">ExtensionArray</span></code></a>, and will never\n",
    "copy data. <a class=\"reference internal\" href=\"../reference/api/pandas.Series.to_numpy.html#pandas.Series.to_numpy\" title=\"pandas.Series.to_numpy\"><code class=\"xref py py-meth docutils literal notranslate\"><span class=\"pre\">Series.to_numpy()</span></code></a> will always return a NumPy array,\n",
    "potentially at the cost of copying / coercing values.</p></li>\n",
    "<li><p>When your DataFrame contains a mixture of data types, <a class=\"reference internal\" href=\"../reference/api/pandas.DataFrame.values.html#pandas.DataFrame.values\" title=\"pandas.DataFrame.values\"><code class=\"xref py py-attr docutils literal notranslate\"><span class=\"pre\">DataFrame.values</span></code></a> may\n",
    "involve copying data and coercing values to a common dtype, a relatively expensive\n",
    "operation. <a class=\"reference internal\" href=\"../reference/api/pandas.DataFrame.to_numpy.html#pandas.DataFrame.to_numpy\" title=\"pandas.DataFrame.to_numpy\"><code class=\"xref py py-meth docutils literal notranslate\"><span class=\"pre\">DataFrame.to_numpy()</span></code></a>, being a method, makes it clearer that the\n",
    "returned NumPy array may not be a view on the same data in the DataFrame.</p></li>\n",
    "</ol>"
   ]
  },
  {
   "cell_type": "markdown",
   "metadata": {
    "jp-MarkdownHeadingCollapsed": true,
    "tags": []
   },
   "source": [
    "## Accelerated-Operations"
   ]
  },
  {
   "cell_type": "markdown",
   "metadata": {},
   "source": [
    "<p>pandas has support for accelerating certain types of binary numerical and boolean operations using\n",
    "the <code class=\"docutils literal notranslate\"><span class=\"pre\">numexpr</span></code> library and the <code class=\"docutils literal notranslate\"><span class=\"pre\">bottleneck</span></code> libraries.</p>\n",
    "<p>These libraries are especially useful when dealing with large data sets, and provide large\n",
    "speedups. <code class=\"docutils literal notranslate\"><span class=\"pre\">numexpr</span></code> uses smart chunking, caching, and multiple cores. <code class=\"docutils literal notranslate\"><span class=\"pre\">bottleneck</span></code> is\n",
    "a set of specialized cython routines that are especially fast when dealing with arrays that have\n",
    "<code class=\"docutils literal notranslate\"><span class=\"pre\">nans</span></code>.</p>\n",
    "<p>Here is a sample (using 100 column x 100,000 row <code class=\"docutils literal notranslate\"><span class=\"pre\">DataFrames</span></code>):</p>\n",
    "<table class=\"colwidths-given table\">\n",
    "<colgroup>\n",
    "<col style=\"width: 25%\">\n",
    "<col style=\"width: 25%\">\n",
    "<col style=\"width: 25%\">\n",
    "<col style=\"width: 25%\">\n",
    "</colgroup>\n",
    "<thead>\n",
    "<tr class=\"row-odd\"><th class=\"head\"><p>Operation</p></th>\n",
    "<th class=\"head\"><p>0.11.0 (ms)</p></th>\n",
    "<th class=\"head\"><p>Prior Version (ms)</p></th>\n",
    "<th class=\"head\"><p>Ratio to Prior</p></th>\n",
    "</tr>\n",
    "</thead>\n",
    "<tbody>\n",
    "<tr class=\"row-even\"><td><p><code class=\"docutils literal notranslate\"><span class=\"pre\">df1</span> <span class=\"pre\">&gt;</span> <span class=\"pre\">df2</span></code></p></td>\n",
    "<td><p>13.32</p></td>\n",
    "<td><p>125.35</p></td>\n",
    "<td><p>0.1063</p></td>\n",
    "</tr>\n",
    "<tr class=\"row-odd\"><td><p><code class=\"docutils literal notranslate\"><span class=\"pre\">df1</span> <span class=\"pre\">*</span> <span class=\"pre\">df2</span></code></p></td>\n",
    "<td><p>21.71</p></td>\n",
    "<td><p>36.63</p></td>\n",
    "<td><p>0.5928</p></td>\n",
    "</tr>\n",
    "<tr class=\"row-even\"><td><p><code class=\"docutils literal notranslate\"><span class=\"pre\">df1</span> <span class=\"pre\">+</span> <span class=\"pre\">df2</span></code></p></td>\n",
    "<td><p>22.04</p></td>\n",
    "<td><p>36.50</p></td>\n",
    "<td><p>0.6039</p></td>\n",
    "</tr>\n",
    "</tbody>\n",
    "</table>\n",
    "<p>You are highly encouraged to install both libraries. See the section\n",
    "<a class=\"reference internal\" href=\"../getting_started/install.html#install-recommended-dependencies\"><span class=\"std std-ref\">Recommended Dependencies</span></a> for more installation info.</p>\n",
    "<p>These are both enabled to be used by default, you can control this by setting the options:</p>"
   ]
  },
  {
   "cell_type": "code",
   "execution_count": null,
   "metadata": {},
   "outputs": [],
   "source": [
    "pd.set_option(\"compute.use_bottleneck\", False)\n",
    "pd.set_option(\"compute.use_numexpr\", False)"
   ]
  },
  {
   "cell_type": "markdown",
   "metadata": {
    "tags": []
   },
   "source": [
    "## Flexible binary operations"
   ]
  },
  {
   "cell_type": "markdown",
   "metadata": {},
   "source": [
    "<p>With binary operations between pandas data structures, there are two key points\n",
    "of interest:</p>\n",
    "\n",
    "<ul class=\"simple\">\n",
    "<li><p>Broadcasting behavior between higher- (e.g. DataFrame) and\n",
    "lower-dimensional (e.g. Series) objects.</p></li>\n",
    "<li><p>Missing data in computations.</p></li>\n",
    "</ul>\n",
    "\n",
    "<p>We will demonstrate how to manage these issues independently, though they can\n",
    "be handled simultaneously.</p>"
   ]
  },
  {
   "cell_type": "markdown",
   "metadata": {
    "jp-MarkdownHeadingCollapsed": true,
    "tags": []
   },
   "source": [
    "### Matching / broadcasting behavior"
   ]
  },
  {
   "cell_type": "markdown",
   "metadata": {},
   "source": [
    "<p>DataFrame has the methods <a class=\"reference internal\" href=\"../reference/api/pandas.DataFrame.add.html#pandas.DataFrame.add\" title=\"pandas.DataFrame.add\"><code class=\"xref py py-meth docutils literal notranslate\"><span class=\"pre\">add()</span></code></a>, <a class=\"reference internal\" href=\"../reference/api/pandas.DataFrame.sub.html#pandas.DataFrame.sub\" title=\"pandas.DataFrame.sub\"><code class=\"xref py py-meth docutils literal notranslate\"><span class=\"pre\">sub()</span></code></a>,\n",
    "<a class=\"reference internal\" href=\"../reference/api/pandas.DataFrame.mul.html#pandas.DataFrame.mul\" title=\"pandas.DataFrame.mul\"><code class=\"xref py py-meth docutils literal notranslate\"><span class=\"pre\">mul()</span></code></a>, <a class=\"reference internal\" href=\"../reference/api/pandas.DataFrame.div.html#pandas.DataFrame.div\" title=\"pandas.DataFrame.div\"><code class=\"xref py py-meth docutils literal notranslate\"><span class=\"pre\">div()</span></code></a> and related functions\n",
    "<a class=\"reference internal\" href=\"../reference/api/pandas.DataFrame.radd.html#pandas.DataFrame.radd\" title=\"pandas.DataFrame.radd\"><code class=\"xref py py-meth docutils literal notranslate\"><span class=\"pre\">radd()</span></code></a>, <a class=\"reference internal\" href=\"../reference/api/pandas.DataFrame.rsub.html#pandas.DataFrame.rsub\" title=\"pandas.DataFrame.rsub\"><code class=\"xref py py-meth docutils literal notranslate\"><span class=\"pre\">rsub()</span></code></a>, …\n",
    "for carrying out binary operations. For broadcasting behavior,\n",
    "Series input is of primary interest. Using these functions, you can use to\n",
    "either match on the <em>index</em> or <em>columns</em> via the <strong>axis</strong> keyword:</p>"
   ]
  },
  {
   "cell_type": "code",
   "execution_count": null,
   "metadata": {},
   "outputs": [],
   "source": [
    "df = pd.DataFrame({\n",
    "    \"one\": pd.Series(np.random.randn(3), index=[\"a\", \"b\", \"c\"]),\n",
    "    \"two\": pd.Series(np.random.randn(4), index=[\"a\", \"b\", \"c\", \"d\"]),\n",
    "    \"three\": pd.Series(np.random.randn(3), index=[\"b\", \"c\", \"d\"]),\n",
    "})"
   ]
  },
  {
   "cell_type": "code",
   "execution_count": null,
   "metadata": {},
   "outputs": [],
   "source": [
    "df"
   ]
  },
  {
   "cell_type": "code",
   "execution_count": null,
   "metadata": {},
   "outputs": [],
   "source": [
    "row = df.iloc[1]"
   ]
  },
  {
   "cell_type": "code",
   "execution_count": null,
   "metadata": {},
   "outputs": [],
   "source": [
    "column = df[\"two\"]"
   ]
  },
  {
   "cell_type": "code",
   "execution_count": null,
   "metadata": {},
   "outputs": [],
   "source": [
    "df.sub(row, axis=\"columns\")"
   ]
  },
  {
   "cell_type": "code",
   "execution_count": null,
   "metadata": {},
   "outputs": [],
   "source": [
    "df.sub(row, axis=1)"
   ]
  },
  {
   "cell_type": "code",
   "execution_count": null,
   "metadata": {},
   "outputs": [],
   "source": [
    "df.sub(column, axis=\"index\")"
   ]
  },
  {
   "cell_type": "code",
   "execution_count": null,
   "metadata": {},
   "outputs": [],
   "source": [
    "df.sub(column,axis=0)"
   ]
  },
  {
   "cell_type": "markdown",
   "metadata": {},
   "source": [
    "<p>Furthermore you can align a level of a MultiIndexed DataFrame with a Series.</p>"
   ]
  },
  {
   "cell_type": "code",
   "execution_count": null,
   "metadata": {},
   "outputs": [],
   "source": [
    "dfmi = df.copy()"
   ]
  },
  {
   "cell_type": "code",
   "execution_count": null,
   "metadata": {},
   "outputs": [],
   "source": [
    "dfmi.index = pd.MultiIndex.from_tuples([(1, \"a\"), (1, \"b\"), (1, \"c\"), (2, \"a\")], names=[\"first\", \"second\"])"
   ]
  },
  {
   "cell_type": "code",
   "execution_count": null,
   "metadata": {},
   "outputs": [],
   "source": [
    "dfmi"
   ]
  },
  {
   "cell_type": "code",
   "execution_count": null,
   "metadata": {},
   "outputs": [],
   "source": [
    "dfmi.sub(column, axis=0, level=\"second\")"
   ]
  },
  {
   "cell_type": "markdown",
   "metadata": {},
   "source": [
    "<p>Series and Index also support the <a class=\"reference external\" href=\"https://docs.python.org/3/library/functions.html#divmod\" title=\"(in Python v3.10)\"><code class=\"xref py py-func docutils literal notranslate\"><span class=\"pre\">divmod()</span></code></a> builtin. This function takes\n",
    "the floor division and modulo operation at the same time returning a two-tuple\n",
    "of the same type as the left hand side. For example:</p>"
   ]
  },
  {
   "cell_type": "code",
   "execution_count": null,
   "metadata": {},
   "outputs": [],
   "source": [
    "s = pd.Series(np.arange(10))"
   ]
  },
  {
   "cell_type": "code",
   "execution_count": null,
   "metadata": {},
   "outputs": [],
   "source": [
    "s"
   ]
  },
  {
   "cell_type": "code",
   "execution_count": null,
   "metadata": {},
   "outputs": [],
   "source": [
    "div, rem = divmod(s, 3)"
   ]
  },
  {
   "cell_type": "code",
   "execution_count": null,
   "metadata": {},
   "outputs": [],
   "source": [
    "div"
   ]
  },
  {
   "cell_type": "code",
   "execution_count": null,
   "metadata": {},
   "outputs": [],
   "source": [
    "rem"
   ]
  },
  {
   "cell_type": "code",
   "execution_count": null,
   "metadata": {},
   "outputs": [],
   "source": [
    "idx = pd.Index(np.arange(10))"
   ]
  },
  {
   "cell_type": "code",
   "execution_count": null,
   "metadata": {},
   "outputs": [],
   "source": [
    "idx"
   ]
  },
  {
   "cell_type": "code",
   "execution_count": null,
   "metadata": {},
   "outputs": [],
   "source": [
    "div, rem = divmod(idx, 3)"
   ]
  },
  {
   "cell_type": "code",
   "execution_count": null,
   "metadata": {},
   "outputs": [],
   "source": [
    "div"
   ]
  },
  {
   "cell_type": "code",
   "execution_count": null,
   "metadata": {},
   "outputs": [],
   "source": [
    "rem"
   ]
  },
  {
   "cell_type": "markdown",
   "metadata": {},
   "source": [
    "<p>We can also do elementwise <a class=\"reference external\" href=\"https://docs.python.org/3/library/functions.html#divmod\" title=\"(in Python v3.10)\"><code class=\"xref py py-func docutils literal notranslate\"><span class=\"pre\">divmod()</span></code></a>:</p>"
   ]
  },
  {
   "cell_type": "code",
   "execution_count": null,
   "metadata": {},
   "outputs": [],
   "source": [
    "div, rem = divmod(s, [2, 2, 3, 3, 4, 4, 5, 5, 6, 6])"
   ]
  },
  {
   "cell_type": "code",
   "execution_count": null,
   "metadata": {},
   "outputs": [],
   "source": [
    "div"
   ]
  },
  {
   "cell_type": "code",
   "execution_count": null,
   "metadata": {},
   "outputs": [],
   "source": [
    "rem"
   ]
  },
  {
   "cell_type": "markdown",
   "metadata": {
    "jp-MarkdownHeadingCollapsed": true,
    "tags": []
   },
   "source": [
    "### Missing data / operations with fill values"
   ]
  },
  {
   "cell_type": "markdown",
   "metadata": {},
   "source": [
    "<p>In Series and DataFrame, the arithmetic functions have the option of inputting\n",
    "a <em>fill_value</em>, namely a value to substitute when at most one of the values at\n",
    "a location are missing. For example, when adding two DataFrame objects, you may\n",
    "wish to treat NaN as 0 unless both DataFrames are missing that value, in which\n",
    "case the result will be NaN (you can later replace NaN with some other value\n",
    "using <code class=\"docutils literal notranslate\"><span class=\"pre\">fillna</span></code> if you wish).</p>"
   ]
  },
  {
   "cell_type": "code",
   "execution_count": null,
   "metadata": {},
   "outputs": [],
   "source": [
    "df"
   ]
  },
  {
   "cell_type": "code",
   "execution_count": null,
   "metadata": {},
   "outputs": [],
   "source": [
    "df2 = df.fillna(1)"
   ]
  },
  {
   "cell_type": "code",
   "execution_count": null,
   "metadata": {},
   "outputs": [],
   "source": [
    "df2"
   ]
  },
  {
   "cell_type": "code",
   "execution_count": null,
   "metadata": {},
   "outputs": [],
   "source": [
    "df+df2"
   ]
  },
  {
   "cell_type": "code",
   "execution_count": null,
   "metadata": {},
   "outputs": [],
   "source": [
    "df.add(df2, fill_value=0)"
   ]
  },
  {
   "cell_type": "markdown",
   "metadata": {
    "jp-MarkdownHeadingCollapsed": true,
    "tags": []
   },
   "source": [
    "### Flexible comparisons"
   ]
  },
  {
   "cell_type": "markdown",
   "metadata": {},
   "source": [
    "<p>Series and DataFrame have the binary comparison methods <code class=\"docutils literal notranslate\"><span class=\"pre\">eq</span></code>, <code class=\"docutils literal notranslate\"><span class=\"pre\">ne</span></code>, <code class=\"docutils literal notranslate\"><span class=\"pre\">lt</span></code>, <code class=\"docutils literal notranslate\"><span class=\"pre\">gt</span></code>,\n",
    "<code class=\"docutils literal notranslate\"><span class=\"pre\">le</span></code>, and <code class=\"docutils literal notranslate\"><span class=\"pre\">ge</span></code> whose behavior is analogous to the binary\n",
    "arithmetic operations described above:</p>"
   ]
  },
  {
   "cell_type": "code",
   "execution_count": null,
   "metadata": {},
   "outputs": [],
   "source": [
    "df.gt(df2)"
   ]
  },
  {
   "cell_type": "code",
   "execution_count": null,
   "metadata": {},
   "outputs": [],
   "source": [
    "df2.ne(df)"
   ]
  },
  {
   "cell_type": "markdown",
   "metadata": {},
   "source": [
    "<p>These operations produce a pandas object of the same type as the left-hand-side\n",
    "input that is of dtype <code class=\"docutils literal notranslate\"><span class=\"pre\">bool</span></code>. These <code class=\"docutils literal notranslate\"><span class=\"pre\">boolean</span></code> objects can be used in\n",
    "indexing operations, see the section on <a class=\"reference internal\" href=\"indexing.html#indexing-boolean\"><span class=\"std std-ref\">Boolean indexing</span></a>.</p>"
   ]
  },
  {
   "cell_type": "markdown",
   "metadata": {
    "jp-MarkdownHeadingCollapsed": true,
    "tags": []
   },
   "source": [
    "### Boolean reductions"
   ]
  },
  {
   "cell_type": "markdown",
   "metadata": {},
   "source": [
    "<p>You can apply the reductions: <a class=\"reference internal\" href=\"../reference/api/pandas.DataFrame.empty.html#pandas.DataFrame.empty\" title=\"pandas.DataFrame.empty\"><code class=\"xref py py-attr docutils literal notranslate\"><span class=\"pre\">empty</span></code></a>, <a class=\"reference internal\" href=\"../reference/api/pandas.DataFrame.any.html#pandas.DataFrame.any\" title=\"pandas.DataFrame.any\"><code class=\"xref py py-meth docutils literal notranslate\"><span class=\"pre\">any()</span></code></a>,\n",
    "<a class=\"reference internal\" href=\"../reference/api/pandas.DataFrame.all.html#pandas.DataFrame.all\" title=\"pandas.DataFrame.all\"><code class=\"xref py py-meth docutils literal notranslate\"><span class=\"pre\">all()</span></code></a>, and <a class=\"reference internal\" href=\"../reference/api/pandas.DataFrame.bool.html#pandas.DataFrame.bool\" title=\"pandas.DataFrame.bool\"><code class=\"xref py py-meth docutils literal notranslate\"><span class=\"pre\">bool()</span></code></a> to provide a\n",
    "way to summarize a boolean result.</p>"
   ]
  },
  {
   "cell_type": "code",
   "execution_count": null,
   "metadata": {},
   "outputs": [],
   "source": [
    "(df > 0).all()"
   ]
  },
  {
   "cell_type": "code",
   "execution_count": null,
   "metadata": {},
   "outputs": [],
   "source": [
    "(df > 0).any()"
   ]
  },
  {
   "cell_type": "markdown",
   "metadata": {},
   "source": [
    "<p>You can reduce to a final boolean value.</p>"
   ]
  },
  {
   "cell_type": "code",
   "execution_count": null,
   "metadata": {},
   "outputs": [],
   "source": [
    "(df > 0).any().any()"
   ]
  },
  {
   "cell_type": "markdown",
   "metadata": {},
   "source": [
    "<p>You can test if a pandas object is empty, via the <a class=\"reference internal\" href=\"../reference/api/pandas.DataFrame.empty.html#pandas.DataFrame.empty\" title=\"pandas.DataFrame.empty\"><code class=\"xref py py-attr docutils literal notranslate\"><span class=\"pre\">empty</span></code></a> property.</p>"
   ]
  },
  {
   "cell_type": "code",
   "execution_count": null,
   "metadata": {},
   "outputs": [],
   "source": [
    "df.empty"
   ]
  },
  {
   "cell_type": "code",
   "execution_count": null,
   "metadata": {},
   "outputs": [],
   "source": [
    "pd.DataFrame(columns=list(\"ABC\")).empty"
   ]
  },
  {
   "cell_type": "markdown",
   "metadata": {},
   "source": [
    "<p>To evaluate single-element pandas objects in a boolean context, use the method\n",
    "<a class=\"reference internal\" href=\"../reference/api/pandas.DataFrame.bool.html#pandas.DataFrame.bool\" title=\"pandas.DataFrame.bool\"><code class=\"xref py py-meth docutils literal notranslate\"><span class=\"pre\">bool()</span></code></a>:</p>"
   ]
  },
  {
   "cell_type": "code",
   "execution_count": null,
   "metadata": {},
   "outputs": [],
   "source": [
    "pd.Series([True]).bool()"
   ]
  },
  {
   "cell_type": "code",
   "execution_count": null,
   "metadata": {},
   "outputs": [],
   "source": [
    "pd.Series([False]).bool()"
   ]
  },
  {
   "cell_type": "code",
   "execution_count": null,
   "metadata": {},
   "outputs": [],
   "source": [
    "pd.DataFrame([True]).bool()"
   ]
  },
  {
   "cell_type": "code",
   "execution_count": null,
   "metadata": {},
   "outputs": [],
   "source": [
    "pd.DataFrame([False]).bool()"
   ]
  },
  {
   "cell_type": "markdown",
   "metadata": {},
   "source": [
    "<p>See <a class=\"reference internal\" href=\"gotchas.html#gotchas-truth\"><span class=\"std std-ref\">gotchas</span></a> for a more detailed discussion.</p>"
   ]
  },
  {
   "cell_type": "markdown",
   "metadata": {
    "jp-MarkdownHeadingCollapsed": true,
    "tags": []
   },
   "source": [
    "### Comparing if objects are equivalent"
   ]
  },
  {
   "cell_type": "markdown",
   "metadata": {},
   "source": [
    "<p>Often you may find that there is more than one way to compute the same\n",
    "result. As a simple example, consider <code class=\"docutils literal notranslate\"><span class=\"pre\">df</span> <span class=\"pre\">+</span> <span class=\"pre\">df</span></code> and <code class=\"docutils literal notranslate\"><span class=\"pre\">df</span> <span class=\"pre\">*</span> <span class=\"pre\">2</span></code>. To test\n",
    "that these two computations produce the same result, given the tools\n",
    "shown above, you might imagine using <code class=\"docutils literal notranslate\"><span class=\"pre\">(df</span> <span class=\"pre\">+</span> <span class=\"pre\">df</span> <span class=\"pre\">==</span> <span class=\"pre\">df</span> <span class=\"pre\">*</span> <span class=\"pre\">2).all()</span></code>. But in\n",
    "fact, this expression is False:</p>"
   ]
  },
  {
   "cell_type": "code",
   "execution_count": null,
   "metadata": {},
   "outputs": [],
   "source": [
    "df + df == df * 2"
   ]
  },
  {
   "cell_type": "code",
   "execution_count": null,
   "metadata": {},
   "outputs": [],
   "source": [
    "(df + df == df * 2).all()"
   ]
  },
  {
   "cell_type": "markdown",
   "metadata": {},
   "source": [
    "<p>Notice that the boolean DataFrame <code class=\"docutils literal notranslate\"><span class=\"pre\">df</span> <span class=\"pre\">+</span> <span class=\"pre\">df</span> <span class=\"pre\">==</span> <span class=\"pre\">df</span> <span class=\"pre\">*</span> <span class=\"pre\">2</span></code> contains some False values!\n",
    "This is because NaNs do not compare as equals:</p>"
   ]
  },
  {
   "cell_type": "code",
   "execution_count": null,
   "metadata": {},
   "outputs": [],
   "source": [
    "np.nan == np.nan"
   ]
  },
  {
   "cell_type": "markdown",
   "metadata": {},
   "source": [
    "<p>So, NDFrames (such as Series and DataFrames)\n",
    "have an <a class=\"reference internal\" href=\"../reference/api/pandas.DataFrame.equals.html#pandas.DataFrame.equals\" title=\"pandas.DataFrame.equals\"><code class=\"xref py py-meth docutils literal notranslate\"><span class=\"pre\">equals()</span></code></a> method for testing equality, with NaNs in\n",
    "corresponding locations treated as equal.</p>"
   ]
  },
  {
   "cell_type": "code",
   "execution_count": null,
   "metadata": {},
   "outputs": [],
   "source": [
    "(df + df).equals(df * 2)"
   ]
  },
  {
   "cell_type": "markdown",
   "metadata": {},
   "source": [
    "<p>Note that the Series or DataFrame index needs to be in the same order for\n",
    "equality to be True:</p>"
   ]
  },
  {
   "cell_type": "code",
   "execution_count": null,
   "metadata": {},
   "outputs": [],
   "source": [
    "df1 = pd.DataFrame({\"col\": [\"foo\", 0, np.nan]})"
   ]
  },
  {
   "cell_type": "code",
   "execution_count": null,
   "metadata": {},
   "outputs": [],
   "source": [
    "df2 = pd.DataFrame({\"col\": [np.nan, 0, \"foo\"]}, index=[2, 1, 0])"
   ]
  },
  {
   "cell_type": "code",
   "execution_count": null,
   "metadata": {},
   "outputs": [],
   "source": [
    "df1.equals(df2)"
   ]
  },
  {
   "cell_type": "code",
   "execution_count": null,
   "metadata": {},
   "outputs": [],
   "source": [
    "df1.equals(df2.sort_index())"
   ]
  },
  {
   "cell_type": "markdown",
   "metadata": {
    "jp-MarkdownHeadingCollapsed": true,
    "tags": []
   },
   "source": [
    "### Comparing array-like objects"
   ]
  },
  {
   "cell_type": "markdown",
   "metadata": {},
   "source": [
    "<p>You can conveniently perform element-wise comparisons when comparing a pandas\n",
    "data structure with a scalar value:</p>"
   ]
  },
  {
   "cell_type": "code",
   "execution_count": null,
   "metadata": {},
   "outputs": [],
   "source": [
    "pd.Series([\"foo\", \"bar\", \"baz\"]) == \"foo\""
   ]
  },
  {
   "cell_type": "code",
   "execution_count": null,
   "metadata": {},
   "outputs": [],
   "source": [
    "pd.Index([\"foo\", \"bar\", \"baz\"]) == \"foo\""
   ]
  },
  {
   "cell_type": "markdown",
   "metadata": {},
   "source": [
    "<p>pandas also handles element-wise comparisons between different array-like\n",
    "objects of the same length:</p>"
   ]
  },
  {
   "cell_type": "code",
   "execution_count": null,
   "metadata": {},
   "outputs": [],
   "source": [
    "pd.Series([\"foo\", \"bar\", \"baz\"]) == pd.Index([\"foo\", \"bar\", \"qux\"])"
   ]
  },
  {
   "cell_type": "code",
   "execution_count": null,
   "metadata": {},
   "outputs": [],
   "source": [
    "pd.Series([\"foo\", \"bar\", \"baz\"]) == np.array([\"foo\", \"bar\", \"qux\"])"
   ]
  },
  {
   "cell_type": "markdown",
   "metadata": {},
   "source": [
    "<p>Trying to compare <code class=\"docutils literal notranslate\"><span class=\"pre\">Index</span></code> or <code class=\"docutils literal notranslate\"><span class=\"pre\">Series</span></code> objects of different lengths will\n",
    "raise a ValueError:</p>"
   ]
  },
  {
   "cell_type": "code",
   "execution_count": null,
   "metadata": {},
   "outputs": [],
   "source": [
    "try:\n",
    "    pd.Series(['foo', 'bar', 'baz']) == pd.Series(['foo', 'bar'])\n",
    "except Exception as e:\n",
    "    print(e)"
   ]
  },
  {
   "cell_type": "code",
   "execution_count": null,
   "metadata": {},
   "outputs": [],
   "source": [
    "try:\n",
    "    pd.Series(['foo', 'bar', 'baz']) == pd.Series(['foo'])\n",
    "except Exception as e:\n",
    "    print(e)"
   ]
  },
  {
   "cell_type": "markdown",
   "metadata": {},
   "source": [
    "<p>Note that this is different from the NumPy behavior where a comparison can\n",
    "be broadcast:</p>"
   ]
  },
  {
   "cell_type": "code",
   "execution_count": null,
   "metadata": {},
   "outputs": [],
   "source": [
    "np.array([1, 2, 3]) == np.array([2])"
   ]
  },
  {
   "cell_type": "markdown",
   "metadata": {},
   "source": [
    "<p>or it can return False if broadcasting can not be done:</p>"
   ]
  },
  {
   "cell_type": "code",
   "execution_count": null,
   "metadata": {},
   "outputs": [],
   "source": [
    "np.array([1, 2, 3]) == np.array([1, 2])"
   ]
  },
  {
   "cell_type": "markdown",
   "metadata": {
    "jp-MarkdownHeadingCollapsed": true,
    "tags": []
   },
   "source": [
    "### Combining overlapping data sets"
   ]
  },
  {
   "cell_type": "markdown",
   "metadata": {},
   "source": [
    "<p>A problem occasionally arising is the combination of two similar data sets\n",
    "where values in one are preferred over the other. An example would be two data\n",
    "series representing a particular economic indicator where one is considered to\n",
    "be of “higher quality”. However, the lower quality series might extend further\n",
    "back in history or have more complete data coverage. As such, we would like to\n",
    "combine two DataFrame objects where missing values in one DataFrame are\n",
    "conditionally filled with like-labeled values from the other DataFrame. The\n",
    "function implementing this operation is <a class=\"reference internal\" href=\"../reference/api/pandas.DataFrame.combine_first.html#pandas.DataFrame.combine_first\" title=\"pandas.DataFrame.combine_first\"><code class=\"xref py py-meth docutils literal notranslate\"><span class=\"pre\">combine_first()</span></code></a>,\n",
    "which we illustrate:</p>"
   ]
  },
  {
   "cell_type": "code",
   "execution_count": null,
   "metadata": {},
   "outputs": [],
   "source": [
    "df1 = pd.DataFrame({\"A\": [1.0, np.nan, 3.0, 5.0, np.nan], \"B\": [np.nan, 2.0, 3.0, np.nan, 6.0]})"
   ]
  },
  {
   "cell_type": "code",
   "execution_count": null,
   "metadata": {},
   "outputs": [],
   "source": [
    "df2 = pd.DataFrame(\n",
    "    {\n",
    "        \"A\": [5.0, 2.0, 4.0, np.nan, 3.0, 7.0],\n",
    "        \"B\": [np.nan, np.nan, 3.0, 4.0, 6.0, 8.0],\n",
    "    }\n",
    ")"
   ]
  },
  {
   "cell_type": "code",
   "execution_count": null,
   "metadata": {},
   "outputs": [],
   "source": [
    "df1"
   ]
  },
  {
   "cell_type": "code",
   "execution_count": null,
   "metadata": {},
   "outputs": [],
   "source": [
    "df2"
   ]
  },
  {
   "cell_type": "code",
   "execution_count": null,
   "metadata": {},
   "outputs": [],
   "source": [
    "df1.combine_first(df2)"
   ]
  },
  {
   "cell_type": "markdown",
   "metadata": {
    "jp-MarkdownHeadingCollapsed": true,
    "tags": []
   },
   "source": [
    "### General DataFrame combine"
   ]
  },
  {
   "cell_type": "markdown",
   "metadata": {},
   "source": [
    "<p>The <a class=\"reference internal\" href=\"../reference/api/pandas.DataFrame.combine_first.html#pandas.DataFrame.combine_first\" title=\"pandas.DataFrame.combine_first\"><code class=\"xref py py-meth docutils literal notranslate\"><span class=\"pre\">combine_first()</span></code></a> method above calls the more general\n",
    "<a class=\"reference internal\" href=\"../reference/api/pandas.DataFrame.combine.html#pandas.DataFrame.combine\" title=\"pandas.DataFrame.combine\"><code class=\"xref py py-meth docutils literal notranslate\"><span class=\"pre\">DataFrame.combine()</span></code></a>. This method takes another DataFrame\n",
    "and a combiner function, aligns the input DataFrame and then passes the combiner\n",
    "function pairs of Series (i.e., columns whose names are the same).</p>\n",
    "\n",
    "<p>So, for instance, to reproduce <a class=\"reference internal\" href=\"../reference/api/pandas.DataFrame.combine_first.html#pandas.DataFrame.combine_first\" title=\"pandas.DataFrame.combine_first\"><code class=\"xref py py-meth docutils literal notranslate\"><span class=\"pre\">combine_first()</span></code></a> as above:</p>"
   ]
  },
  {
   "cell_type": "code",
   "execution_count": null,
   "metadata": {},
   "outputs": [],
   "source": [
    "def combiner(x, y):\n",
    "    return np.where(pd.isna(x), y, x)"
   ]
  },
  {
   "cell_type": "code",
   "execution_count": null,
   "metadata": {},
   "outputs": [],
   "source": [
    "df1.combine(df2, combiner)"
   ]
  },
  {
   "cell_type": "markdown",
   "metadata": {
    "tags": []
   },
   "source": [
    "## Descriptive statistics"
   ]
  },
  {
   "cell_type": "markdown",
   "metadata": {},
   "source": [
    "<p>There exists a large number of methods for computing descriptive statistics and\n",
    "other related operations on <a class=\"reference internal\" href=\"../reference/series.html#api-series-stats\"><span class=\"std std-ref\">Series</span></a>, <a class=\"reference internal\" href=\"../reference/frame.html#api-dataframe-stats\"><span class=\"std std-ref\">DataFrame</span></a>. Most of these\n",
    "are aggregations (hence producing a lower-dimensional result) like\n",
    "<a class=\"reference internal\" href=\"../reference/api/pandas.DataFrame.sum.html#pandas.DataFrame.sum\" title=\"pandas.DataFrame.sum\"><code class=\"xref py py-meth docutils literal notranslate\"><span class=\"pre\">sum()</span></code></a>, <a class=\"reference internal\" href=\"../reference/api/pandas.DataFrame.mean.html#pandas.DataFrame.mean\" title=\"pandas.DataFrame.mean\"><code class=\"xref py py-meth docutils literal notranslate\"><span class=\"pre\">mean()</span></code></a>, and <a class=\"reference internal\" href=\"../reference/api/pandas.DataFrame.quantile.html#pandas.DataFrame.quantile\" title=\"pandas.DataFrame.quantile\"><code class=\"xref py py-meth docutils literal notranslate\"><span class=\"pre\">quantile()</span></code></a>,\n",
    "but some of them, like <a class=\"reference internal\" href=\"../reference/api/pandas.DataFrame.cumsum.html#pandas.DataFrame.cumsum\" title=\"pandas.DataFrame.cumsum\"><code class=\"xref py py-meth docutils literal notranslate\"><span class=\"pre\">cumsum()</span></code></a> and <a class=\"reference internal\" href=\"../reference/api/pandas.DataFrame.cumprod.html#pandas.DataFrame.cumprod\" title=\"pandas.DataFrame.cumprod\"><code class=\"xref py py-meth docutils literal notranslate\"><span class=\"pre\">cumprod()</span></code></a>,\n",
    "produce an object of the same size. Generally speaking, these methods take an\n",
    "<strong>axis</strong> argument, just like <em>ndarray.{sum, std, …}</em>, but the axis can be\n",
    "specified by name or integer:</p>\n",
    "\n",
    "<ul class=\"simple\">\n",
    "<li><p><strong>Series</strong>: no axis argument needed</p></li>\n",
    "<li><p><strong>DataFrame</strong>: “index” (axis=0, default), “columns” (axis=1)</p></li>\n",
    "</ul>\n",
    "\n",
    "<p>For example:</p>"
   ]
  },
  {
   "cell_type": "code",
   "execution_count": null,
   "metadata": {},
   "outputs": [],
   "source": [
    "df"
   ]
  },
  {
   "cell_type": "code",
   "execution_count": null,
   "metadata": {},
   "outputs": [],
   "source": [
    "df.mean(0)"
   ]
  },
  {
   "cell_type": "code",
   "execution_count": null,
   "metadata": {},
   "outputs": [],
   "source": [
    "df.mean(1)"
   ]
  },
  {
   "cell_type": "markdown",
   "metadata": {},
   "source": [
    "<p>All such methods have a <code class=\"docutils literal notranslate\"><span class=\"pre\">skipna</span></code> option signaling whether to exclude missing\n",
    "data (<code class=\"docutils literal notranslate\"><span class=\"pre\">True</span></code> by default):</p>"
   ]
  },
  {
   "cell_type": "code",
   "execution_count": null,
   "metadata": {},
   "outputs": [],
   "source": [
    "df.sum(0,skipna=False)"
   ]
  },
  {
   "cell_type": "code",
   "execution_count": null,
   "metadata": {},
   "outputs": [],
   "source": [
    "df.sum(1,skipna=True)"
   ]
  },
  {
   "cell_type": "markdown",
   "metadata": {},
   "source": [
    "<p>Combined with the broadcasting / arithmetic behavior, one can describe various\n",
    "statistical procedures, like standardization (rendering data zero mean and\n",
    "standard deviation of 1), very concisely:</p>"
   ]
  },
  {
   "cell_type": "code",
   "execution_count": null,
   "metadata": {},
   "outputs": [],
   "source": [
    "ts_stand = (df - df.mean()) / df.std()"
   ]
  },
  {
   "cell_type": "code",
   "execution_count": null,
   "metadata": {},
   "outputs": [],
   "source": [
    "ts_stand.std()"
   ]
  },
  {
   "cell_type": "code",
   "execution_count": null,
   "metadata": {},
   "outputs": [],
   "source": [
    "xs_stand = df.sub(df.mean(1), axis=0).div(df.std(1), axis=0)"
   ]
  },
  {
   "cell_type": "code",
   "execution_count": null,
   "metadata": {},
   "outputs": [],
   "source": [
    "xs_stand.std(1)"
   ]
  },
  {
   "cell_type": "markdown",
   "metadata": {},
   "source": [
    "<p>Note that methods like <a class=\"reference internal\" href=\"../reference/api/pandas.DataFrame.cumsum.html#pandas.DataFrame.cumsum\" title=\"pandas.DataFrame.cumsum\"><code class=\"xref py py-meth docutils literal notranslate\"><span class=\"pre\">cumsum()</span></code></a> and <a class=\"reference internal\" href=\"../reference/api/pandas.DataFrame.cumprod.html#pandas.DataFrame.cumprod\" title=\"pandas.DataFrame.cumprod\"><code class=\"xref py py-meth docutils literal notranslate\"><span class=\"pre\">cumprod()</span></code></a>\n",
    "preserve the location of <code class=\"docutils literal notranslate\"><span class=\"pre\">NaN</span></code> values. This is somewhat different from\n",
    "<a class=\"reference internal\" href=\"../reference/api/pandas.DataFrame.expanding.html#pandas.DataFrame.expanding\" title=\"pandas.DataFrame.expanding\"><code class=\"xref py py-meth docutils literal notranslate\"><span class=\"pre\">expanding()</span></code></a> and <a class=\"reference internal\" href=\"../reference/api/pandas.DataFrame.rolling.html#pandas.DataFrame.rolling\" title=\"pandas.DataFrame.rolling\"><code class=\"xref py py-meth docutils literal notranslate\"><span class=\"pre\">rolling()</span></code></a> since <code class=\"docutils literal notranslate\"><span class=\"pre\">NaN</span></code> behavior\n",
    "is furthermore dictated by a <code class=\"docutils literal notranslate\"><span class=\"pre\">min_periods</span></code> parameter.</p>"
   ]
  },
  {
   "cell_type": "code",
   "execution_count": null,
   "metadata": {},
   "outputs": [],
   "source": [
    "df.cumsum()"
   ]
  },
  {
   "cell_type": "markdown",
   "metadata": {},
   "source": [
    "<p>Here is a quick reference summary table of common functions. Each also takes an\n",
    "optional <code class=\"docutils literal notranslate\"><span class=\"pre\">level</span></code> parameter which applies only if the object has a\n",
    "<a class=\"reference internal\" href=\"advanced.html#advanced-hierarchical\"><span class=\"std std-ref\">hierarchical index</span></a>.</p>"
   ]
  },
  {
   "cell_type": "markdown",
   "metadata": {},
   "source": [
    "<table class=\"colwidths-given table\">\n",
    "<colgroup>\n",
    "<col style=\"width: 20%\">\n",
    "<col style=\"width: 80%\">\n",
    "</colgroup>\n",
    "<thead>\n",
    "<tr class=\"row-odd\"><th class=\"head\"><p>Function</p></th>\n",
    "<th class=\"head\"><p>Description</p></th>\n",
    "</tr>\n",
    "</thead>\n",
    "<tbody>\n",
    "<tr class=\"row-even\"><td><p><code class=\"docutils literal notranslate\"><span class=\"pre\">count</span></code></p></td>\n",
    "<td><p>Number of non-NA observations</p></td>\n",
    "</tr>\n",
    "<tr class=\"row-odd\"><td><p><code class=\"docutils literal notranslate\"><span class=\"pre\">sum</span></code></p></td>\n",
    "<td><p>Sum of values</p></td>\n",
    "</tr>\n",
    "<tr class=\"row-even\"><td><p><code class=\"docutils literal notranslate\"><span class=\"pre\">mean</span></code></p></td>\n",
    "<td><p>Mean of values</p></td>\n",
    "</tr>\n",
    "<tr class=\"row-odd\"><td><p><code class=\"docutils literal notranslate\"><span class=\"pre\">mad</span></code></p></td>\n",
    "<td><p>Mean absolute deviation</p></td>\n",
    "</tr>\n",
    "<tr class=\"row-even\"><td><p><code class=\"docutils literal notranslate\"><span class=\"pre\">median</span></code></p></td>\n",
    "<td><p>Arithmetic median of values</p></td>\n",
    "</tr>\n",
    "<tr class=\"row-odd\"><td><p><code class=\"docutils literal notranslate\"><span class=\"pre\">min</span></code></p></td>\n",
    "<td><p>Minimum</p></td>\n",
    "</tr>\n",
    "<tr class=\"row-even\"><td><p><code class=\"docutils literal notranslate\"><span class=\"pre\">max</span></code></p></td>\n",
    "<td><p>Maximum</p></td>\n",
    "</tr>\n",
    "<tr class=\"row-odd\"><td><p><code class=\"docutils literal notranslate\"><span class=\"pre\">mode</span></code></p></td>\n",
    "<td><p>Mode</p></td>\n",
    "</tr>\n",
    "<tr class=\"row-even\"><td><p><code class=\"docutils literal notranslate\"><span class=\"pre\">abs</span></code></p></td>\n",
    "<td><p>Absolute Value</p></td>\n",
    "</tr>\n",
    "<tr class=\"row-odd\"><td><p><code class=\"docutils literal notranslate\"><span class=\"pre\">prod</span></code></p></td>\n",
    "<td><p>Product of values</p></td>\n",
    "</tr>\n",
    "<tr class=\"row-even\"><td><p><code class=\"docutils literal notranslate\"><span class=\"pre\">std</span></code></p></td>\n",
    "<td><p>Bessel-corrected sample standard deviation</p></td>\n",
    "</tr>\n",
    "<tr class=\"row-odd\"><td><p><code class=\"docutils literal notranslate\"><span class=\"pre\">var</span></code></p></td>\n",
    "<td><p>Unbiased variance</p></td>\n",
    "</tr>\n",
    "<tr class=\"row-even\"><td><p><code class=\"docutils literal notranslate\"><span class=\"pre\">sem</span></code></p></td>\n",
    "<td><p>Standard error of the mean</p></td>\n",
    "</tr>\n",
    "<tr class=\"row-odd\"><td><p><code class=\"docutils literal notranslate\"><span class=\"pre\">skew</span></code></p></td>\n",
    "<td><p>Sample skewness (3rd moment)</p></td>\n",
    "</tr>\n",
    "<tr class=\"row-even\"><td><p><code class=\"docutils literal notranslate\"><span class=\"pre\">kurt</span></code></p></td>\n",
    "<td><p>Sample kurtosis (4th moment)</p></td>\n",
    "</tr>\n",
    "<tr class=\"row-odd\"><td><p><code class=\"docutils literal notranslate\"><span class=\"pre\">quantile</span></code></p></td>\n",
    "<td><p>Sample quantile (value at %)</p></td>\n",
    "</tr>\n",
    "<tr class=\"row-even\"><td><p><code class=\"docutils literal notranslate\"><span class=\"pre\">cumsum</span></code></p></td>\n",
    "<td><p>Cumulative sum</p></td>\n",
    "</tr>\n",
    "<tr class=\"row-odd\"><td><p><code class=\"docutils literal notranslate\"><span class=\"pre\">cumprod</span></code></p></td>\n",
    "<td><p>Cumulative product</p></td>\n",
    "</tr>\n",
    "<tr class=\"row-even\"><td><p><code class=\"docutils literal notranslate\"><span class=\"pre\">cummax</span></code></p></td>\n",
    "<td><p>Cumulative maximum</p></td>\n",
    "</tr>\n",
    "<tr class=\"row-odd\"><td><p><code class=\"docutils literal notranslate\"><span class=\"pre\">cummin</span></code></p></td>\n",
    "<td><p>Cumulative minimum</p></td>\n",
    "</tr>\n",
    "</tbody>\n",
    "</table>"
   ]
  },
  {
   "cell_type": "markdown",
   "metadata": {},
   "source": [
    "<p>Note that by chance some NumPy methods, like <code class=\"docutils literal notranslate\"><span class=\"pre\">mean</span></code>, <code class=\"docutils literal notranslate\"><span class=\"pre\">std</span></code>, and <code class=\"docutils literal notranslate\"><span class=\"pre\">sum</span></code>,\n",
    "will exclude NAs on Series input by default:</p>"
   ]
  },
  {
   "cell_type": "code",
   "execution_count": null,
   "metadata": {},
   "outputs": [],
   "source": [
    "np.mean(df[\"one\"])"
   ]
  },
  {
   "cell_type": "code",
   "execution_count": null,
   "metadata": {},
   "outputs": [],
   "source": [
    "np.mean(df[\"one\"].to_numpy())"
   ]
  },
  {
   "cell_type": "markdown",
   "metadata": {},
   "source": [
    "<p><a class=\"reference internal\" href=\"../reference/api/pandas.Series.nunique.html#pandas.Series.nunique\" title=\"pandas.Series.nunique\"><code class=\"xref py py-meth docutils literal notranslate\"><span class=\"pre\">Series.nunique()</span></code></a> will return the number of unique non-NA values in a\n",
    "Series:</p>"
   ]
  },
  {
   "cell_type": "code",
   "execution_count": null,
   "metadata": {},
   "outputs": [],
   "source": [
    "series = pd.Series(np.random.randn(500))"
   ]
  },
  {
   "cell_type": "code",
   "execution_count": null,
   "metadata": {},
   "outputs": [],
   "source": [
    "series[20:500] = np.nan\n",
    "series[10:20] = 5"
   ]
  },
  {
   "cell_type": "code",
   "execution_count": null,
   "metadata": {},
   "outputs": [],
   "source": [
    "series.nunique()"
   ]
  },
  {
   "cell_type": "markdown",
   "metadata": {
    "jp-MarkdownHeadingCollapsed": true,
    "tags": []
   },
   "source": [
    "### Summarizing data: describe"
   ]
  },
  {
   "cell_type": "code",
   "execution_count": null,
   "metadata": {},
   "outputs": [],
   "source": [
    "series = pd.Series(np.random.randn(1000))"
   ]
  },
  {
   "cell_type": "code",
   "execution_count": null,
   "metadata": {},
   "outputs": [],
   "source": [
    "series[::2] = np.nan"
   ]
  },
  {
   "cell_type": "code",
   "execution_count": null,
   "metadata": {},
   "outputs": [],
   "source": [
    "series.describe()"
   ]
  },
  {
   "cell_type": "code",
   "execution_count": null,
   "metadata": {},
   "outputs": [],
   "source": [
    "frame = pd.DataFrame(np.random.randn(1000, 5), columns=[\"a\", \"b\", \"c\", \"d\", \"e\"])"
   ]
  },
  {
   "cell_type": "code",
   "execution_count": null,
   "metadata": {},
   "outputs": [],
   "source": [
    "frame.iloc[::2] = np.nan"
   ]
  },
  {
   "cell_type": "code",
   "execution_count": null,
   "metadata": {},
   "outputs": [],
   "source": [
    "frame.iloc[::2]"
   ]
  },
  {
   "cell_type": "code",
   "execution_count": null,
   "metadata": {},
   "outputs": [],
   "source": [
    "frame.describe()"
   ]
  },
  {
   "cell_type": "markdown",
   "metadata": {},
   "source": [
    "<p>You can select specific percentiles to include in the output:</p>"
   ]
  },
  {
   "cell_type": "code",
   "execution_count": null,
   "metadata": {},
   "outputs": [],
   "source": [
    "series.describe(percentiles=[0.05, 0.25, 0.75, 0.95])"
   ]
  },
  {
   "cell_type": "markdown",
   "metadata": {},
   "source": [
    "<p>By default, the median is always included.</p>\n",
    "<p>For a non-numerical Series object, <a class=\"reference internal\" href=\"../reference/api/pandas.Series.describe.html#pandas.Series.describe\" title=\"pandas.Series.describe\"><code class=\"xref py py-meth docutils literal notranslate\"><span class=\"pre\">describe()</span></code></a> will give a simple\n",
    "summary of the number of unique values and most frequently occurring values:</p>"
   ]
  },
  {
   "cell_type": "code",
   "execution_count": null,
   "metadata": {},
   "outputs": [],
   "source": [
    "s = pd.Series([\"a\", \"a\", \"b\", \"b\", \"a\", \"a\", np.nan, \"c\", \"d\", \"a\"])"
   ]
  },
  {
   "cell_type": "code",
   "execution_count": null,
   "metadata": {},
   "outputs": [],
   "source": [
    "s.describe()"
   ]
  },
  {
   "cell_type": "markdown",
   "metadata": {},
   "source": [
    "<p>Note that on a mixed-type DataFrame object, <a class=\"reference internal\" href=\"../reference/api/pandas.DataFrame.describe.html#pandas.DataFrame.describe\" title=\"pandas.DataFrame.describe\"><code class=\"xref py py-meth docutils literal notranslate\"><span class=\"pre\">describe()</span></code></a> will\n",
    "restrict the summary to include only numerical columns or, if none are, only\n",
    "categorical columns:</p>"
   ]
  },
  {
   "cell_type": "code",
   "execution_count": null,
   "metadata": {},
   "outputs": [],
   "source": [
    "frame = pd.DataFrame({\"a\": [\"Yes\", \"Yes\", \"No\", \"No\"], \"b\": range(4)})"
   ]
  },
  {
   "cell_type": "code",
   "execution_count": null,
   "metadata": {},
   "outputs": [],
   "source": [
    "frame.describe()"
   ]
  },
  {
   "cell_type": "markdown",
   "metadata": {},
   "source": [
    "<p>This behavior can be controlled by providing a list of types as <code class=\"docutils literal notranslate\"><span class=\"pre\">include</span></code>/<code class=\"docutils literal notranslate\"><span class=\"pre\">exclude</span></code>\n",
    "arguments. The special value <code class=\"docutils literal notranslate\"><span class=\"pre\">all</span></code> can also be used:</p>"
   ]
  },
  {
   "cell_type": "code",
   "execution_count": null,
   "metadata": {},
   "outputs": [],
   "source": [
    "frame.describe(include=[\"object\"])"
   ]
  },
  {
   "cell_type": "code",
   "execution_count": null,
   "metadata": {},
   "outputs": [],
   "source": [
    "frame.describe(include=[\"number\"])"
   ]
  },
  {
   "cell_type": "code",
   "execution_count": null,
   "metadata": {},
   "outputs": [],
   "source": [
    "frame.describe(include=\"all\")"
   ]
  },
  {
   "cell_type": "markdown",
   "metadata": {},
   "source": [
    "<p>That feature relies on <a class=\"reference internal\" href=\"#basics-selectdtypes\"><span class=\"std std-ref\">select_dtypes</span></a>. Refer to\n",
    "there for details about accepted inputs.</p>"
   ]
  },
  {
   "cell_type": "markdown",
   "metadata": {
    "jp-MarkdownHeadingCollapsed": true,
    "tags": []
   },
   "source": [
    "### Index of min/max values"
   ]
  },
  {
   "cell_type": "markdown",
   "metadata": {},
   "source": [
    "<p>The <a class=\"reference internal\" href=\"../reference/api/pandas.DataFrame.idxmin.html#pandas.DataFrame.idxmin\" title=\"pandas.DataFrame.idxmin\"><code class=\"xref py py-meth docutils literal notranslate\"><span class=\"pre\">idxmin()</span></code></a> and <a class=\"reference internal\" href=\"../reference/api/pandas.DataFrame.idxmax.html#pandas.DataFrame.idxmax\" title=\"pandas.DataFrame.idxmax\"><code class=\"xref py py-meth docutils literal notranslate\"><span class=\"pre\">idxmax()</span></code></a> functions on Series\n",
    "and DataFrame compute the index labels with the minimum and maximum\n",
    "corresponding values:</p>"
   ]
  },
  {
   "cell_type": "code",
   "execution_count": null,
   "metadata": {},
   "outputs": [],
   "source": [
    "s1 = pd.Series(np.random.randn(5))"
   ]
  },
  {
   "cell_type": "code",
   "execution_count": null,
   "metadata": {},
   "outputs": [],
   "source": [
    "s1"
   ]
  },
  {
   "cell_type": "code",
   "execution_count": null,
   "metadata": {},
   "outputs": [],
   "source": [
    "s1.idxmin(), s1.idxmax()"
   ]
  },
  {
   "cell_type": "code",
   "execution_count": null,
   "metadata": {},
   "outputs": [],
   "source": [
    "df1 = pd.DataFrame(np.random.randn(5, 3), columns=[\"A\", \"B\", \"C\"])"
   ]
  },
  {
   "cell_type": "code",
   "execution_count": null,
   "metadata": {},
   "outputs": [],
   "source": [
    "df1"
   ]
  },
  {
   "cell_type": "code",
   "execution_count": null,
   "metadata": {},
   "outputs": [],
   "source": [
    "df1.idxmin()"
   ]
  },
  {
   "cell_type": "code",
   "execution_count": null,
   "metadata": {},
   "outputs": [],
   "source": [
    "df1.idxmax(axis=1)"
   ]
  },
  {
   "cell_type": "markdown",
   "metadata": {},
   "source": [
    "<p>When there are multiple rows (or columns) matching the minimum or maximum\n",
    "value, <a class=\"reference internal\" href=\"../reference/api/pandas.DataFrame.idxmin.html#pandas.DataFrame.idxmin\" title=\"pandas.DataFrame.idxmin\"><code class=\"xref py py-meth docutils literal notranslate\"><span class=\"pre\">idxmin()</span></code></a> and <a class=\"reference internal\" href=\"../reference/api/pandas.DataFrame.idxmax.html#pandas.DataFrame.idxmax\" title=\"pandas.DataFrame.idxmax\"><code class=\"xref py py-meth docutils literal notranslate\"><span class=\"pre\">idxmax()</span></code></a> return the first\n",
    "matching index:</p>"
   ]
  },
  {
   "cell_type": "code",
   "execution_count": null,
   "metadata": {},
   "outputs": [],
   "source": [
    "df3 = pd.DataFrame([2, 1, 1, 3, np.nan], columns=[\"A\"], index=list(\"edcba\"))"
   ]
  },
  {
   "cell_type": "code",
   "execution_count": null,
   "metadata": {},
   "outputs": [],
   "source": [
    "df3"
   ]
  },
  {
   "cell_type": "code",
   "execution_count": null,
   "metadata": {},
   "outputs": [],
   "source": [
    "df3[\"A\"].idxmin()"
   ]
  },
  {
   "cell_type": "markdown",
   "metadata": {
    "jp-MarkdownHeadingCollapsed": true,
    "tags": []
   },
   "source": [
    "### Value counts (histogramming) / mode"
   ]
  },
  {
   "cell_type": "markdown",
   "metadata": {},
   "source": [
    "<p>The <a class=\"reference internal\" href=\"../reference/api/pandas.Series.value_counts.html#pandas.Series.value_counts\" title=\"pandas.Series.value_counts\"><code class=\"xref py py-meth docutils literal notranslate\"><span class=\"pre\">value_counts()</span></code></a> Series method and top-level function computes a histogram\n",
    "of a 1D array of values. It can also be used as a function on regular arrays:</p>"
   ]
  },
  {
   "cell_type": "code",
   "execution_count": null,
   "metadata": {},
   "outputs": [],
   "source": [
    "data = np.random.randint(0, 7, size=50)"
   ]
  },
  {
   "cell_type": "code",
   "execution_count": null,
   "metadata": {},
   "outputs": [],
   "source": [
    "data"
   ]
  },
  {
   "cell_type": "code",
   "execution_count": null,
   "metadata": {},
   "outputs": [],
   "source": [
    "s = pd.Series(data)"
   ]
  },
  {
   "cell_type": "code",
   "execution_count": null,
   "metadata": {},
   "outputs": [],
   "source": [
    "s.value_counts()"
   ]
  },
  {
   "cell_type": "code",
   "execution_count": null,
   "metadata": {},
   "outputs": [],
   "source": [
    "pd.value_counts(data)"
   ]
  },
  {
   "cell_type": "markdown",
   "metadata": {},
   "source": [
    "<p>The <a class=\"reference internal\" href=\"../reference/api/pandas.DataFrame.value_counts.html#pandas.DataFrame.value_counts\" title=\"pandas.DataFrame.value_counts\"><code class=\"xref py py-meth docutils literal notranslate\"><span class=\"pre\">value_counts()</span></code></a> method can be used to count combinations across multiple columns.\n",
    "By default all columns are used but a subset can be selected using the <code class=\"docutils literal notranslate\"><span class=\"pre\">subset</span></code> argument.</p>"
   ]
  },
  {
   "cell_type": "code",
   "execution_count": null,
   "metadata": {},
   "outputs": [],
   "source": [
    "data = {\"a\": [1, 2, 3, 4], \"b\": [\"x\", \"x\", \"y\", \"y\"]}"
   ]
  },
  {
   "cell_type": "code",
   "execution_count": null,
   "metadata": {},
   "outputs": [],
   "source": [
    "frame = pd.DataFrame(data)"
   ]
  },
  {
   "cell_type": "code",
   "execution_count": null,
   "metadata": {},
   "outputs": [],
   "source": [
    "frame.value_counts()"
   ]
  },
  {
   "cell_type": "markdown",
   "metadata": {},
   "source": [
    "<p>Similarly, you can get the most frequently occurring value(s), i.e. the mode, of the values in a Series or DataFrame:</p>"
   ]
  },
  {
   "cell_type": "code",
   "execution_count": null,
   "metadata": {},
   "outputs": [],
   "source": [
    "s5 = pd.Series([1, 1, 3, 3, 3, 5, 5, 7, 7, 7])"
   ]
  },
  {
   "cell_type": "code",
   "execution_count": null,
   "metadata": {},
   "outputs": [],
   "source": [
    "s5.mode()"
   ]
  },
  {
   "cell_type": "code",
   "execution_count": null,
   "metadata": {},
   "outputs": [],
   "source": [
    "df5 = pd.DataFrame({\n",
    "    \"A\": np.random.randint(0, 7, size=50),\n",
    "    \"B\": np.random.randint(-10, 15, size=50),\n",
    "    }\n",
    ")"
   ]
  },
  {
   "cell_type": "code",
   "execution_count": null,
   "metadata": {},
   "outputs": [],
   "source": [
    "df5.mode()"
   ]
  },
  {
   "cell_type": "markdown",
   "metadata": {
    "tags": []
   },
   "source": [
    "### Discretization and quantiling"
   ]
  },
  {
   "cell_type": "markdown",
   "metadata": {},
   "source": [
    "<p>Continuous values can be discretized using the <a class=\"reference internal\" href=\"../reference/api/pandas.cut.html#pandas.cut\" title=\"pandas.cut\"><code class=\"xref py py-func docutils literal notranslate\"><span class=\"pre\">cut()</span></code></a> (bins based on values)\n",
    "and <a class=\"reference internal\" href=\"../reference/api/pandas.qcut.html#pandas.qcut\" title=\"pandas.qcut\"><code class=\"xref py py-func docutils literal notranslate\"><span class=\"pre\">qcut()</span></code></a> (bins based on sample quantiles) functions:</p>"
   ]
  },
  {
   "cell_type": "code",
   "execution_count": null,
   "metadata": {},
   "outputs": [],
   "source": [
    "arr = np.random.randn(20)"
   ]
  },
  {
   "cell_type": "code",
   "execution_count": null,
   "metadata": {},
   "outputs": [],
   "source": [
    "factor = pd.cut(arr, 4)"
   ]
  },
  {
   "cell_type": "code",
   "execution_count": null,
   "metadata": {},
   "outputs": [],
   "source": [
    "factor"
   ]
  },
  {
   "cell_type": "code",
   "execution_count": null,
   "metadata": {},
   "outputs": [],
   "source": [
    "factor = pd.cut(arr, [-5, -1, 0, 1, 5])"
   ]
  },
  {
   "cell_type": "code",
   "execution_count": null,
   "metadata": {},
   "outputs": [],
   "source": [
    "factor"
   ]
  },
  {
   "cell_type": "markdown",
   "metadata": {},
   "source": [
    "<p><a class=\"reference internal\" href=\"../reference/api/pandas.qcut.html#pandas.qcut\" title=\"pandas.qcut\"><code class=\"xref py py-func docutils literal notranslate\"><span class=\"pre\">qcut()</span></code></a> computes sample quantiles. For example, we could slice up some\n",
    "normally distributed data into equal-size quartiles like so:</p>"
   ]
  },
  {
   "cell_type": "code",
   "execution_count": null,
   "metadata": {},
   "outputs": [],
   "source": [
    "arr = np.random.randn(30)"
   ]
  },
  {
   "cell_type": "code",
   "execution_count": null,
   "metadata": {},
   "outputs": [],
   "source": [
    "factor = pd.qcut(arr,[0, 0.25, 0.5, 0.75, 1])"
   ]
  },
  {
   "cell_type": "code",
   "execution_count": null,
   "metadata": {},
   "outputs": [],
   "source": [
    "factor"
   ]
  },
  {
   "cell_type": "code",
   "execution_count": null,
   "metadata": {},
   "outputs": [],
   "source": [
    "pd.value_counts(factor)"
   ]
  },
  {
   "cell_type": "markdown",
   "metadata": {},
   "source": [
    "<p>We can also pass infinite values to define the bins:</p>"
   ]
  },
  {
   "cell_type": "code",
   "execution_count": null,
   "metadata": {},
   "outputs": [],
   "source": [
    "arr = np.random.randn(20)"
   ]
  },
  {
   "cell_type": "code",
   "execution_count": null,
   "metadata": {},
   "outputs": [],
   "source": [
    "factor = pd.cut(arr, [-np.inf, 0, np.inf])"
   ]
  },
  {
   "cell_type": "code",
   "execution_count": null,
   "metadata": {},
   "outputs": [],
   "source": [
    "factor"
   ]
  },
  {
   "cell_type": "markdown",
   "metadata": {},
   "source": [
    "## Function application"
   ]
  },
  {
   "cell_type": "markdown",
   "metadata": {},
   "source": [
    "<p>To apply your own or another library’s functions to pandas objects,\n",
    "you should be aware of the three methods below. The appropriate\n",
    "method to use depends on whether your function expects to operate\n",
    "on an entire <code class=\"docutils literal notranslate\"><span class=\"pre\">DataFrame</span></code> or <code class=\"docutils literal notranslate\"><span class=\"pre\">Series</span></code>, row- or column-wise, or elementwise.</p>"
   ]
  },
  {
   "cell_type": "markdown",
   "metadata": {},
   "source": [
    "<ol class=\"arabic simple\">\n",
    "<li><p><a class=\"reference internal\" href=\"#tablewise-function-application\">Tablewise Function Application</a>: <a class=\"reference internal\" href=\"../reference/api/pandas.DataFrame.pipe.html#pandas.DataFrame.pipe\" title=\"pandas.DataFrame.pipe\"><code class=\"xref py py-meth docutils literal notranslate\"><span class=\"pre\">pipe()</span></code></a></p></li>\n",
    "<li><p><a class=\"reference internal\" href=\"#row-or-column-wise-function-application\">Row or Column-wise Function Application</a>: <a class=\"reference internal\" href=\"../reference/api/pandas.DataFrame.apply.html#pandas.DataFrame.apply\" title=\"pandas.DataFrame.apply\"><code class=\"xref py py-meth docutils literal notranslate\"><span class=\"pre\">apply()</span></code></a></p></li>\n",
    "<li><p><a class=\"reference internal\" href=\"#aggregation-api\">Aggregation API</a>: <a class=\"reference internal\" href=\"../reference/api/pandas.DataFrame.agg.html#pandas.DataFrame.agg\" title=\"pandas.DataFrame.agg\"><code class=\"xref py py-meth docutils literal notranslate\"><span class=\"pre\">agg()</span></code></a> and <a class=\"reference internal\" href=\"../reference/api/pandas.DataFrame.transform.html#pandas.DataFrame.transform\" title=\"pandas.DataFrame.transform\"><code class=\"xref py py-meth docutils literal notranslate\"><span class=\"pre\">transform()</span></code></a></p></li>\n",
    "<li><p><a class=\"reference internal\" href=\"#applying-elementwise-functions\">Applying Elementwise Functions</a>: <a class=\"reference internal\" href=\"../reference/api/pandas.DataFrame.applymap.html#pandas.DataFrame.applymap\" title=\"pandas.DataFrame.applymap\"><code class=\"xref py py-meth docutils literal notranslate\"><span class=\"pre\">applymap()</span></code></a></p></li>\n",
    "</ol>"
   ]
  },
  {
   "cell_type": "markdown",
   "metadata": {},
   "source": [
    "### Tablewise function application"
   ]
  },
  {
   "cell_type": "markdown",
   "metadata": {},
   "source": [
    "<p><code class=\"docutils literal notranslate\"><span class=\"pre\">DataFrames</span></code> and <code class=\"docutils literal notranslate\"><span class=\"pre\">Series</span></code> can be passed into functions.\n",
    "However, if the function needs to be called in a chain, consider using the <a class=\"reference internal\" href=\"../reference/api/pandas.DataFrame.pipe.html#pandas.DataFrame.pipe\" title=\"pandas.DataFrame.pipe\"><code class=\"xref py py-meth docutils literal notranslate\"><span class=\"pre\">pipe()</span></code></a> method.</p>"
   ]
  },
  {
   "cell_type": "code",
   "execution_count": null,
   "metadata": {},
   "outputs": [],
   "source": [
    "def extract_city_name(df):\n",
    "    \"\"\"\n",
    "    Chicago, IL -> Chicago for city_name column\n",
    "    \"\"\"\n",
    "    df[\"city_name\"] = df[\"city_and_code\"].str.split(\",\").str.get(0)\n",
    "    return df"
   ]
  },
  {
   "cell_type": "code",
   "execution_count": null,
   "metadata": {},
   "outputs": [],
   "source": [
    "def add_country_name(df, country_name=None):\n",
    "    \"\"\"\n",
    "    Chicago -> Chicago-US for city_name column\n",
    "    \"\"\"\n",
    "    col = \"city_name\"\n",
    "    df[\"city_and_country\"] = df[col] + country_name\n",
    "    return df"
   ]
  },
  {
   "cell_type": "code",
   "execution_count": null,
   "metadata": {},
   "outputs": [],
   "source": [
    "df_p = pd.DataFrame({\"city_and_code\": [\"Chicago, IL\"]})"
   ]
  },
  {
   "cell_type": "code",
   "execution_count": null,
   "metadata": {},
   "outputs": [],
   "source": [
    "df_p"
   ]
  },
  {
   "cell_type": "markdown",
   "metadata": {},
   "source": [
    "<p><code class=\"docutils literal notranslate\"><span class=\"pre\">extract_city_name</span></code> and <code class=\"docutils literal notranslate\"><span class=\"pre\">add_country_name</span></code> are functions taking and returning <code class=\"docutils literal notranslate\"><span class=\"pre\">DataFrames</span></code>.</p>"
   ]
  },
  {
   "cell_type": "markdown",
   "metadata": {},
   "source": [
    "<p>Now compare the following:</p>"
   ]
  },
  {
   "cell_type": "code",
   "execution_count": null,
   "metadata": {},
   "outputs": [],
   "source": [
    "add_country_name(extract_city_name(df_p), country_name=\"US\")"
   ]
  },
  {
   "cell_type": "markdown",
   "metadata": {},
   "source": [
    "<p>Is equivalent to:</p>"
   ]
  },
  {
   "cell_type": "code",
   "execution_count": null,
   "metadata": {},
   "outputs": [],
   "source": [
    "df_p.pipe(extract_city_name).pipe(add_country_name, country_name=\"US\")"
   ]
  },
  {
   "cell_type": "markdown",
   "metadata": {},
   "source": [
    "<p>pandas encourages the second style, which is known as method chaining.\n",
    "<code class=\"docutils literal notranslate\"><span class=\"pre\">pipe</span></code> makes it easy to use your own or another library’s functions\n",
    "in method chains, alongside pandas’ methods.</p>"
   ]
  },
  {
   "cell_type": "markdown",
   "metadata": {},
   "source": [
    "<p>In the example above, the functions <code class=\"docutils literal notranslate\"><span class=\"pre\">extract_city_name</span></code> and <code class=\"docutils literal notranslate\"><span class=\"pre\">add_country_name</span></code> each expected a <code class=\"docutils literal notranslate\"><span class=\"pre\">DataFrame</span></code> as the first positional argument.\n",
    "What if the function you wish to apply takes its data as, say, the second argument?\n",
    "In this case, provide <code class=\"docutils literal notranslate\"><span class=\"pre\">pipe</span></code> with a tuple of <code class=\"docutils literal notranslate\"><span class=\"pre\">(callable,</span> <span class=\"pre\">data_keyword)</span></code>.\n",
    "<code class=\"docutils literal notranslate\"><span class=\"pre\">.pipe</span></code> will route the <code class=\"docutils literal notranslate\"><span class=\"pre\">DataFrame</span></code> to the argument specified in the tuple.</p>"
   ]
  },
  {
   "cell_type": "markdown",
   "metadata": {},
   "source": [
    "<p>For example, we can fit a regression using statsmodels. Their API expects a formula first and a <code class=\"docutils literal notranslate\"><span class=\"pre\">DataFrame</span></code> as the second argument, <code class=\"docutils literal notranslate\"><span class=\"pre\">data</span></code>. We pass in the function, keyword pair <code class=\"docutils literal notranslate\"><span class=\"pre\">(sm.ols,</span> <span class=\"pre\">'data')</span></code> to <code class=\"docutils literal notranslate\"><span class=\"pre\">pipe</span></code>:</p>"
   ]
  },
  {
   "cell_type": "code",
   "execution_count": null,
   "metadata": {},
   "outputs": [],
   "source": [
    "import statsmodels.formula.api as sm"
   ]
  },
  {
   "cell_type": "code",
   "execution_count": null,
   "metadata": {},
   "outputs": [],
   "source": [
    "bb = pd.read_csv(\"baseball.csv\", index_col=\"id\")"
   ]
  },
  {
   "cell_type": "code",
   "execution_count": null,
   "metadata": {},
   "outputs": [],
   "source": [
    "(bb.query(\"h > 0\")\n",
    " .assign(ln_h=lambda df: np.log(df.h))\n",
    " .pipe((sm.ols, \"data\"), \"hr ~ ln_h + year + g + C(lg)\")\n",
    " .fit()\n",
    " .summary()\n",
    ")"
   ]
  },
  {
   "cell_type": "markdown",
   "metadata": {},
   "source": [
    "<p>The pipe method is inspired by unix pipes and more recently <a class=\"reference external\" href=\"https://github.com/tidyverse/dplyr\">dplyr</a> and <a class=\"reference external\" href=\"https://github.com/tidyverse/magrittr\">magrittr</a>, which\n",
    "have introduced the popular <code class=\"docutils literal notranslate\"><span class=\"pre\">(%&gt;%)</span></code> (read pipe) operator for <a class=\"reference external\" href=\"https://www.r-project.org\">R</a>.\n",
    "The implementation of <code class=\"docutils literal notranslate\"><span class=\"pre\">pipe</span></code> here is quite clean and feels right at home in Python.\n",
    "We encourage you to view the source code of <a class=\"reference internal\" href=\"../reference/api/pandas.DataFrame.pipe.html#pandas.DataFrame.pipe\" title=\"pandas.DataFrame.pipe\"><code class=\"xref py py-meth docutils literal notranslate\"><span class=\"pre\">pipe()</span></code></a>.</p>"
   ]
  },
  {
   "cell_type": "markdown",
   "metadata": {},
   "source": [
    "### Row or column-wise function application"
   ]
  },
  {
   "cell_type": "markdown",
   "metadata": {},
   "source": [
    "<p>Arbitrary functions can be applied along the axes of a DataFrame\n",
    "using the <a class=\"reference internal\" href=\"../reference/api/pandas.DataFrame.apply.html#pandas.DataFrame.apply\" title=\"pandas.DataFrame.apply\"><code class=\"xref py py-meth docutils literal notranslate\"><span class=\"pre\">apply()</span></code></a> method, which, like the descriptive\n",
    "statistics methods, takes an optional <code class=\"docutils literal notranslate\"><span class=\"pre\">axis</span></code> argument:</p>"
   ]
  },
  {
   "cell_type": "code",
   "execution_count": null,
   "metadata": {},
   "outputs": [],
   "source": [
    "df.apply(np.mean)"
   ]
  },
  {
   "cell_type": "code",
   "execution_count": null,
   "metadata": {},
   "outputs": [],
   "source": [
    "df.apply(np.mean, axis=1)"
   ]
  },
  {
   "cell_type": "code",
   "execution_count": null,
   "metadata": {},
   "outputs": [],
   "source": [
    "df.apply(lambda x: x.max() - x.min())"
   ]
  },
  {
   "cell_type": "code",
   "execution_count": null,
   "metadata": {},
   "outputs": [],
   "source": [
    "df.apply(np.cumsum)"
   ]
  },
  {
   "cell_type": "code",
   "execution_count": null,
   "metadata": {},
   "outputs": [],
   "source": [
    "df.apply(np.exp)"
   ]
  },
  {
   "cell_type": "markdown",
   "metadata": {},
   "source": [
    "<p>The <a class=\"reference internal\" href=\"../reference/api/pandas.DataFrame.apply.html#pandas.DataFrame.apply\" title=\"pandas.DataFrame.apply\"><code class=\"xref py py-meth docutils literal notranslate\"><span class=\"pre\">apply()</span></code></a> method will also dispatch on a string method name.</p>"
   ]
  },
  {
   "cell_type": "code",
   "execution_count": null,
   "metadata": {},
   "outputs": [],
   "source": [
    "df.apply(\"mean\")"
   ]
  },
  {
   "cell_type": "code",
   "execution_count": null,
   "metadata": {},
   "outputs": [],
   "source": [
    "df.apply(\"mean\", axis=1)"
   ]
  },
  {
   "cell_type": "markdown",
   "metadata": {},
   "source": [
    "<p>The return type of the function passed to <a class=\"reference internal\" href=\"../reference/api/pandas.DataFrame.apply.html#pandas.DataFrame.apply\" title=\"pandas.DataFrame.apply\"><code class=\"xref py py-meth docutils literal notranslate\"><span class=\"pre\">apply()</span></code></a> affects the\n",
    "type of the final output from <code class=\"docutils literal notranslate\"><span class=\"pre\">DataFrame.apply</span></code> for the default behaviour:</p>\n",
    "\n",
    "\n",
    "<ul class=\"simple\">\n",
    "<li><p>If the applied function returns a <code class=\"docutils literal notranslate\"><span class=\"pre\">Series</span></code>, the final output is a <code class=\"docutils literal notranslate\"><span class=\"pre\">DataFrame</span></code>.\n",
    "The columns match the index of the <code class=\"docutils literal notranslate\"><span class=\"pre\">Series</span></code> returned by the applied function.</p></li>\n",
    "<li><p>If the applied function returns any other type, the final output is a <code class=\"docutils literal notranslate\"><span class=\"pre\">Series</span></code>.</p></li>\n",
    "</ul>\n",
    "\n",
    "<p>This default behaviour can be overridden using the <code class=\"docutils literal notranslate\"><span class=\"pre\">result_type</span></code>, which\n",
    "accepts three options: <code class=\"docutils literal notranslate\"><span class=\"pre\">reduce</span></code>, <code class=\"docutils literal notranslate\"><span class=\"pre\">broadcast</span></code>, and <code class=\"docutils literal notranslate\"><span class=\"pre\">expand</span></code>.\n",
    "These will determine how list-likes return values expand (or not) to a <code class=\"docutils literal notranslate\"><span class=\"pre\">DataFrame</span></code>.</p>\n",
    "\n",
    "<p><a class=\"reference internal\" href=\"../reference/api/pandas.DataFrame.apply.html#pandas.DataFrame.apply\" title=\"pandas.DataFrame.apply\"><code class=\"xref py py-meth docutils literal notranslate\"><span class=\"pre\">apply()</span></code></a> combined with some cleverness can be used to answer many questions\n",
    "about a data set. For example, suppose we wanted to extract the date where the\n",
    "maximum value for each column occurred:</p>"
   ]
  },
  {
   "cell_type": "code",
   "execution_count": null,
   "metadata": {},
   "outputs": [],
   "source": [
    "tsdf = pd.DataFrame(\n",
    "    np.random.randn(1000, 3),\n",
    "    columns=[\"A\", \"B\", \"C\"],\n",
    "    index=pd.date_range(\"1/1/2000\", periods=1000),\n",
    ")"
   ]
  },
  {
   "cell_type": "code",
   "execution_count": null,
   "metadata": {},
   "outputs": [],
   "source": [
    "tsdf.apply(lambda x: x.idxmax())"
   ]
  },
  {
   "cell_type": "markdown",
   "metadata": {},
   "source": [
    "<p>You may also pass additional arguments and keyword arguments to the <a class=\"reference internal\" href=\"../reference/api/pandas.DataFrame.apply.html#pandas.DataFrame.apply\" title=\"pandas.DataFrame.apply\"><code class=\"xref py py-meth docutils literal notranslate\"><span class=\"pre\">apply()</span></code></a>\n",
    "method. For instance, consider the following function you would like to apply:</p>"
   ]
  },
  {
   "cell_type": "code",
   "execution_count": null,
   "metadata": {},
   "outputs": [],
   "source": [
    "def subtract_and_divide(x, sub, divide=1):\n",
    "    return (x - sub) / divide"
   ]
  },
  {
   "cell_type": "markdown",
   "metadata": {},
   "source": [
    "<p>You may then apply this function as follows:</p>"
   ]
  },
  {
   "cell_type": "code",
   "execution_count": null,
   "metadata": {},
   "outputs": [],
   "source": [
    "df.apply(subtract_and_divide,args=(5,),divide=3)"
   ]
  },
  {
   "cell_type": "markdown",
   "metadata": {},
   "source": [
    "<p>Another useful feature is the ability to pass Series methods to carry out some\n",
    "Series operation on each column or row:</p>"
   ]
  },
  {
   "cell_type": "code",
   "execution_count": null,
   "metadata": {},
   "outputs": [],
   "source": [
    "tsdf"
   ]
  },
  {
   "cell_type": "code",
   "execution_count": null,
   "metadata": {},
   "outputs": [],
   "source": [
    "tsdf.apply(pd.Series.interpolate)"
   ]
  },
  {
   "cell_type": "markdown",
   "metadata": {},
   "source": [
    "<p>Finally, <a class=\"reference internal\" href=\"../reference/api/pandas.DataFrame.apply.html#pandas.DataFrame.apply\" title=\"pandas.DataFrame.apply\"><code class=\"xref py py-meth docutils literal notranslate\"><span class=\"pre\">apply()</span></code></a> takes an argument <code class=\"docutils literal notranslate\"><span class=\"pre\">raw</span></code> which is False by default, which\n",
    "converts each row or column into a Series before applying the function. When\n",
    "set to True, the passed function will instead receive an ndarray object, which\n",
    "has positive performance implications if you do not need the indexing\n",
    "functionality.</p>"
   ]
  },
  {
   "cell_type": "markdown",
   "metadata": {},
   "source": [
    "### Aggregation API"
   ]
  },
  {
   "cell_type": "markdown",
   "metadata": {},
   "source": [
    "<p>The aggregation API allows one to express possibly multiple aggregation operations in a single concise way.\n",
    "This API is similar across pandas objects, see <a class=\"reference internal\" href=\"groupby.html#groupby-aggregate\"><span class=\"std std-ref\">groupby API</span></a>, the\n",
    "<a class=\"reference internal\" href=\"window.html#window-overview\"><span class=\"std std-ref\">window API</span></a>, and the <a class=\"reference internal\" href=\"timeseries.html#timeseries-aggregate\"><span class=\"std std-ref\">resample API</span></a>.\n",
    "The entry point for aggregation is <a class=\"reference internal\" href=\"../reference/api/pandas.DataFrame.aggregate.html#pandas.DataFrame.aggregate\" title=\"pandas.DataFrame.aggregate\"><code class=\"xref py py-meth docutils literal notranslate\"><span class=\"pre\">DataFrame.aggregate()</span></code></a>, or the alias\n",
    "<a class=\"reference internal\" href=\"../reference/api/pandas.DataFrame.agg.html#pandas.DataFrame.agg\" title=\"pandas.DataFrame.agg\"><code class=\"xref py py-meth docutils literal notranslate\"><span class=\"pre\">DataFrame.agg()</span></code></a>.</p>\n",
    "\n",
    "\n",
    "<p>We will use a similar starting frame from above:</p>"
   ]
  },
  {
   "cell_type": "code",
   "execution_count": null,
   "metadata": {},
   "outputs": [],
   "source": [
    "tsdf = pd.DataFrame(\n",
    "    np.random.randn(10, 3),\n",
    "    columns=[\"A\", \"B\", \"C\"],\n",
    "    index=pd.date_range(\"1/1/2000\", periods=10),\n",
    ")"
   ]
  },
  {
   "cell_type": "code",
   "execution_count": null,
   "metadata": {},
   "outputs": [],
   "source": [
    "tsdf.iloc[3:7] = np.nan\n",
    "tsdf"
   ]
  },
  {
   "cell_type": "markdown",
   "metadata": {},
   "source": [
    "<p>Using a single function is equivalent to <a class=\"reference internal\" href=\"../reference/api/pandas.DataFrame.apply.html#pandas.DataFrame.apply\" title=\"pandas.DataFrame.apply\"><code class=\"xref py py-meth docutils literal notranslate\"><span class=\"pre\">apply()</span></code></a>. You can also\n",
    "pass named methods as strings. These will return a <code class=\"docutils literal notranslate\"><span class=\"pre\">Series</span></code> of the aggregated\n",
    "output:</p>"
   ]
  },
  {
   "cell_type": "code",
   "execution_count": null,
   "metadata": {},
   "outputs": [],
   "source": [
    "tsdf.aggregate(np.sum)"
   ]
  },
  {
   "cell_type": "code",
   "execution_count": null,
   "metadata": {},
   "outputs": [],
   "source": [
    "tsdf.aggregate(\"sum\")"
   ]
  },
  {
   "cell_type": "code",
   "execution_count": null,
   "metadata": {},
   "outputs": [],
   "source": [
    "# these are equivalent to a ``.sum()`` because we are aggregating\n",
    "# on a single function\n",
    "tsdf.sum()"
   ]
  },
  {
   "cell_type": "markdown",
   "metadata": {},
   "source": [
    "<p>Single aggregations on a <code class=\"docutils literal notranslate\"><span class=\"pre\">Series</span></code> this will return a scalar value:</p>"
   ]
  },
  {
   "cell_type": "code",
   "execution_count": null,
   "metadata": {},
   "outputs": [],
   "source": [
    "tsdf['A'].aggregate(np.sum)"
   ]
  },
  {
   "cell_type": "markdown",
   "metadata": {},
   "source": [
    "#### Aggregating with multiple functions"
   ]
  },
  {
   "cell_type": "markdown",
   "metadata": {},
   "source": [
    "<p>You can pass multiple aggregation arguments as a list.\n",
    "The results of each of the passed functions will be a row in the resulting <code class=\"docutils literal notranslate\"><span class=\"pre\">DataFrame</span></code>.\n",
    "These are naturally named from the aggregation function.</p>"
   ]
  },
  {
   "cell_type": "code",
   "execution_count": null,
   "metadata": {},
   "outputs": [],
   "source": [
    "tsdf.agg([\"sum\"])"
   ]
  },
  {
   "cell_type": "markdown",
   "metadata": {},
   "source": [
    "<p>Multiple functions yield multiple rows:</p>"
   ]
  },
  {
   "cell_type": "code",
   "execution_count": null,
   "metadata": {},
   "outputs": [],
   "source": [
    "tsdf.agg([\"sum\",\"mean\"])"
   ]
  },
  {
   "cell_type": "markdown",
   "metadata": {},
   "source": [
    "<p>On a <code class=\"docutils literal notranslate\"><span class=\"pre\">Series</span></code>, multiple functions return a <code class=\"docutils literal notranslate\"><span class=\"pre\">Series</span></code>, indexed by the function names:</p>"
   ]
  },
  {
   "cell_type": "code",
   "execution_count": null,
   "metadata": {},
   "outputs": [],
   "source": [
    "tsdf[\"A\"].agg([\"sum\", \"mean\"])"
   ]
  },
  {
   "cell_type": "markdown",
   "metadata": {},
   "source": [
    "<p>Passing a <code class=\"docutils literal notranslate\"><span class=\"pre\">lambda</span></code> function will yield a <code class=\"docutils literal notranslate\"><span class=\"pre\">&lt;lambda&gt;</span></code> named row:</p>"
   ]
  },
  {
   "cell_type": "code",
   "execution_count": null,
   "metadata": {},
   "outputs": [],
   "source": [
    "tsdf.aggregate(['sum',lambda x: x.mean()])"
   ]
  },
  {
   "cell_type": "markdown",
   "metadata": {},
   "source": [
    "<p>Passing a named function will yield that name for the row:</p>"
   ]
  },
  {
   "cell_type": "code",
   "execution_count": null,
   "metadata": {},
   "outputs": [],
   "source": [
    "def mymean(x):\n",
    "    return x.mean()\n",
    "\n",
    "\n",
    "tsdf.aggregate(['sum',mymean])"
   ]
  },
  {
   "cell_type": "markdown",
   "metadata": {},
   "source": [
    "#### Aggregating with a dict"
   ]
  },
  {
   "cell_type": "markdown",
   "metadata": {},
   "source": [
    "<p>Passing a dictionary of column names to a scalar or a list of scalars, to <code class=\"docutils literal notranslate\"><span class=\"pre\">DataFrame.agg</span></code>\n",
    "allows you to customize which functions are applied to which columns. Note that the results\n",
    "are not in any particular order, you can use an <code class=\"docutils literal notranslate\"><span class=\"pre\">OrderedDict</span></code> instead to guarantee ordering.</p>"
   ]
  },
  {
   "cell_type": "code",
   "execution_count": null,
   "metadata": {},
   "outputs": [],
   "source": [
    "tsdf.agg({\"A\": \"mean\", \"B\": \"sum\"})"
   ]
  },
  {
   "cell_type": "markdown",
   "metadata": {},
   "source": [
    "<p>Passing a list-like will generate a <code class=\"docutils literal notranslate\"><span class=\"pre\">DataFrame</span></code> output. You will get a matrix-like output\n",
    "of all of the aggregators. The output will consist of all unique functions. Those that are\n",
    "not noted for a particular column will be <code class=\"docutils literal notranslate\"><span class=\"pre\">NaN</span></code>:</p>"
   ]
  },
  {
   "cell_type": "code",
   "execution_count": null,
   "metadata": {},
   "outputs": [],
   "source": [
    "tsdf.agg({\"A\": [\"mean\", \"min\"], \"B\": \"sum\"})"
   ]
  },
  {
   "cell_type": "markdown",
   "metadata": {},
   "source": [
    "#### Mixed dtypes"
   ]
  },
  {
   "cell_type": "markdown",
   "metadata": {},
   "source": [
    "<p>When presented with mixed dtypes that cannot aggregate, <code class=\"docutils literal notranslate\"><span class=\"pre\">.agg</span></code> will only take the valid\n",
    "aggregations. This is similar to how <code class=\"docutils literal notranslate\"><span class=\"pre\">.groupby.agg</span></code> works.</p>"
   ]
  },
  {
   "cell_type": "code",
   "execution_count": null,
   "metadata": {},
   "outputs": [],
   "source": [
    "mdf = pd.DataFrame({\n",
    "    \"A\": [1, 2, 3],\n",
    "    \"B\": [1.0, 2.0, 3.0],\n",
    "    \"C\": [\"foo\", \"bar\", \"baz\"],\n",
    "    \"D\": pd.date_range(\"20130101\", periods=3),\n",
    "})"
   ]
  },
  {
   "cell_type": "code",
   "execution_count": null,
   "metadata": {},
   "outputs": [],
   "source": [
    "mdf.dtypes"
   ]
  },
  {
   "cell_type": "code",
   "execution_count": null,
   "metadata": {},
   "outputs": [],
   "source": [
    "mdf.aggregate(['min','sum'])"
   ]
  },
  {
   "cell_type": "markdown",
   "metadata": {},
   "source": [
    "#### Custom describe"
   ]
  },
  {
   "cell_type": "markdown",
   "metadata": {},
   "source": [
    "<p>With <code class=\"docutils literal notranslate\"><span class=\"pre\">.agg()</span></code> it is possible to easily create a custom describe function, similar\n",
    "to the built in <a class=\"reference internal\" href=\"#basics-describe\"><span class=\"std std-ref\">describe function</span></a>.</p>"
   ]
  },
  {
   "cell_type": "code",
   "execution_count": null,
   "metadata": {},
   "outputs": [],
   "source": [
    "from functools import partial"
   ]
  },
  {
   "cell_type": "code",
   "execution_count": null,
   "metadata": {},
   "outputs": [],
   "source": [
    "q_25 = partial(pd.Series.quantile, q=0.25)"
   ]
  },
  {
   "cell_type": "code",
   "execution_count": null,
   "metadata": {},
   "outputs": [],
   "source": [
    "q_25.__name__ = \"25%\""
   ]
  },
  {
   "cell_type": "code",
   "execution_count": null,
   "metadata": {},
   "outputs": [],
   "source": [
    "q_75 = partial(pd.Series.quantile, q=0.75)"
   ]
  },
  {
   "cell_type": "code",
   "execution_count": null,
   "metadata": {},
   "outputs": [],
   "source": [
    "q_75.__name__ = \"75%\""
   ]
  },
  {
   "cell_type": "code",
   "execution_count": null,
   "metadata": {},
   "outputs": [],
   "source": [
    "tsdf.agg([\"count\", \"mean\", \"std\", \"min\", q_25, \"median\", q_75, \"max\"])"
   ]
  },
  {
   "cell_type": "markdown",
   "metadata": {},
   "source": [
    "next session\n",
    "\n",
    "## https://pandas.pydata.org/docs/user_guide/basics.html#transform-api"
   ]
  },
  {
   "cell_type": "code",
   "execution_count": null,
   "metadata": {},
   "outputs": [],
   "source": []
  }
 ],
 "metadata": {
  "colab": {
   "authorship_tag": "ABX9TyMtJM2NOi/5VNmGmmefUJdg",
   "include_colab_link": true,
   "name": "pandas_003_Essential_basic_functionality.ipynb",
   "private_outputs": true,
   "provenance": []
  },
  "kernelspec": {
   "display_name": "Python 3 (ipykernel)",
   "language": "python",
   "name": "python3"
  },
  "language_info": {
   "codemirror_mode": {
    "name": "ipython",
    "version": 3
   },
   "file_extension": ".py",
   "mimetype": "text/x-python",
   "name": "python",
   "nbconvert_exporter": "python",
   "pygments_lexer": "ipython3",
   "version": "3.9.2"
  }
 },
 "nbformat": 4,
 "nbformat_minor": 4
}
