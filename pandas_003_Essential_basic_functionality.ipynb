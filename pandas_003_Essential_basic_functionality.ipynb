{
 "cells": [
  {
   "cell_type": "markdown",
   "metadata": {
    "colab_type": "text",
    "id": "view-in-github"
   },
   "source": [
    "<a href=\"https://colab.research.google.com/github/maswadkar/python/blob/master/pandas_003_Essential_basic_functionality.ipynb\" target=\"_parent\"><img src=\"https://colab.research.google.com/assets/colab-badge.svg\" alt=\"Open In Colab\"/></a>"
   ]
  },
  {
   "cell_type": "code",
   "execution_count": null,
   "metadata": {
    "id": "nydiCiWkFxxt"
   },
   "outputs": [],
   "source": [
    "import numpy as np\n",
    "import pandas as pd\n",
    "pd.__version__"
   ]
  },
  {
   "cell_type": "markdown",
   "metadata": {},
   "source": [
    "## Essential basic functionality\n",
    "\n",
    "<p>Here we discuss a lot of the essential functionality common to the pandas data\n",
    "structures. To begin, let’s create some example objects like we did in\n",
    "the <a class=\"reference internal\" href=\"10min.html#min\"><span class=\"std std-ref\">10 minutes to pandas</span></a> section:</p>"
   ]
  },
  {
   "cell_type": "code",
   "execution_count": null,
   "metadata": {
    "id": "_kyNsIh0Fnw2"
   },
   "outputs": [],
   "source": [
    "index = pd.date_range(\"1/1/2000\", periods=8)\n",
    "s = pd.Series(np.random.randn(5), index=[\"a\", \"b\", \"c\", \"d\", \"e\"])\n",
    "df = pd.DataFrame(np.random.randn(8, 3), index=index, columns=[\"A\", \"B\", \"C\"])"
   ]
  },
  {
   "cell_type": "markdown",
   "metadata": {
    "id": "HJA2y5r0F3pR"
   },
   "source": [
    "## Head and tail"
   ]
  },
  {
   "cell_type": "markdown",
   "metadata": {},
   "source": [
    "<p>To view a small sample of a Series or DataFrame object, use the\n",
    "<a class=\"reference internal\" href=\"../reference/api/pandas.DataFrame.head.html#pandas.DataFrame.head\" title=\"pandas.DataFrame.head\"><code class=\"xref py py-meth docutils literal notranslate\"><span class=\"pre\">head()</span></code></a> and <a class=\"reference internal\" href=\"../reference/api/pandas.DataFrame.tail.html#pandas.DataFrame.tail\" title=\"pandas.DataFrame.tail\"><code class=\"xref py py-meth docutils literal notranslate\"><span class=\"pre\">tail()</span></code></a> methods. The default number\n",
    "of elements to display is five, but you may pass a custom number.</p>"
   ]
  },
  {
   "cell_type": "code",
   "execution_count": null,
   "metadata": {},
   "outputs": [],
   "source": [
    "long_series = pd.Series(np.random.randn(1000))"
   ]
  },
  {
   "cell_type": "code",
   "execution_count": null,
   "metadata": {},
   "outputs": [],
   "source": [
    "long_series.head()"
   ]
  },
  {
   "cell_type": "code",
   "execution_count": null,
   "metadata": {},
   "outputs": [],
   "source": [
    "long_series.tail(3)"
   ]
  },
  {
   "cell_type": "markdown",
   "metadata": {},
   "source": [
    "## Attributes and underlying data"
   ]
  },
  {
   "cell_type": "markdown",
   "metadata": {},
   "source": [
    "<p>pandas objects have a number of attributes enabling you to access the metadata</p>\n",
    "<ul class=\"simple\">\n",
    "<li><p><strong>shape</strong>: gives the axis dimensions of the object, consistent with ndarray</p></li>\n",
    "<li><dl class=\"simple\">\n",
    "<dt>Axis labels</dt><dd><ul>\n",
    "<li><p><strong>Series</strong>: <em>index</em> (only axis)</p></li>\n",
    "<li><p><strong>DataFrame</strong>: <em>index</em> (rows) and <em>columns</em></p></li>\n",
    "</ul>\n",
    "</dd>\n",
    "</dl>\n",
    "</li>\n",
    "</ul>\n",
    "\n",
    "<p>Note, <strong>these attributes can be safely assigned to</strong>!</p>"
   ]
  },
  {
   "cell_type": "code",
   "execution_count": null,
   "metadata": {},
   "outputs": [],
   "source": [
    "df[:2]"
   ]
  },
  {
   "cell_type": "code",
   "execution_count": null,
   "metadata": {},
   "outputs": [],
   "source": [
    "df.columns = [x.lower() for x in df.columns]"
   ]
  },
  {
   "cell_type": "code",
   "execution_count": null,
   "metadata": {},
   "outputs": [],
   "source": [
    "df"
   ]
  },
  {
   "cell_type": "markdown",
   "metadata": {},
   "source": [
    "<p>pandas objects (<a class=\"reference internal\" href=\"../reference/api/pandas.Index.html#pandas.Index\" title=\"pandas.Index\"><code class=\"xref py py-class docutils literal notranslate\"><span class=\"pre\">Index</span></code></a>, <a class=\"reference internal\" href=\"../reference/api/pandas.Series.html#pandas.Series\" title=\"pandas.Series\"><code class=\"xref py py-class docutils literal notranslate\"><span class=\"pre\">Series</span></code></a>, <a class=\"reference internal\" href=\"../reference/api/pandas.DataFrame.html#pandas.DataFrame\" title=\"pandas.DataFrame\"><code class=\"xref py py-class docutils literal notranslate\"><span class=\"pre\">DataFrame</span></code></a>) can be\n",
    "thought of as containers for arrays, which hold the actual data and do the\n",
    "actual computation. For many types, the underlying array is a\n",
    "<a class=\"reference external\" href=\"https://numpy.org/doc/stable/reference/generated/numpy.ndarray.html#numpy.ndarray\" title=\"(in NumPy v1.23)\"><code class=\"xref py py-class docutils literal notranslate\"><span class=\"pre\">numpy.ndarray</span></code></a>. However, pandas and 3rd party libraries may <em>extend</em>\n",
    "NumPy’s type system to add support for custom arrays\n",
    "(see <a class=\"reference internal\" href=\"#basics-dtypes\"><span class=\"std std-ref\">dtypes</span></a>).</p>\n",
    "\n",
    "<p>To get the actual data inside a <a class=\"reference internal\" href=\"../reference/api/pandas.Index.html#pandas.Index\" title=\"pandas.Index\"><code class=\"xref py py-class docutils literal notranslate\"><span class=\"pre\">Index</span></code></a> or <a class=\"reference internal\" href=\"../reference/api/pandas.Series.html#pandas.Series\" title=\"pandas.Series\"><code class=\"xref py py-class docutils literal notranslate\"><span class=\"pre\">Series</span></code></a>, use\n",
    "the <code class=\"docutils literal notranslate\"><span class=\"pre\">.array</span></code> property</p>"
   ]
  },
  {
   "cell_type": "code",
   "execution_count": null,
   "metadata": {},
   "outputs": [],
   "source": [
    "s.array"
   ]
  },
  {
   "cell_type": "code",
   "execution_count": null,
   "metadata": {},
   "outputs": [],
   "source": [
    "s.index.array"
   ]
  },
  {
   "cell_type": "markdown",
   "metadata": {},
   "source": [
    "<p><a class=\"reference internal\" href=\"../reference/api/pandas.Series.array.html#pandas.Series.array\" title=\"pandas.Series.array\"><code class=\"xref py py-attr docutils literal notranslate\"><span class=\"pre\">array</span></code></a> will always be an <a class=\"reference internal\" href=\"../reference/api/pandas.api.extensions.ExtensionArray.html#pandas.api.extensions.ExtensionArray\" title=\"pandas.api.extensions.ExtensionArray\"><code class=\"xref py py-class docutils literal notranslate\"><span class=\"pre\">ExtensionArray</span></code></a>.\n",
    "The exact details of what an <a class=\"reference internal\" href=\"../reference/api/pandas.api.extensions.ExtensionArray.html#pandas.api.extensions.ExtensionArray\" title=\"pandas.api.extensions.ExtensionArray\"><code class=\"xref py py-class docutils literal notranslate\"><span class=\"pre\">ExtensionArray</span></code></a> is and why pandas uses them are a bit\n",
    "beyond the scope of this introduction. See <a class=\"reference internal\" href=\"#basics-dtypes\"><span class=\"std std-ref\">dtypes</span></a> for more.</p>"
   ]
  },
  {
   "cell_type": "markdown",
   "metadata": {},
   "source": [
    "<p>If you know you need a NumPy array, use <a class=\"reference internal\" href=\"../reference/api/pandas.Series.to_numpy.html#pandas.Series.to_numpy\" title=\"pandas.Series.to_numpy\"><code class=\"xref py py-meth docutils literal notranslate\"><span class=\"pre\">to_numpy()</span></code></a>\n",
    "or <code class=\"xref py py-meth docutils literal notranslate\"><span class=\"pre\">numpy.asarray()</span></code>.</p>"
   ]
  },
  {
   "cell_type": "code",
   "execution_count": null,
   "metadata": {},
   "outputs": [],
   "source": [
    "s.to_numpy()"
   ]
  },
  {
   "cell_type": "code",
   "execution_count": null,
   "metadata": {},
   "outputs": [],
   "source": [
    "np.asarray(s)"
   ]
  },
  {
   "cell_type": "markdown",
   "metadata": {},
   "source": [
    "<p>When the Series or Index is backed by\n",
    "an <a class=\"reference internal\" href=\"../reference/api/pandas.api.extensions.ExtensionArray.html#pandas.api.extensions.ExtensionArray\" title=\"pandas.api.extensions.ExtensionArray\"><code class=\"xref py py-class docutils literal notranslate\"><span class=\"pre\">ExtensionArray</span></code></a>, <a class=\"reference internal\" href=\"../reference/api/pandas.Series.to_numpy.html#pandas.Series.to_numpy\" title=\"pandas.Series.to_numpy\"><code class=\"xref py py-meth docutils literal notranslate\"><span class=\"pre\">to_numpy()</span></code></a>\n",
    "may involve copying data and coercing values. See <a class=\"reference internal\" href=\"#basics-dtypes\"><span class=\"std std-ref\">dtypes</span></a> for more.</p>\n",
    "\n",
    "<p><a class=\"reference internal\" href=\"../reference/api/pandas.Series.to_numpy.html#pandas.Series.to_numpy\" title=\"pandas.Series.to_numpy\"><code class=\"xref py py-meth docutils literal notranslate\"><span class=\"pre\">to_numpy()</span></code></a> gives some control over the <code class=\"docutils literal notranslate\"><span class=\"pre\">dtype</span></code> of the\n",
    "resulting <a class=\"reference external\" href=\"https://numpy.org/doc/stable/reference/generated/numpy.ndarray.html#numpy.ndarray\" title=\"(in NumPy v1.23)\"><code class=\"xref py py-class docutils literal notranslate\"><span class=\"pre\">numpy.ndarray</span></code></a>. For example, consider datetimes with timezones.\n",
    "NumPy doesn’t have a dtype to represent timezone-aware datetimes, so there\n",
    "are two possibly useful representations:</p>\n",
    "\n",
    "\n",
    "<ol class=\"arabic simple\">\n",
    "<li><p>An object-dtype <a class=\"reference external\" href=\"https://numpy.org/doc/stable/reference/generated/numpy.ndarray.html#numpy.ndarray\" title=\"(in NumPy v1.23)\"><code class=\"xref py py-class docutils literal notranslate\"><span class=\"pre\">numpy.ndarray</span></code></a> with <a class=\"reference internal\" href=\"../reference/api/pandas.Timestamp.html#pandas.Timestamp\" title=\"pandas.Timestamp\"><code class=\"xref py py-class docutils literal notranslate\"><span class=\"pre\">Timestamp</span></code></a> objects, each\n",
    "with the correct <code class=\"docutils literal notranslate\"><span class=\"pre\">tz</span></code></p></li>\n",
    "<li><p>A <code class=\"docutils literal notranslate\"><span class=\"pre\">datetime64[ns]</span></code> -dtype <a class=\"reference external\" href=\"https://numpy.org/doc/stable/reference/generated/numpy.ndarray.html#numpy.ndarray\" title=\"(in NumPy v1.23)\"><code class=\"xref py py-class docutils literal notranslate\"><span class=\"pre\">numpy.ndarray</span></code></a>, where the values have\n",
    "been converted to UTC and the timezone discarded</p></li>\n",
    "</ol>\n",
    "\n",
    "\n",
    "<p>Timezones may be preserved with <code class=\"docutils literal notranslate\"><span class=\"pre\">dtype=object</span></code></p>"
   ]
  },
  {
   "cell_type": "code",
   "execution_count": null,
   "metadata": {},
   "outputs": [],
   "source": [
    "ser = pd.Series(pd.date_range(\"2000\", periods=2, tz=\"CET\"))"
   ]
  },
  {
   "cell_type": "code",
   "execution_count": null,
   "metadata": {},
   "outputs": [],
   "source": [
    "ser.to_numpy(dtype=object)"
   ]
  },
  {
   "cell_type": "markdown",
   "metadata": {},
   "source": [
    "<p>Or thrown away with <code class=\"docutils literal notranslate\"><span class=\"pre\">dtype='datetime64[ns]'</span></code></p>"
   ]
  },
  {
   "cell_type": "code",
   "execution_count": null,
   "metadata": {},
   "outputs": [],
   "source": [
    "ser.to_numpy(dtype=\"datetime64[ns]\")"
   ]
  },
  {
   "cell_type": "markdown",
   "metadata": {},
   "source": [
    "<p>Getting the “raw data” inside a <a class=\"reference internal\" href=\"../reference/api/pandas.DataFrame.html#pandas.DataFrame\" title=\"pandas.DataFrame\"><code class=\"xref py py-class docutils literal notranslate\"><span class=\"pre\">DataFrame</span></code></a> is possibly a bit more\n",
    "complex. When your <code class=\"docutils literal notranslate\"><span class=\"pre\">DataFrame</span></code> only has a single data type for all the\n",
    "columns, <a class=\"reference internal\" href=\"../reference/api/pandas.DataFrame.to_numpy.html#pandas.DataFrame.to_numpy\" title=\"pandas.DataFrame.to_numpy\"><code class=\"xref py py-meth docutils literal notranslate\"><span class=\"pre\">DataFrame.to_numpy()</span></code></a> will return the underlying data:</p>"
   ]
  },
  {
   "cell_type": "code",
   "execution_count": null,
   "metadata": {},
   "outputs": [],
   "source": [
    "df.to_numpy()"
   ]
  },
  {
   "cell_type": "markdown",
   "metadata": {},
   "source": [
    "<p>If a DataFrame contains homogeneously-typed data, the ndarray can\n",
    "actually be modified in-place, and the changes will be reflected in the data\n",
    "structure. For heterogeneous data (e.g. some of the DataFrame’s columns are not\n",
    "all the same dtype), this will not be the case. The values attribute itself,\n",
    "unlike the axis labels, cannot be assigned to.</p>"
   ]
  },
  {
   "cell_type": "markdown",
   "metadata": {},
   "source": [
    "<div class=\"admonition note\">\n",
    "<p class=\"admonition-title\">Note</p>\n",
    "<p>When working with heterogeneous data, the dtype of the resulting ndarray\n",
    "will be chosen to accommodate all of the data involved. For example, if\n",
    "strings are involved, the result will be of object dtype. If there are only\n",
    "floats and integers, the resulting array will be of float dtype.</p>\n",
    "</div>"
   ]
  },
  {
   "cell_type": "markdown",
   "metadata": {},
   "source": [
    "<p>In the past, pandas recommended <a class=\"reference internal\" href=\"../reference/api/pandas.Series.values.html#pandas.Series.values\" title=\"pandas.Series.values\"><code class=\"xref py py-attr docutils literal notranslate\"><span class=\"pre\">Series.values</span></code></a> or <a class=\"reference internal\" href=\"../reference/api/pandas.DataFrame.values.html#pandas.DataFrame.values\" title=\"pandas.DataFrame.values\"><code class=\"xref py py-attr docutils literal notranslate\"><span class=\"pre\">DataFrame.values</span></code></a>\n",
    "for extracting the data from a Series or DataFrame. You’ll still find references\n",
    "to these in old code bases and online. Going forward, we recommend avoiding\n",
    "<code class=\"docutils literal notranslate\"><span class=\"pre\">.values</span></code> and using <code class=\"docutils literal notranslate\"><span class=\"pre\">.array</span></code> or <code class=\"docutils literal notranslate\"><span class=\"pre\">.to_numpy()</span></code>. <code class=\"docutils literal notranslate\"><span class=\"pre\">.values</span></code> has the following\n",
    "drawbacks:</p>"
   ]
  },
  {
   "cell_type": "markdown",
   "metadata": {},
   "source": [
    "<ol class=\"arabic simple\">\n",
    "<li><p>When your Series contains an <a class=\"reference internal\" href=\"../development/extending.html#extending-extension-types\"><span class=\"std std-ref\">extension type</span></a>, it’s\n",
    "unclear whether <a class=\"reference internal\" href=\"../reference/api/pandas.Series.values.html#pandas.Series.values\" title=\"pandas.Series.values\"><code class=\"xref py py-attr docutils literal notranslate\"><span class=\"pre\">Series.values</span></code></a> returns a NumPy array or the extension array.\n",
    "<a class=\"reference internal\" href=\"../reference/api/pandas.Series.array.html#pandas.Series.array\" title=\"pandas.Series.array\"><code class=\"xref py py-attr docutils literal notranslate\"><span class=\"pre\">Series.array</span></code></a> will always return an <a class=\"reference internal\" href=\"../reference/api/pandas.api.extensions.ExtensionArray.html#pandas.api.extensions.ExtensionArray\" title=\"pandas.api.extensions.ExtensionArray\"><code class=\"xref py py-class docutils literal notranslate\"><span class=\"pre\">ExtensionArray</span></code></a>, and will never\n",
    "copy data. <a class=\"reference internal\" href=\"../reference/api/pandas.Series.to_numpy.html#pandas.Series.to_numpy\" title=\"pandas.Series.to_numpy\"><code class=\"xref py py-meth docutils literal notranslate\"><span class=\"pre\">Series.to_numpy()</span></code></a> will always return a NumPy array,\n",
    "potentially at the cost of copying / coercing values.</p></li>\n",
    "<li><p>When your DataFrame contains a mixture of data types, <a class=\"reference internal\" href=\"../reference/api/pandas.DataFrame.values.html#pandas.DataFrame.values\" title=\"pandas.DataFrame.values\"><code class=\"xref py py-attr docutils literal notranslate\"><span class=\"pre\">DataFrame.values</span></code></a> may\n",
    "involve copying data and coercing values to a common dtype, a relatively expensive\n",
    "operation. <a class=\"reference internal\" href=\"../reference/api/pandas.DataFrame.to_numpy.html#pandas.DataFrame.to_numpy\" title=\"pandas.DataFrame.to_numpy\"><code class=\"xref py py-meth docutils literal notranslate\"><span class=\"pre\">DataFrame.to_numpy()</span></code></a>, being a method, makes it clearer that the\n",
    "returned NumPy array may not be a view on the same data in the DataFrame.</p></li>\n",
    "</ol>"
   ]
  },
  {
   "cell_type": "markdown",
   "metadata": {},
   "source": [
    "<section id=\"accelerated-operations\">\n",
    "<span id=\"basics-accelerate\"></span><h2>Accelerated operations<a class=\"headerlink\" href=\"#accelerated-operations\" title=\"Permalink to this headline\">¶</a></h2>\n",
    "<p>pandas has support for accelerating certain types of binary numerical and boolean operations using\n",
    "the <code class=\"docutils literal notranslate\"><span class=\"pre\">numexpr</span></code> library and the <code class=\"docutils literal notranslate\"><span class=\"pre\">bottleneck</span></code> libraries.</p>\n",
    "<p>These libraries are especially useful when dealing with large data sets, and provide large\n",
    "speedups. <code class=\"docutils literal notranslate\"><span class=\"pre\">numexpr</span></code> uses smart chunking, caching, and multiple cores. <code class=\"docutils literal notranslate\"><span class=\"pre\">bottleneck</span></code> is\n",
    "a set of specialized cython routines that are especially fast when dealing with arrays that have\n",
    "<code class=\"docutils literal notranslate\"><span class=\"pre\">nans</span></code>.</p>\n",
    "<p>Here is a sample (using 100 column x 100,000 row <code class=\"docutils literal notranslate\"><span class=\"pre\">DataFrames</span></code>):</p>\n",
    "<table class=\"colwidths-given table\">\n",
    "<colgroup>\n",
    "<col style=\"width: 25%\">\n",
    "<col style=\"width: 25%\">\n",
    "<col style=\"width: 25%\">\n",
    "<col style=\"width: 25%\">\n",
    "</colgroup>\n",
    "<thead>\n",
    "<tr class=\"row-odd\"><th class=\"head\"><p>Operation</p></th>\n",
    "<th class=\"head\"><p>0.11.0 (ms)</p></th>\n",
    "<th class=\"head\"><p>Prior Version (ms)</p></th>\n",
    "<th class=\"head\"><p>Ratio to Prior</p></th>\n",
    "</tr>\n",
    "</thead>\n",
    "<tbody>\n",
    "<tr class=\"row-even\"><td><p><code class=\"docutils literal notranslate\"><span class=\"pre\">df1</span> <span class=\"pre\">&gt;</span> <span class=\"pre\">df2</span></code></p></td>\n",
    "<td><p>13.32</p></td>\n",
    "<td><p>125.35</p></td>\n",
    "<td><p>0.1063</p></td>\n",
    "</tr>\n",
    "<tr class=\"row-odd\"><td><p><code class=\"docutils literal notranslate\"><span class=\"pre\">df1</span> <span class=\"pre\">*</span> <span class=\"pre\">df2</span></code></p></td>\n",
    "<td><p>21.71</p></td>\n",
    "<td><p>36.63</p></td>\n",
    "<td><p>0.5928</p></td>\n",
    "</tr>\n",
    "<tr class=\"row-even\"><td><p><code class=\"docutils literal notranslate\"><span class=\"pre\">df1</span> <span class=\"pre\">+</span> <span class=\"pre\">df2</span></code></p></td>\n",
    "<td><p>22.04</p></td>\n",
    "<td><p>36.50</p></td>\n",
    "<td><p>0.6039</p></td>\n",
    "</tr>\n",
    "</tbody>\n",
    "</table>\n",
    "<p>You are highly encouraged to install both libraries. See the section\n",
    "<a class=\"reference internal\" href=\"../getting_started/install.html#install-recommended-dependencies\"><span class=\"std std-ref\">Recommended Dependencies</span></a> for more installation info.</p>\n",
    "<p>These are both enabled to be used by default, you can control this by setting the options:</p>\n",
    "<div class=\"highlight-python notranslate\"><div class=\"highlight\"><pre><span></span><span class=\"n\">pd</span><span class=\"o\">.</span><span class=\"n\">set_option</span><span class=\"p\">(</span><span class=\"s2\">\"compute.use_bottleneck\"</span><span class=\"p\">,</span> <span class=\"kc\">False</span><span class=\"p\">)</span>\n",
    "<span class=\"n\">pd</span><span class=\"o\">.</span><span class=\"n\">set_option</span><span class=\"p\">(</span><span class=\"s2\">\"compute.use_numexpr\"</span><span class=\"p\">,</span> <span class=\"kc\">False</span><span class=\"p\">)</span>\n",
    "</pre></div>\n",
    "</div>\n",
    "</section>"
   ]
  },
  {
   "cell_type": "code",
   "execution_count": null,
   "metadata": {},
   "outputs": [],
   "source": [
    "pd.set_option(\"compute.use_bottleneck\", False)\n",
    "pd.set_option(\"compute.use_numexpr\", False)"
   ]
  },
  {
   "cell_type": "markdown",
   "metadata": {},
   "source": [
    "## Flexible binary operations"
   ]
  },
  {
   "cell_type": "markdown",
   "metadata": {},
   "source": [
    "<p>With binary operations between pandas data structures, there are two key points\n",
    "of interest:</p>\n",
    "\n",
    "<ul class=\"simple\">\n",
    "<li><p>Broadcasting behavior between higher- (e.g. DataFrame) and\n",
    "lower-dimensional (e.g. Series) objects.</p></li>\n",
    "<li><p>Missing data in computations.</p></li>\n",
    "</ul>\n",
    "\n",
    "<p>We will demonstrate how to manage these issues independently, though they can\n",
    "be handled simultaneously.</p>"
   ]
  },
  {
   "cell_type": "markdown",
   "metadata": {},
   "source": [
    "### Matching / broadcasting behavior"
   ]
  },
  {
   "cell_type": "markdown",
   "metadata": {},
   "source": [
    "<p>DataFrame has the methods <a class=\"reference internal\" href=\"../reference/api/pandas.DataFrame.add.html#pandas.DataFrame.add\" title=\"pandas.DataFrame.add\"><code class=\"xref py py-meth docutils literal notranslate\"><span class=\"pre\">add()</span></code></a>, <a class=\"reference internal\" href=\"../reference/api/pandas.DataFrame.sub.html#pandas.DataFrame.sub\" title=\"pandas.DataFrame.sub\"><code class=\"xref py py-meth docutils literal notranslate\"><span class=\"pre\">sub()</span></code></a>,\n",
    "<a class=\"reference internal\" href=\"../reference/api/pandas.DataFrame.mul.html#pandas.DataFrame.mul\" title=\"pandas.DataFrame.mul\"><code class=\"xref py py-meth docutils literal notranslate\"><span class=\"pre\">mul()</span></code></a>, <a class=\"reference internal\" href=\"../reference/api/pandas.DataFrame.div.html#pandas.DataFrame.div\" title=\"pandas.DataFrame.div\"><code class=\"xref py py-meth docutils literal notranslate\"><span class=\"pre\">div()</span></code></a> and related functions\n",
    "<a class=\"reference internal\" href=\"../reference/api/pandas.DataFrame.radd.html#pandas.DataFrame.radd\" title=\"pandas.DataFrame.radd\"><code class=\"xref py py-meth docutils literal notranslate\"><span class=\"pre\">radd()</span></code></a>, <a class=\"reference internal\" href=\"../reference/api/pandas.DataFrame.rsub.html#pandas.DataFrame.rsub\" title=\"pandas.DataFrame.rsub\"><code class=\"xref py py-meth docutils literal notranslate\"><span class=\"pre\">rsub()</span></code></a>, …\n",
    "for carrying out binary operations. For broadcasting behavior,\n",
    "Series input is of primary interest. Using these functions, you can use to\n",
    "either match on the <em>index</em> or <em>columns</em> via the <strong>axis</strong> keyword:</p>"
   ]
  },
  {
   "cell_type": "code",
   "execution_count": null,
   "metadata": {},
   "outputs": [],
   "source": [
    "df = pd.DataFrame({\n",
    "    \"one\": pd.Series(np.random.randn(3), index=[\"a\", \"b\", \"c\"]),\n",
    "    \"two\": pd.Series(np.random.randn(4), index=[\"a\", \"b\", \"c\", \"d\"]),\n",
    "    \"three\": pd.Series(np.random.randn(3), index=[\"b\", \"c\", \"d\"]),\n",
    "})"
   ]
  },
  {
   "cell_type": "code",
   "execution_count": null,
   "metadata": {},
   "outputs": [],
   "source": [
    "df"
   ]
  },
  {
   "cell_type": "code",
   "execution_count": null,
   "metadata": {},
   "outputs": [],
   "source": [
    "row = df.iloc[1]"
   ]
  },
  {
   "cell_type": "code",
   "execution_count": null,
   "metadata": {},
   "outputs": [],
   "source": [
    "column = df[\"two\"]"
   ]
  },
  {
   "cell_type": "code",
   "execution_count": null,
   "metadata": {},
   "outputs": [],
   "source": [
    "df.sub(row, axis=\"columns\")"
   ]
  },
  {
   "cell_type": "code",
   "execution_count": null,
   "metadata": {},
   "outputs": [],
   "source": [
    "df.sub(row, axis=1)"
   ]
  },
  {
   "cell_type": "code",
   "execution_count": null,
   "metadata": {},
   "outputs": [],
   "source": [
    "df.sub(column, axis=\"index\")"
   ]
  },
  {
   "cell_type": "code",
   "execution_count": null,
   "metadata": {},
   "outputs": [],
   "source": [
    "df.sub(column,axis=0)"
   ]
  },
  {
   "cell_type": "markdown",
   "metadata": {},
   "source": [
    "<p>Furthermore you can align a level of a MultiIndexed DataFrame with a Series.</p>"
   ]
  },
  {
   "cell_type": "code",
   "execution_count": null,
   "metadata": {},
   "outputs": [],
   "source": [
    "dfmi = df.copy()"
   ]
  },
  {
   "cell_type": "code",
   "execution_count": null,
   "metadata": {},
   "outputs": [],
   "source": [
    "dfmi.index = pd.MultiIndex.from_tuples([(1, \"a\"), (1, \"b\"), (1, \"c\"), (2, \"a\")], names=[\"first\", \"second\"])"
   ]
  },
  {
   "cell_type": "code",
   "execution_count": null,
   "metadata": {},
   "outputs": [],
   "source": [
    "dfmi"
   ]
  },
  {
   "cell_type": "code",
   "execution_count": null,
   "metadata": {},
   "outputs": [],
   "source": [
    "dfmi.sub(column, axis=0, level=\"second\")"
   ]
  },
  {
   "cell_type": "markdown",
   "metadata": {},
   "source": [
    "<p>Series and Index also support the <a class=\"reference external\" href=\"https://docs.python.org/3/library/functions.html#divmod\" title=\"(in Python v3.10)\"><code class=\"xref py py-func docutils literal notranslate\"><span class=\"pre\">divmod()</span></code></a> builtin. This function takes\n",
    "the floor division and modulo operation at the same time returning a two-tuple\n",
    "of the same type as the left hand side. For example:</p>"
   ]
  },
  {
   "cell_type": "code",
   "execution_count": null,
   "metadata": {},
   "outputs": [],
   "source": [
    "s = pd.Series(np.arange(10))"
   ]
  },
  {
   "cell_type": "code",
   "execution_count": null,
   "metadata": {},
   "outputs": [],
   "source": [
    "s"
   ]
  },
  {
   "cell_type": "code",
   "execution_count": null,
   "metadata": {},
   "outputs": [],
   "source": [
    "div, rem = divmod(s, 3)"
   ]
  },
  {
   "cell_type": "code",
   "execution_count": null,
   "metadata": {},
   "outputs": [],
   "source": [
    "div"
   ]
  },
  {
   "cell_type": "code",
   "execution_count": null,
   "metadata": {},
   "outputs": [],
   "source": [
    "rem"
   ]
  },
  {
   "cell_type": "code",
   "execution_count": null,
   "metadata": {},
   "outputs": [],
   "source": [
    "idx = pd.Index(np.arange(10))"
   ]
  },
  {
   "cell_type": "code",
   "execution_count": null,
   "metadata": {},
   "outputs": [],
   "source": [
    "idx"
   ]
  },
  {
   "cell_type": "code",
   "execution_count": null,
   "metadata": {},
   "outputs": [],
   "source": [
    "div, rem = divmod(idx, 3)"
   ]
  },
  {
   "cell_type": "code",
   "execution_count": null,
   "metadata": {},
   "outputs": [],
   "source": [
    "div"
   ]
  },
  {
   "cell_type": "code",
   "execution_count": null,
   "metadata": {},
   "outputs": [],
   "source": [
    "rem"
   ]
  },
  {
   "cell_type": "markdown",
   "metadata": {},
   "source": [
    "<p>We can also do elementwise <a class=\"reference external\" href=\"https://docs.python.org/3/library/functions.html#divmod\" title=\"(in Python v3.10)\"><code class=\"xref py py-func docutils literal notranslate\"><span class=\"pre\">divmod()</span></code></a>:</p>"
   ]
  },
  {
   "cell_type": "code",
   "execution_count": null,
   "metadata": {},
   "outputs": [],
   "source": [
    "div, rem = divmod(s, [2, 2, 3, 3, 4, 4, 5, 5, 6, 6])"
   ]
  },
  {
   "cell_type": "code",
   "execution_count": null,
   "metadata": {},
   "outputs": [],
   "source": [
    "div"
   ]
  },
  {
   "cell_type": "code",
   "execution_count": null,
   "metadata": {},
   "outputs": [],
   "source": [
    "rem"
   ]
  },
  {
   "cell_type": "markdown",
   "metadata": {},
   "source": [
    "### Missing data / operations with fill values"
   ]
  },
  {
   "cell_type": "markdown",
   "metadata": {},
   "source": [
    "<p>In Series and DataFrame, the arithmetic functions have the option of inputting\n",
    "a <em>fill_value</em>, namely a value to substitute when at most one of the values at\n",
    "a location are missing. For example, when adding two DataFrame objects, you may\n",
    "wish to treat NaN as 0 unless both DataFrames are missing that value, in which\n",
    "case the result will be NaN (you can later replace NaN with some other value\n",
    "using <code class=\"docutils literal notranslate\"><span class=\"pre\">fillna</span></code> if you wish).</p>"
   ]
  },
  {
   "cell_type": "code",
   "execution_count": null,
   "metadata": {},
   "outputs": [],
   "source": [
    "df"
   ]
  },
  {
   "cell_type": "code",
   "execution_count": null,
   "metadata": {},
   "outputs": [],
   "source": [
    "df2 = df.fillna(1)"
   ]
  },
  {
   "cell_type": "code",
   "execution_count": null,
   "metadata": {},
   "outputs": [],
   "source": [
    "df2"
   ]
  },
  {
   "cell_type": "code",
   "execution_count": null,
   "metadata": {},
   "outputs": [],
   "source": [
    "df+df2"
   ]
  },
  {
   "cell_type": "code",
   "execution_count": null,
   "metadata": {},
   "outputs": [],
   "source": [
    "df.add(df2, fill_value=0)"
   ]
  },
  {
   "cell_type": "code",
   "execution_count": null,
   "metadata": {},
   "outputs": [],
   "source": []
  }
 ],
 "metadata": {
  "colab": {
   "authorship_tag": "ABX9TyMtJM2NOi/5VNmGmmefUJdg",
   "include_colab_link": true,
   "name": "pandas_003_Essential_basic_functionality.ipynb",
   "private_outputs": true,
   "provenance": []
  },
  "kernelspec": {
   "display_name": "Python 3 (ipykernel)",
   "language": "python",
   "name": "python3"
  },
  "language_info": {
   "codemirror_mode": {
    "name": "ipython",
    "version": 3
   },
   "file_extension": ".py",
   "mimetype": "text/x-python",
   "name": "python",
   "nbconvert_exporter": "python",
   "pygments_lexer": "ipython3",
   "version": "3.9.2"
  }
 },
 "nbformat": 4,
 "nbformat_minor": 4
}
